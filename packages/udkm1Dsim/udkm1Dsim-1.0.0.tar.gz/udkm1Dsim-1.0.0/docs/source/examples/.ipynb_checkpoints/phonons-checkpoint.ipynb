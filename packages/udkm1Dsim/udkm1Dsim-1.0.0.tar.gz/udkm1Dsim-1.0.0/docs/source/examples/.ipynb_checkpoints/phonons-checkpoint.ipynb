{
 "cells": [
  {
   "cell_type": "markdown",
   "metadata": {},
   "source": [
    "# Phonons\n",
    "\n",
    "In this example coherent acoustic phonon dynamics are calculated accroding to the results of the `heat` simulations."
   ]
  },
  {
   "cell_type": "markdown",
   "metadata": {},
   "source": [
    "## Setup\n",
    "\n",
    "Do all necessary imports and settings."
   ]
  },
  {
   "cell_type": "code",
   "execution_count": 2,
   "metadata": {},
   "outputs": [],
   "source": [
    "import udkm1Dsim as ud\n",
    "u = ud.u #  import the pint unit registry from udkm1Dsim\n",
    "import scipy.constants as constants\n",
    "import numpy as np\n",
    "import matplotlib.pyplot as plt\n",
    "%matplotlib inline\n",
    "u.setup_matplotlib() #  use matplotlib with pint units"
   ]
  },
  {
   "cell_type": "markdown",
   "metadata": {},
   "source": [
    "## Structure\n",
    "\n",
    "Refere to the [structure-example](structure.ipynb) for more details."
   ]
  },
  {
   "cell_type": "code",
   "execution_count": 4,
   "metadata": {},
   "outputs": [],
   "source": [
    "O = ud.Atom('O')\n",
    "Ti = ud.Atom('Ti')\n",
    "Sr = ud.Atom('Sr')\n",
    "Ru = ud.Atom('Ru')\n",
    "Pb = ud.Atom('Pb')\n",
    "Zr = ud.Atom('Zr')"
   ]
  },
  {
   "cell_type": "code",
   "execution_count": 5,
   "metadata": {},
   "outputs": [],
   "source": [
    "# c-axis lattice constants of the two layers\n",
    "c_STO_sub = 3.905*u.angstrom\n",
    "c_SRO = 3.94897*u.angstrom\n",
    "# sound velocities [nm/ps] of the two layers\n",
    "sv_SRO = 6.312*u.nm/u.ps\n",
    "sv_STO = 7.800*u.nm/u.ps\n",
    "\n",
    "# SRO layer\n",
    "prop_SRO = {}\n",
    "prop_SRO['a_axis'] = c_STO_sub # aAxis\n",
    "prop_SRO['b_axis'] = c_STO_sub # bAxis\n",
    "prop_SRO['deb_Wal_Fac'] = 0 # Debye-Waller factor\n",
    "prop_SRO['sound_vel'] = sv_SRO # sound velocity\n",
    "prop_SRO['opt_ref_index'] = 2.44+4.32j\n",
    "prop_SRO['therm_cond'] = 5.72*u.W/(u.m *u.K) # heat conductivity\n",
    "prop_SRO['lin_therm_exp'] = 1.03e-5 # linear thermal expansion\n",
    "prop_SRO['heat_capacity'] = 'lambda T: 455.2 + 0.112*T - 2.1935e6/T**2' # heat capacity [J/kg K]\n",
    "\n",
    "SRO = ud.UnitCell('SRO', 'Strontium Ruthenate', c_SRO, **prop_SRO)\n",
    "SRO.add_atom(O, 0)\n",
    "SRO.add_atom(Sr, 0)\n",
    "SRO.add_atom(O, 0.5)\n",
    "SRO.add_atom(O, 0.5)\n",
    "SRO.add_atom(Ru, 0.5)\n",
    "\n",
    "# STO substrate\n",
    "prop_STO_sub = {}\n",
    "prop_STO_sub['a_axis'] = c_STO_sub # aAxis\n",
    "prop_STO_sub['b_axis'] = c_STO_sub # bAxis\n",
    "prop_STO_sub['deb_Wal_Fac'] = 0 # Debye-Waller factor\n",
    "prop_STO_sub['sound_vel'] = sv_STO # sound velocity\n",
    "prop_STO_sub['opt_ref_index'] = 2.1+0j\n",
    "prop_STO_sub['therm_cond'] = 12*u.W/(u.m *u.K) # heat conductivity\n",
    "prop_STO_sub['lin_therm_exp'] = 1e-5 # linear thermal expansion\n",
    "prop_STO_sub['heat_capacity'] = 'lambda T: 733.73 + 0.0248*T - 6.531e6/T**2' # heat capacity [J/kg K]\n",
    "    \n",
    "STO_sub = ud.UnitCell('STOsub', 'Strontium Titanate Substrate', c_STO_sub, **prop_STO_sub)\n",
    "STO_sub.add_atom(O, 0)\n",
    "STO_sub.add_atom(Sr, 0)\n",
    "STO_sub.add_atom(O, 0.5)\n",
    "STO_sub.add_atom(O, 0.5)\n",
    "STO_sub.add_atom(Ti, 0.5)"
   ]
  },
  {
   "cell_type": "code",
   "execution_count": 7,
   "metadata": {},
   "outputs": [],
   "source": [
    "S = ud.Structure('Single Layer')\n",
    "S.add_sub_structure(SRO, 100) # add 100 layers of SRO to sample\n",
    "S.add_sub_structure(STO_sub, 1000) # add 1000 layers of STO substrate"
   ]
  },
  {
   "cell_type": "markdown",
   "metadata": {},
   "source": [
    "## Heat\n",
    "\n",
    "Refere to the [heat-example](heat.ipynb) for more details."
   ]
  },
  {
   "cell_type": "code",
   "execution_count": 23,
   "metadata": {},
   "outputs": [],
   "source": [
    "h = ud.Heat(S, True)\n",
    "\n",
    "h.save_data = False\n",
    "h.disp_messages = True\n",
    "\n",
    "h.excitation = {'fluence': [5]*u.mJ/u.cm**2,\n",
    "                'delay_pump':  [0]*u.ps,\n",
    "                'pulse_width':  [0]*u.ps,\n",
    "                'multilayer_absorption': True,\n",
    "                'wavelength': 800*u.nm,\n",
    "                'theta': 45*u.deg}\n",
    "\n",
    "# temporal and spatial grid\n",
    "delays = np.r_[-10:40:0.1]*u.ps\n",
    "_, _, distances = S.get_distances_of_layers()"
   ]
  },
  {
   "cell_type": "code",
   "execution_count": 24,
   "metadata": {},
   "outputs": [
    {
     "name": "stdout",
     "output_type": "stream",
     "text": [
      "Elapsed time for _temperature_after_delta_excitation_: 0.037931 s\n",
      "Elapsed time for _temp_map_: 0.105053 s\n"
     ]
    }
   ],
   "source": [
    "temp_map, delta_temp_map = h.get_temp_map(delays, 300*u.K)"
   ]
  },
  {
   "cell_type": "code",
   "execution_count": 28,
   "metadata": {},
   "outputs": [
    {
     "data": {
      "image/png": "[encoded data removed]",
      "text/plain": [
       "<Figure size 432x576 with 3 Axes>"
      ]
     },
     "metadata": {
      "needs_background": "light"
     },
     "output_type": "display_data"
    }
   ],
   "source": [
    "plt.figure(figsize=[6, 8])\n",
    "plt.subplot(2, 1, 1)\n",
    "plt.plot(distances.to('nm').magnitude, temp_map[101, :])\n",
    "plt.xlim([0, distances.to('nm').magnitude[-1]])\n",
    "plt.xlabel('Distance [nm]')\n",
    "plt.ylabel('Temperature [K]')\n",
    "plt.title('Temperature Profile')\n",
    "\n",
    "plt.subplot(2, 1, 2)\n",
    "plt.pcolormesh(distances.to('nm').magnitude, delays.to('ps').magnitude, temp_map)\n",
    "plt.colorbar()\n",
    "plt.xlabel('Distance [nm]')\n",
    "plt.ylabel('Delay [ps]')\n",
    "plt.title('Temperature Map')\n",
    "\n",
    "plt.tight_layout()\n",
    "plt.show()"
   ]
  },
  {
   "cell_type": "markdown",
   "metadata": {},
   "source": [
    "## Initialize Numerical Phonons\n",
    "\n",
    "The `PhononNum` class requires a `Structure` object and a boolean `force_recalc` in order overwrite previous simulation results.\n",
    "\n",
    "These results are saved in the `cache_dir` when `save_data` is enabled.\n",
    "Printing simulation messages can be en-/disabled using `disp_messages` and progress bars can using the boolean switch `progress_bar`."
   ]
  },
  {
   "cell_type": "code",
   "execution_count": 25,
   "metadata": {},
   "outputs": [],
   "source": [
    "p = ud.PhononNum(S, True)\n",
    "p.save_data = False\n",
    "p.disp_messages = True"
   ]
  },
  {
   "cell_type": "markdown",
   "metadata": {},
   "source": [
    "The actual calculation is done in one line:"
   ]
  },
  {
   "cell_type": "code",
   "execution_count": 26,
   "metadata": {},
   "outputs": [
    {
     "name": "stdout",
     "output_type": "stream",
     "text": [
      "Calculating linear thermal expansion ...\n",
      "Calculating coherent dynamics with ODE solver ...\n"
     ]
    },
    {
     "data": {
      "application/vnd.jupyter.widget-view+json": {
       "model_id": "b29ea4f48c79404b8dd948d30ef237e0",
       "version_major": 2,
       "version_minor": 0
      },
      "text/plain": [
       "HBox(children=(FloatProgress(value=1.0, bar_style='info', max=1.0), HTML(value='')))"
      ]
     },
     "metadata": {},
     "output_type": "display_data"
    },
    {
     "name": "stdout",
     "output_type": "stream",
     "text": [
      "\n",
      "Elapsed time for _strain_map_: 1.364981 s\n"
     ]
    }
   ],
   "source": [
    "strain_map = p.get_strain_map(delays, temp_map, delta_temp_map)"
   ]
  },
  {
   "cell_type": "code",
   "execution_count": 33,
   "metadata": {},
   "outputs": [
    {
     "ename": "SyntaxError",
     "evalue": "invalid syntax (<ipython-input-33-07f81a6da3fe>, line 5)",
     "output_type": "error",
     "traceback": [
      "\u001b[1;36m  File \u001b[1;32m\"<ipython-input-33-07f81a6da3fe>\"\u001b[1;36m, line \u001b[1;32m5\u001b[0m\n\u001b[1;33m    plt.plot(distances.to('nm').magnitude, strain_map[350, :],\u001b[0m\n\u001b[1;37m      ^\u001b[0m\n\u001b[1;31mSyntaxError\u001b[0m\u001b[1;31m:\u001b[0m invalid syntax\n"
     ]
    }
   ],
   "source": [
    "plt.figure(figsize=[6, 8])\n",
    "plt.subplot(2, 1, 1)\n",
    "plt.plot(distances.to('nm').magnitude, strain_map[150, :],\n",
    "         label=np.round(delays[150])\n",
    "plt.plot(distances.to('nm').magnitude, strain_map[350, :],\n",
    "         label=np.round(delays[350])\n",
    "plt.xlim([0, distances.to('nm').magnitude[-1]])\n",
    "plt.xlabel('Distance [nm]')\n",
    "plt.ylabel('Strain')\n",
    "plt.legend()\n",
    "plt.title('Strain Profile')\n",
    "\n",
    "plt.subplot(2, 1, 2)\n",
    "plt.pcolormesh(distances.to('nm').magnitude, delays.to('ps').magnitude,\n",
    "               strain_map, cmap='RdBu',\n",
    "               vmin=-np.max(strain_map), vmax=np.max(strain_map))\n",
    "plt.colorbar()\n",
    "plt.xlabel('Distance [nm]')\n",
    "plt.ylabel('Delay [ps]')\n",
    "plt.title('Strain Map')\n",
    "\n",
    "plt.tight_layout()\n",
    "plt.show()"
   ]
  },
  {
   "cell_type": "code",
   "execution_count": null,
   "metadata": {},
   "outputs": [],
   "source": []
  }
 ],
 "metadata": {
  "kernelspec": {
   "display_name": "Python 3",
   "language": "python",
   "name": "python3"
  },
  "language_info": {
   "codemirror_mode": {
    "name": "ipython",
    "version": 3
   },
   "file_extension": ".py",
   "mimetype": "text/x-python",
   "name": "python",
   "nbconvert_exporter": "python",
   "pygments_lexer": "ipython3",
   "version": "3.7.7"
  }
 },
 "nbformat": 4,
 "nbformat_minor": 4
}
