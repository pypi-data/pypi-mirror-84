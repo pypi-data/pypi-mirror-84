{
 "cells": [
  {
   "cell_type": "markdown",
   "metadata": {},
   "source": [
    "<img width=\"50\" src=\"https://carbonplan-assets.s3.amazonaws.com/monogram/dark-small.png\" style=\"margin-left:0px;margin-top:20px\"/>\n",
    "\n",
    "# Biophysical model\n",
    "\n",
    "_by Oriana Chegwidden (CarbonPlan), October 28, 2020_\n",
    "\n",
    "This notebook combines biophysical effects (e.g. albedo) from the literature\n",
    "with the National Land Cover Dataset (NLCD) classification types to create a\n",
    "layer of albedo effects due to forests. This answers the question: \"How much\n",
    "(roughly) do existing forests affect the climate by absorbing radiation?\"\n"
   ]
  },
  {
   "cell_type": "code",
   "execution_count": null,
   "metadata": {},
   "outputs": [],
   "source": [
    "import numpy as np\n",
    "import pandas as pd\n",
    "import xarray as xr\n",
    "from carbonplan_forests import load\n",
    "import zarr\n",
    "import os"
   ]
  },
  {
   "cell_type": "markdown",
   "metadata": {},
   "source": [
    "First we load in the biophysical effects of trees on radiation (in units of [W\n",
    "m-2]). These estimates were derived by digitizing Figure S3 in Anderson-Teixeira\n",
    "et al (2012) DOI:10.1038/NCLIMATE1346. The second column includes the\n",
    "corresponding NLCD classification for each of the biome regions in Figure S3.\n"
   ]
  },
  {
   "cell_type": "code",
   "execution_count": null,
   "metadata": {},
   "outputs": [],
   "source": [
    "conversion = pd.read_csv(\n",
    "    \"../../carbonplan_forests/data/nlcd_albedo_conversions.csv\"\n",
    ")"
   ]
  },
  {
   "cell_type": "markdown",
   "metadata": {},
   "source": [
    "Then we load in a sample NLCD classification type to use as a template so that\n",
    "the albedo dataset we make is consistently-shaped with all the other datasets\n",
    "we're using.\n"
   ]
  },
  {
   "cell_type": "code",
   "execution_count": null,
   "metadata": {},
   "outputs": [],
   "source": [
    "nlcd_types_sample = load.nlcd(store=\"az\", year=2016, classes=[41])\n",
    "biophysical_effect = xr.zeros_like(nlcd_types_sample)"
   ]
  },
  {
   "cell_type": "markdown",
   "metadata": {},
   "source": [
    "Each of the NLCD layers corresponds to a fractional coverage of each gridcell by\n",
    "a given land cover classification. So, by multiplying each of the fractions by\n",
    "the corresponding albedo effect we get the weighted portion of albedo effect\n",
    "from that land cover type. When we then sum them all together we get an\n",
    "aerally-averaged albedo impact of forests for each gridcell. So, for example, if\n",
    "a gridcell has very little forest it will have a very low average albedo effect,\n",
    "even if that type of forest has a high albedo effect. Because two of the biomes\n",
    "in the albedo dataset corresponded to the same NLCD classification, we averaged\n",
    "those two biophysical effects in the calculation.\n"
   ]
  },
  {
   "cell_type": "code",
   "execution_count": null,
   "metadata": {},
   "outputs": [],
   "source": [
    "for classification in conversion[\"nlcd classification\"].values:\n",
    "    # If more than one effect corresponds to an NLCD classification\n",
    "    # we use the mean of those effects.\n",
    "    biphysical_effect_value = np.mean(\n",
    "        conversion[\"biophysical effect (ecosystem - \" \"bare ground) [W m-2]\"][\n",
    "            conversion[\"nlcd classification\"] == classification\n",
    "        ]\n",
    "    )\n",
    "    biophysical_effect += (\n",
    "        load.nlcd(store=\"az\", year=2016, classes=[classification])\n",
    "        * biphysical_effect_value\n",
    "    )"
   ]
  },
  {
   "cell_type": "markdown",
   "metadata": {},
   "source": [
    "We then mask out oceans (based upon the NCLD landcover), package it into a\n",
    "dataset, and write it out as a zarr file to the CarbonPlan data bucket.\n"
   ]
  },
  {
   "cell_type": "code",
   "execution_count": null,
   "metadata": {},
   "outputs": [],
   "source": [
    "nlcd_types_mask = load.nlcd(store=\"az\", year=2016, classes=\"all\")\n",
    "\n",
    "ds = biophysical_effect.where(nlcd_types_mask).to_dataset(name=\"biophysical\")\n",
    "\n",
    "store2 = zarr.storage.ABSStore(\n",
    "    \"carbonplan-data\",\n",
    "    prefix=\"biophysical/biophysical.zarr\",\n",
    "    account_name=\"carbonplan\",\n",
    "    account_key=os.environ[\"BLOB_ACCOUNT_KEY\"],\n",
    ")\n",
    "\n",
    "ds.to_zarr(store2, consolidated=True, mode=\"w\")"
   ]
  }
 ],
 "metadata": {
  "kernelspec": {
   "display_name": "Python [conda env:notebook] *",
   "language": "python",
   "name": "conda-env-notebook-py"
  },
  "language_info": {
   "codemirror_mode": {
    "name": "ipython",
    "version": 3
   },
   "file_extension": ".py",
   "mimetype": "text/x-python",
   "name": "python",
   "nbconvert_exporter": "python",
   "pygments_lexer": "ipython3",
   "version": "3.7.8"
  }
 },
 "nbformat": 4,
 "nbformat_minor": 4
}
