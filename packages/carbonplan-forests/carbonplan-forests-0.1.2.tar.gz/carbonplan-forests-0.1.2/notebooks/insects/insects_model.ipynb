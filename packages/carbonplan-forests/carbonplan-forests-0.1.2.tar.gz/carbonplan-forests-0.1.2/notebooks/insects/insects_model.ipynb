{
 "cells": [
  {
   "cell_type": "markdown",
   "metadata": {},
   "source": [
    "<img width=\"50\" src=\"https://carbonplan-assets.s3.amazonaws.com/monogram/dark-small.png\" style=\"margin-left:0px;margin-top:20px\"/>\n",
    "\n",
    "# FIA Insect Model\n",
    "\n",
    "_by Jeremy Freeman (CarbonPlan), October 26, 2020_\n",
    "\n",
    "This notebook demos insect modelling.\n"
   ]
  },
  {
   "cell_type": "code",
   "execution_count": null,
   "metadata": {},
   "outputs": [],
   "source": [
    "import numpy as np\n",
    "import pandas as pd\n",
    "from carbonplan_forests import setup, plot, load, fit, utils, prepare"
   ]
  },
  {
   "cell_type": "code",
   "execution_count": null,
   "metadata": {},
   "outputs": [],
   "source": [
    "setup.plotting(remote=False)"
   ]
  },
  {
   "cell_type": "markdown",
   "metadata": {},
   "source": [
    "Load the raw FIA data grouped by repeated inventories\n"
   ]
  },
  {
   "cell_type": "code",
   "execution_count": null,
   "metadata": {},
   "outputs": [],
   "source": [
    "df = load.fia(store=\"local\", states=\"conus\", group_repeats=True)\n",
    "df = load.terraclim(\n",
    "    store=\"local\",\n",
    "    tlim=(int(df[\"year_0\"].min()), 2020),\n",
    "    data_vars=[\"ppt\", \"tavg\", \"pdsi\", \"cwd\", \"pet\", \"vpd\"],\n",
    "    data_aggs=[\"sum\", \"mean\", \"mean\", \"sum\", \"mean\", \"mean\"],\n",
    "    df=df,\n",
    "    group_repeats=True,\n",
    ")"
   ]
  },
  {
   "cell_type": "markdown",
   "metadata": {},
   "source": [
    "Prepare data for model fitting\n"
   ]
  },
  {
   "cell_type": "code",
   "execution_count": null,
   "metadata": {},
   "outputs": [],
   "source": [
    "x, y, meta = prepare.insects(df)"
   ]
  },
  {
   "cell_type": "code",
   "execution_count": null,
   "metadata": {},
   "outputs": [],
   "source": [
    "x_z, x_mean, x_std = utils.zscore_2d(x)"
   ]
  },
  {
   "cell_type": "markdown",
   "metadata": {},
   "source": [
    "Fit models\n"
   ]
  },
  {
   "cell_type": "code",
   "execution_count": null,
   "metadata": {},
   "outputs": [],
   "source": [
    "pf = meta.copy()\n",
    "pf[\"observed\"] = y\n",
    "pf[\"predicted\"] = np.NaN\n",
    "\n",
    "models = {}\n",
    "for code in pf[\"type_code\"].unique():\n",
    "    inds = pf[\"type_code\"] == code\n",
    "    if (y[inds].sum() > 1) & (y[inds].sum() > 1):\n",
    "        model = fit.hurdle(x=x_z[inds], y=y[inds])\n",
    "        models[code] = model\n",
    "        pf.loc[inds, \"predicted\"] = model.predict(x=x_z[inds])\n",
    "\n",
    "pf = pf[pf[\"predicted\"] < 1]"
   ]
  },
  {
   "cell_type": "markdown",
   "metadata": {},
   "source": [
    "Compute simple score metrics (on all data and just on the values where fraction\n",
    "insects was positive)\n"
   ]
  },
  {
   "cell_type": "code",
   "execution_count": null,
   "metadata": {},
   "outputs": [],
   "source": [
    "pf[[\"observed\", \"predicted\"]].corr().iloc[0, 1] ** 2"
   ]
  },
  {
   "cell_type": "code",
   "execution_count": null,
   "metadata": {},
   "outputs": [],
   "source": [
    "pf[pf[\"observed\"] > 0][[\"observed\", \"predicted\"]].corr().iloc[0, 1] ** 2"
   ]
  },
  {
   "cell_type": "markdown",
   "metadata": {},
   "source": [
    "Plot observed vs predicted\n"
   ]
  },
  {
   "cell_type": "code",
   "execution_count": null,
   "metadata": {},
   "outputs": [],
   "source": [
    "plot.xy(\n",
    "    x=pf[\"observed\"],\n",
    "    y=pf[\"predicted\"],\n",
    "    xlabel=\"measured fraction insects\",\n",
    "    ylabel=\"predicted fraction insects\",\n",
    "    xlim=(0, 1),\n",
    "    ylim=(0, 1),\n",
    "    width=300,\n",
    "    height=300,\n",
    "    opacity=0.1,\n",
    ")"
   ]
  },
  {
   "cell_type": "markdown",
   "metadata": {},
   "source": [
    "Make a map of actual fraction insects\n"
   ]
  },
  {
   "cell_type": "code",
   "execution_count": null,
   "metadata": {},
   "outputs": [],
   "source": [
    "plot.carto(\n",
    "    lat=pf[\"lat\"],\n",
    "    lon=pf[\"lon\"],\n",
    "    color=pf[\"observed\"],\n",
    "    cmap=\"reds\",\n",
    "    clim=(0, 0.2),\n",
    "    size=5,\n",
    "    opacity=0.75,\n",
    ")"
   ]
  },
  {
   "cell_type": "markdown",
   "metadata": {},
   "source": [
    "Make a map of predicted fraction insects\n"
   ]
  },
  {
   "cell_type": "code",
   "execution_count": null,
   "metadata": {},
   "outputs": [],
   "source": [
    "plot.carto(\n",
    "    lat=pf[\"lat\"],\n",
    "    lon=pf[\"lon\"],\n",
    "    color=pf[\"predicted\"],\n",
    "    clabel=\"fraction_insects * mortality\",\n",
    "    cmap=\"reds\",\n",
    "    clim=(0, 0.2),\n",
    "    size=2,\n",
    "    opacity=0.75,\n",
    ")"
   ]
  }
 ],
 "metadata": {
  "kernelspec": {
   "display_name": "Python 3",
   "language": "python",
   "name": "python3"
  },
  "language_info": {
   "codemirror_mode": {
    "name": "ipython",
    "version": 3
   },
   "file_extension": ".py",
   "mimetype": "text/x-python",
   "name": "python",
   "nbconvert_exporter": "python",
   "pygments_lexer": "ipython3",
   "version": "3.8.5"
  }
 },
 "nbformat": 4,
 "nbformat_minor": 4
}
