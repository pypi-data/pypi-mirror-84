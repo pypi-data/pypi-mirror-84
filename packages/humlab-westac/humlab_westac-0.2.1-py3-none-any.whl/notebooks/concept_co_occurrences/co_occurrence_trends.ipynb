{
 "cells": [
  {
   "cell_type": "markdown",
   "metadata": {},
   "source": [
    "## Concept Context Co-Occurrences Analysis"
   ]
  },
  {
   "cell_type": "code",
   "execution_count": null,
   "metadata": {
    "lines_to_next_cell": 2,
    "tags": []
   },
   "outputs": [],
   "source": [
    "%load_ext autoreload\n",
    "%autoreload 2\n",
    "# pylint: disable=too-many-instance-attributes\n",
    "\n",
    "import warnings\n",
    "\n",
    "import penelope.notebook.concept_co_occurrences_gui as compute_gui\n",
    "import penelope.notebook.load_co_occurrences_gui as load_gui\n",
    "import penelope.notebook.load_vectorized_corpus_gui as load_vectorized_corpus_gui\n",
    "from bokeh.plotting import output_notebook\n",
    "\n",
    "import __paths__  # pylint: disable=unused-import\n",
    "from notebooks.concept_co_occurrences.gui_callback import loaded_callback\n",
    "\n",
    "warnings.filterwarnings(\"ignore\", category=FutureWarning)\n",
    "\n",
    "output_notebook()"
   ]
  },
  {
   "cell_type": "markdown",
   "metadata": {
    "lines_to_next_cell": 0
   },
   "source": [
    "## Generate a new concept context co-co_occurrence\n",
    "For long running tasks, please use the CLI `concept_co_occurrence` instead.\n",
    "This function computes new concept context co-occurrence data and stores the result in a CSV file.\n",
    "Optionally, the co-occurrence data can be transformed to a vectorized corpus to enable word trend exploration."
   ]
  },
  {
   "cell_type": "code",
   "execution_count": null,
   "metadata": {},
   "outputs": [],
   "source": [
    "compute_gui.display_gui('/data/westac', '*sparv4.csv.zip', generated_callback=None)"
   ]
  },
  {
   "cell_type": "markdown",
   "metadata": {
    "lines_to_next_cell": 0
   },
   "source": [
    "## Display concept context co-occurrences"
   ]
  },
  {
   "cell_type": "code",
   "execution_count": null,
   "metadata": {},
   "outputs": [],
   "source": [
    "load_gui.display_gui(\n",
    "    data_folder='/home/roger', filename_suffix=\"coo_concept_context.csv.zip\", loaded_callback=loaded_callback\n",
    ")"
   ]
  },
  {
   "cell_type": "markdown",
   "metadata": {
    "lines_to_next_cell": 0
   },
   "source": [
    "### Load vectorized corpus and compute deviation metrics\n",
    "Deviation metrics compares co-occurrences distribution to a uniform distribution"
   ]
  },
  {
   "cell_type": "code",
   "execution_count": null,
   "metadata": {},
   "outputs": [],
   "source": [
    "load_vectorized_corpus_gui.display_gui(loaded_callback=loaded_callback)"
   ]
  }
 ],
 "metadata": {
  "jupytext": {
   "encoding": "# -*- coding: utf-8 -*-",
   "formats": "ipynb,py:percent"
  },
  "kernelspec": {
   "display_name": "Python 3",
   "language": "python",
   "name": "python3"
  }
 },
 "nbformat": 4,
 "nbformat_minor": 4
}
