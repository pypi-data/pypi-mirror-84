{
 "cells": [
  {
   "cell_type": "markdown",
   "metadata": {},
   "source": [
    "## Word Trend Analysis\n",
    "\n",
    "### Load previously vectorized corpus\n",
    "\n",
    "Use the `vectorize_protocol` script to create a new corpus with different settings."
   ]
  },
  {
   "cell_type": "code",
   "execution_count": null,
   "metadata": {
    "lines_to_next_cell": 2,
    "tags": [],
    "vscode": {
     "end_execution_time": "2020-08-31T18:34:55.995Z",
     "start_execution_time": "2020-08-31T18:34:55.854Z"
    }
   },
   "outputs": [],
   "source": [
    "%load_ext autoreload\n",
    "%autoreload 2"
   ]
  },
  {
   "cell_type": "code",
   "execution_count": null,
   "metadata": {},
   "outputs": [],
   "source": [
    "\n",
    "import importlib\n",
    "import os\n",
    "from dataclasses import dataclass\n",
    "from typing import Any\n",
    "\n",
    "import pandas as pd\n",
    "import penelope.common.goodness_of_fit as gof\n",
    "import penelope.notebook.load_vectorized_corpus_gui as load_corpus_gui\n",
    "import penelope.notebook.utility as notebook_utility\n",
    "import penelope.notebook.vectorize_corpus_gui as vectorize_corpus_gui\n",
    "import penelope.notebook.word_trend_plot_gui as word_trend_plot_gui\n",
    "from bokeh.plotting import output_notebook\n",
    "from penelope.corpus import VectorizedCorpus\n",
    "from penelope.notebook.ipyaggrid_utility import display_grid\n",
    "\n",
    "import __paths__  # pylint: disable=unused-import\n",
    "import notebooks.word_trends.word_trends_gui as xxx_word_trends_gui\n",
    "\n",
    "\n",
    "@dataclass\n",
    "class State:\n",
    "    corpus_folder: str = '/data/westac'\n",
    "    corpus: VectorizedCorpus = None\n",
    "    data: Any = None\n",
    "    df_gof: pd.DataFrame = None\n",
    "    df_most_deviating_overview: pd.DataFrame = None\n",
    "    df_most_deviating_overview: pd.DataFrame = None\n",
    "\n",
    "\n",
    "state = State(corpus_folder='/data/westac')\n",
    "\n",
    "output_notebook(hide_banner=True)"
   ]
  },
  {
   "cell_type": "code",
   "execution_count": null,
   "metadata": {
    "tags": [],
    "vscode": {
     "end_execution_time": "2020-08-31T18:34:55.995Z",
     "start_execution_time": "2020-08-31T18:34:55.854Z"
    }
   },
   "outputs": [],
   "source": [
    "\n",
    "\n",
    "importlib.reload(vectorize_corpus_gui)\n",
    "importlib.reload(notebook_utility)\n",
    "\n",
    "vectorize_corpus_gui.display_gui(state.corpus_folder, '*sparv4.csv.zip', generated_callback=None)"
   ]
  },
  {
   "cell_type": "code",
   "execution_count": null,
   "metadata": {
    "tags": [],
    "vscode": {
     "end_execution_time": "2020-08-31T18:34:55.995Z",
     "start_execution_time": "2020-08-31T18:34:55.854Z"
    }
   },
   "outputs": [],
   "source": [
    "importlib.reload(load_corpus_gui)\n",
    "importlib.reload(notebook_utility)\n",
    "\n",
    "\n",
    "def load_succeeded(_v_corpus: VectorizedCorpus, _corpus_tag, output):\n",
    "\n",
    "    output.clear_output()\n",
    "    try:\n",
    "        global state\n",
    "\n",
    "        state.corpus = _v_corpus\n",
    "        state.df_gof = gof.compute_goddness_of_fits_to_uniform(state.corpus, 10000, verbose=False)\n",
    "        state.df_most_deviating_overview = gof.compile_most_deviating_words(state.df_gof, n_count=10000)\n",
    "\n",
    "        if os.environ.get('VSCODE_LOGS', None) is None:\n",
    "            _ = (\n",
    "                notebook_utility.OutputsTabExt([\"GoF\", \"GoF (abs)\", \"Plots\", \"Slopes\"])\n",
    "                .display()\n",
    "                .display_fx_result(0, display_grid, state.df_gof)\n",
    "                .display_fx_result(\n",
    "                    1, display_grid, state.df_most_deviating_overview[['l2_norm_token', 'l2_norm', 'abs_l2_norm']]\n",
    "                )\n",
    "                .display_fx_result(2, gof.plot_metrics, state.df_gof, plot=False, lazy=True)\n",
    "                .display_fx_result(\n",
    "                    3,\n",
    "                    gof.plot_slopes,\n",
    "                    state.corpus,\n",
    "                    state.df_most_deviating_overview,\n",
    "                    \"l2_norm\",\n",
    "                    600,\n",
    "                    600,\n",
    "                    plot=False,\n",
    "                    lazy=True,\n",
    "                )\n",
    "            )\n",
    "\n",
    "    except Exception as ex:\n",
    "        with output:\n",
    "            print(ex)\n",
    "\n",
    "\n",
    "load_corpus_gui.display_gui(state.corpus_folder, load_succeeded)"
   ]
  },
  {
   "cell_type": "code",
   "execution_count": null,
   "metadata": {},
   "outputs": [],
   "source": [
    "\n",
    "xxx_word_trends_gui.display_gui(state=state)"
   ]
  },
  {
   "cell_type": "code",
   "execution_count": null,
   "metadata": {},
   "outputs": [],
   "source": [
    "\n",
    "importlib.reload(word_trend_plot_gui)\n",
    "\n",
    "most_deviating = gof.get_most_deviating_words(state.df_gof, 'l2_norm', n_count=5000, ascending=False, abs_value=True)\n",
    "\n",
    "word_trend_plot_gui.display_gui(state.corpus, most_deviating)"
   ]
  }
 ],
 "metadata": {
  "jupytext": {
   "formats": "ipynb,py:percent"
  },
  "kernelspec": {
   "display_name": "Python 3.7.5 64-bit ('welfare_state_analytics': pipenv)",
   "language": "python",
   "name": "python37564bitwelfarestateanalyticspipenvb8730e518d45450a918e95a98e055dbf"
  }
 },
 "nbformat": 4,
 "nbformat_minor": 4
}
