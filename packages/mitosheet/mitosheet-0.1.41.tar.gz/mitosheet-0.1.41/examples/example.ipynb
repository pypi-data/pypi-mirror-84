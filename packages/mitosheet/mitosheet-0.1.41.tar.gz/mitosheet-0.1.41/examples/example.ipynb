{
 "cells": [
  {
   "cell_type": "code",
   "execution_count": 5,
   "metadata": {},
   "outputs": [
    {
     "data": {
      "application/vnd.jupyter.widget-view+json": {
       "model_id": "0516881e7219451388b323e91bad054b",
       "version_major": 2,
       "version_minor": 0
      },
      "text/plain": [
       "MitoWidget(code_json='{\"imports\": \"from mitosheet import *\", \"code\": []}', column_filters_json='[{\"First_Name\"…"
      ]
     },
     "metadata": {},
     "output_type": "display_data"
    }
   ],
   "source": [
    "import mitosheet\n",
    "import pandas as pd\n",
    "df1 = pd.DataFrame(data={'First_Name': ['Nate', 'Nate', 'Aaron', 'Aaron1'], 'Height': [4, 5, 6, 7]})\n",
    "mitosheet.sheet(df1)"
   ]
  },
  {
   "cell_type": "code",
   "execution_count": null,
   "metadata": {},
   "outputs": [],
   "source": []
  },
  {
   "cell_type": "code",
   "execution_count": null,
   "metadata": {},
   "outputs": [],
   "source": []
  }
 ],
 "metadata": {
  "kernelspec": {
   "display_name": "Python 3",
   "language": "python",
   "name": "python3"
  },
  "language_info": {
   "codemirror_mode": {
    "name": "ipython",
    "version": 3
   },
   "file_extension": ".py",
   "mimetype": "text/x-python",
   "name": "python",
   "nbconvert_exporter": "python",
   "pygments_lexer": "ipython3",
   "version": "3.8.5"
  },
  "widgets": {
   "application/vnd.jupyter.widget-state+json": {
    "state": {
     "1550eb7d0a564df98d7d08fe14954735": {
      "model_module": "mitosheet",
      "model_module_version": "^0.1.39",
      "model_name": "ExampleModel",
      "state": {
       "_model_module_version": "^0.1.39",
       "_view_module_version": "^0.1.39",
       "analysis_name": "UUID-ea6f6bee-b1fc-471a-965e-d9e8976b23c4",
       "code_json": "{\"imports\": \"from mitosheet import *\", \"code\": [\"# Step 1\", \"df1['D'] = 0\", \"# Step 2\", \"df1.rename(columns={\\\"Height\\\": \\\"LOOKUP\\\"}, inplace=True)\", \"# Step 3\", \"df1['D'] = df1['LOOKUP']\"]}",
       "column_filters_json": "[{\"First_Name\": {\"condition\": \"none\", \"value\": \"\", \"type\": \"string\"}, \"Last_Name\": {\"condition\": \"none\", \"value\": \"\", \"type\": \"string\"}, \"D\": {\"condition\": \"none\", \"value\": \"\", \"type\": \"number\"}, \"LOOKUP\": {\"condition\": \"none\", \"value\": \"\", \"type\": \"number\"}}]",
       "column_spreadsheet_code_json": "[{\"First_Name\": \"\", \"Last_Name\": \"\", \"D\": \"=LOOKUP\", \"LOOKUP\": \"\"}]",
       "df_names_json": "{\"df_names\": [\"df1\"]}",
       "layout": "IPY_MODEL_5539574ba6544892abb6d97213f42520",
       "saved_analysis_names_json": "[\"test_save0.13865217353525938\", \"test_save0.21675413754051343\", \"test_save0.5355031268323845\", \"test_save0.7449973716148273\", \"test_save0.7949648718742697\", \"test_save0.8503013780672617\"]",
       "sheet_json": "[{\"columns\": [\"First_Name\", \"Last_Name\", \"LOOKUP\", \"D\"], \"index\": [0, 1], \"data\": [[\"Nate\", \"Rush\", 4, 4], [\"Nate\", \"Jack\", 5, 5]]}]",
       "user_id": "nate",
       "value": "Hello World"
      }
     },
     "5539574ba6544892abb6d97213f42520": {
      "model_module": "@jupyter-widgets/base",
      "model_module_version": "1.2.0",
      "model_name": "LayoutModel",
      "state": {}
     },
     "92731520237d4933abacffd8d62bb3fb": {
      "model_module": "mitosheet",
      "model_module_version": "^0.1.39",
      "model_name": "ExampleModel",
      "state": {
       "_model_module_version": "^0.1.39",
       "_view_module_version": "^0.1.39",
       "analysis_name": "UUID-8752eb58-a5be-4a53-96e5-d11eb649a59b",
       "code_json": "{\"imports\": \"from mitosheet import *\", \"code\": [\"# Step 1\", \"df1['D'] = 0\"]}",
       "column_filters_json": "[{\"First_Name\": {\"condition\": \"none\", \"value\": \"\", \"type\": \"string\"}, \"Last_Name\": {\"condition\": \"none\", \"value\": \"\", \"type\": \"string\"}, \"Height\": {\"condition\": \"none\", \"value\": \"\", \"type\": \"number\"}, \"D\": {\"condition\": \"none\", \"value\": \"\", \"type\": \"number\"}}]",
       "column_spreadsheet_code_json": "[{\"First_Name\": \"\", \"Last_Name\": \"\", \"Height\": \"\", \"D\": \"=0\"}]",
       "df_names_json": "{\"df_names\": [\"df1\"]}",
       "layout": "IPY_MODEL_a3bf531ba8e34d9e99e56e09c5a4ad80",
       "saved_analysis_names_json": "[\"test_save0.13865217353525938\", \"test_save0.21675413754051343\", \"test_save0.5355031268323845\", \"test_save0.7449973716148273\", \"test_save0.7949648718742697\", \"test_save0.8503013780672617\"]",
       "sheet_json": "[{\"columns\": [\"First_Name\", \"Last_Name\", \"Height\", \"D\"], \"index\": [0, 1], \"data\": [[\"Nate\", \"Rush\", 4, 0], [\"Nate\", \"Jack\", 5, 0]]}]",
       "user_id": "nate",
       "value": "Hello World"
      }
     },
     "a3bf531ba8e34d9e99e56e09c5a4ad80": {
      "model_module": "@jupyter-widgets/base",
      "model_module_version": "1.2.0",
      "model_name": "LayoutModel",
      "state": {}
     }
    },
    "version_major": 2,
    "version_minor": 0
   }
  }
 },
 "nbformat": 4,
 "nbformat_minor": 4
}
