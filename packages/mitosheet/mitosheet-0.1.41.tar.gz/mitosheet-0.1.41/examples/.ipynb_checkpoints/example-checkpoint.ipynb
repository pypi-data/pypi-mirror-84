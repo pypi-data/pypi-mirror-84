{
 "cells": [
  {
   "cell_type": "code",
   "execution_count": 7,
   "metadata": {},
   "outputs": [
    {
     "data": {
      "application/vnd.jupyter.widget-view+json": {
       "model_id": "c9baac40f92341d686203bbf82881e94",
       "version_major": 2,
       "version_minor": 0
      },
      "text/plain": [
       "MitoWidget(code_json='{\"imports\": \"from mitosheet import *\", \"code\": []}', column_filters_json='[{\"First_Name\"…"
      ]
     },
     "metadata": {},
     "output_type": "display_data"
    }
   ],
   "source": [
    "import mitosheet\n",
    "import pandas as pd\n",
    "df1 = pd.DataFrame(data={'First Name': ['Nate', 'Nate'], 'Last_Name': ['Rush', 'Jack'], 'Height': [4, 5]})\n",
    "mitosheet.sheet(df1)"
   ]
  }
 ],
 "metadata": {
  "kernelspec": {
   "display_name": "Python 3",
   "language": "python",
   "name": "python3"
  },
  "language_info": {
   "codemirror_mode": {
    "name": "ipython",
    "version": 3
   },
   "file_extension": ".py",
   "mimetype": "text/x-python",
   "name": "python",
   "nbconvert_exporter": "python",
   "pygments_lexer": "ipython3",
   "version": "3.8.5"
  },
  "widgets": {
   "application/vnd.jupyter.widget-state+json": {
    "state": {
     "0516881e7219451388b323e91bad054b": {
      "model_module": "mitosheet",
      "model_module_version": "^0.1.39",
      "model_name": "ExampleModel",
      "state": {
       "_model_module_version": "^0.1.39",
       "_view_module_version": "^0.1.39",
       "analysis_name": "UUID-6f2c4f39-69d6-44cc-9371-0d61cb9aca91",
       "code_json": "{\"imports\": \"from mitosheet import *\", \"code\": [\"# Step 1\", \"groupby_obj = df1.groupby([\\\"First_Name\\\"], as_index=False)\", \"df2 = groupby_obj.size()\"]}",
       "column_filters_json": "[{\"First_Name\": {\"condition\": \"none\", \"value\": \"\", \"type\": \"string\"}, \"Height\": {\"condition\": \"none\", \"value\": \"\", \"type\": \"number\"}}, {\"First_Name\": {\"condition\": \"none\", \"value\": \"\", \"type\": \"string\"}, \"size\": {\"condition\": \"none\", \"value\": \"\", \"type\": \"number\"}}]",
       "column_spreadsheet_code_json": "[{\"First_Name\": \"\", \"Height\": \"\"}, {\"First_Name\": \"\", \"size\": \"\"}]",
       "df_names_json": "{\"df_names\": [\"df1\"]}",
       "layout": "IPY_MODEL_287d72302b6c4ecc8c8f31ab3716999c",
       "saved_analysis_names_json": "[\"test_save0.5355031268323845\"]",
       "sheet_json": "[{\"columns\": [\"First_Name\", \"Height\"], \"index\": [0, 1, 2, 3], \"data\": [[\"Nate\", 4], [\"Nate\", 5], [\"Aaron\", 6], [\"Aaron1\", 7]]}, {\"columns\": [\"First_Name\", \"size\"], \"index\": [0, 1, 2], \"data\": [[\"Aaron\", 1], [\"Aaron1\", 1], [\"Nate\", 2]]}]",
       "user_id": "nate",
       "value": "Hello World"
      }
     },
     "1395629c7f3b41f6bd1a367bbe418461": {
      "model_module": "mitosheet",
      "model_module_version": "^0.1.39",
      "model_name": "ExampleModel",
      "state": {
       "_model_module_version": "^0.1.39",
       "_view_module_version": "^0.1.39",
       "analysis_name": "UUID-9e5af459-e227-4668-ba78-01db1df1d640",
       "code_json": "{\"imports\": \"from mitosheet import *\", \"code\": [\"# Step 1\", \"df1['Last_Name'] = 0\", \"# Step 2\", \"groupby_obj = df1.groupby([\\\"First_Name\\\"], as_index=False)\", \"df2 = groupby_obj.size()\"]}",
       "column_filters_json": "[{\"First_Name\": {\"condition\": \"none\", \"value\": \"\", \"type\": \"string\"}, \"Height\": {\"condition\": \"none\", \"value\": \"\", \"type\": \"number\"}, \"Last_Name\": {\"condition\": \"none\", \"value\": \"\", \"type\": \"number\"}}, {\"First_Name\": {\"condition\": \"none\", \"value\": \"\", \"type\": \"string\"}, \"size\": {\"condition\": \"none\", \"value\": \"\", \"type\": \"number\"}}]",
       "column_spreadsheet_code_json": "[{\"First_Name\": \"\", \"Height\": \"\", \"Last_Name\": \"=0\"}, {\"First_Name\": \"\", \"size\": \"\"}]",
       "df_names_json": "{\"df_names\": [\"df1\", \"df2\"]}",
       "layout": "IPY_MODEL_67a50c758d2245ea987e021551f8f3c5",
       "saved_analysis_names_json": "[]",
       "sheet_json": "[{\"columns\": [\"First_Name\", \"Height\", \"Last_Name\"], \"index\": [0, 1, 2, 3], \"data\": [[\"Nate\", 4, 0], [\"Nate\", 5, 0], [\"Aaron\", 6, 0], [\"Aaron\", 7, 0]]}, {\"columns\": [\"First_Name\", \"size\"], \"index\": [0, 1], \"data\": [[\"Aaron\", 2], [\"Nate\", 2]]}]",
       "user_id": "nate",
       "value": "Hello World"
      }
     },
     "21601aa2313e4093b0c0cf801dad8d49": {
      "model_module": "@jupyter-widgets/base",
      "model_module_version": "1.2.0",
      "model_name": "LayoutModel",
      "state": {}
     },
     "287d72302b6c4ecc8c8f31ab3716999c": {
      "model_module": "@jupyter-widgets/base",
      "model_module_version": "1.2.0",
      "model_name": "LayoutModel",
      "state": {}
     },
     "67a50c758d2245ea987e021551f8f3c5": {
      "model_module": "@jupyter-widgets/base",
      "model_module_version": "1.2.0",
      "model_name": "LayoutModel",
      "state": {}
     },
     "6bce7c4b1894494f9373cd2603955712": {
      "model_module": "mitosheet",
      "model_module_version": "^0.1.39",
      "model_name": "ExampleModel",
      "state": {
       "_model_module_version": "^0.1.39",
       "_view_module_version": "^0.1.39",
       "analysis_name": "UUID-282f55f9-92d9-4760-abdc-0aa7b6a34d1b",
       "code_json": "{\"imports\": \"from mitosheet import *\", \"code\": [\"# Step 1\", \"groupby_obj = df1.groupby([\\\"First_Name\\\"], as_index=False)\", \"df2 = groupby_obj.size()\"]}",
       "column_filters_json": "[{\"First_Name\": {\"condition\": \"none\", \"value\": \"\", \"type\": \"string\"}, \"Last_Name\": {\"condition\": \"none\", \"value\": \"\", \"type\": \"string\"}, \"Height\": {\"condition\": \"none\", \"value\": \"\", \"type\": \"number\"}}, {\"First_Name\": {\"condition\": \"none\", \"value\": \"\", \"type\": \"string\"}, \"size\": {\"condition\": \"none\", \"value\": \"\", \"type\": \"number\"}}]",
       "column_spreadsheet_code_json": "[{\"First_Name\": \"\", \"Last_Name\": \"\", \"Height\": \"\"}, {\"First_Name\": \"\", \"size\": \"\"}]",
       "df_names_json": "{\"df_names\": [\"df1\"]}",
       "layout": "IPY_MODEL_fdc44ce6ce004e45844bfae589049c47",
       "saved_analysis_names_json": "[]",
       "sheet_json": "[{\"columns\": [\"First_Name\", \"Last_Name\", \"Height\"], \"index\": [0, 1], \"data\": [[\"Nate\", \"Rush\", 4], [\"Nate\", \"Jack\", 5]]}, {\"columns\": [\"First_Name\", \"size\"], \"index\": [0], \"data\": [[\"Nate\", 2]]}]",
       "user_id": "nate",
       "value": "Hello World"
      }
     },
     "7aa1ae3b3e6849c4873fd585dd592207": {
      "model_module": "@jupyter-widgets/base",
      "model_module_version": "1.2.0",
      "model_name": "LayoutModel",
      "state": {}
     },
     "957749f9eb97479a96aabce2c8b502c0": {
      "model_module": "mitosheet",
      "model_module_version": "^0.1.39",
      "model_name": "ExampleModel",
      "state": {
       "_model_module_version": "^0.1.39",
       "_view_module_version": "^0.1.39",
       "analysis_name": "UUID-01ffd479-72a9-4d9d-976f-37d97b9c43bd",
       "code_json": "{\"imports\": \"from mitosheet import *\", \"code\": []}",
       "column_filters_json": "[{\"First_Name\": {\"condition\": \"none\", \"value\": \"\", \"type\": \"string\"}, \"Last_Name\": {\"condition\": \"none\", \"value\": \"\", \"type\": \"string\"}, \"Height\": {\"condition\": \"none\", \"value\": \"\", \"type\": \"number\"}}]",
       "column_spreadsheet_code_json": "[{\"First_Name\": \"\", \"Last_Name\": \"\", \"Height\": \"\"}]",
       "df_names_json": "{\"df_names\": [\"df1\"]}",
       "layout": "IPY_MODEL_aa55157ee9db470ebd46cc9301c41cfa",
       "saved_analysis_names_json": "[\"test_save0.5355031268323845\"]",
       "sheet_json": "[{\"columns\": [\"First_Name\", \"Last_Name\", \"Height\"], \"index\": [0, 1], \"data\": [[\"Nate\", \"Rush\", 4], [\"Nate\", \"Jack\", 5]]}]",
       "user_id": "nate",
       "value": "Hello World"
      }
     },
     "a4ab07738c89482c8f94c70f3aedfa10": {
      "model_module": "mitosheet",
      "model_module_version": "^0.1.39",
      "model_name": "ExampleModel",
      "state": {
       "_model_module_version": "^0.1.39",
       "_view_module_version": "^0.1.39",
       "analysis_name": "UUID-5b688d7f-f255-49d4-a1ba-43c10117cb66",
       "code_json": "{\"imports\": \"from mitosheet import *\", \"code\": [\"# Step 1\", \"df1['Last_Name'] = 0\", \"# Step 2\", \"groupby_obj = df1.groupby([\\\"First_Name\\\"], as_index=False)\", \"df2 = groupby_obj.size()\"]}",
       "column_filters_json": "[{\"First_Name\": {\"condition\": \"none\", \"value\": \"\", \"type\": \"string\"}, \"Height\": {\"condition\": \"none\", \"value\": \"\", \"type\": \"number\"}, \"Last_Name\": {\"condition\": \"none\", \"value\": \"\", \"type\": \"number\"}}, {\"First_Name\": {\"condition\": \"none\", \"value\": \"\", \"type\": \"string\"}, \"size\": {\"condition\": \"none\", \"value\": \"\", \"type\": \"number\"}}]",
       "column_spreadsheet_code_json": "[{\"First_Name\": \"\", \"Height\": \"\", \"Last_Name\": \"=0\"}, {\"First_Name\": \"\", \"size\": \"\"}]",
       "df_names_json": "{\"df_names\": [\"df1\", \"df2\"]}",
       "layout": "IPY_MODEL_7aa1ae3b3e6849c4873fd585dd592207",
       "saved_analysis_names_json": "[]",
       "sheet_json": "[{\"columns\": [\"First_Name\", \"Height\", \"Last_Name\"], \"index\": [0, 1, 2, 3], \"data\": [[\"Nate\", 4, 0], [\"Nate\", 5, 0], [\"Aaron\", 6, 0], [\"Aaron1\", 7, 0]]}, {\"columns\": [\"First_Name\", \"size\"], \"index\": [0, 1, 2], \"data\": [[\"Aaron\", 1], [\"Aaron1\", 1], [\"Nate\", 2]]}]",
       "user_id": "nate",
       "value": "Hello World"
      }
     },
     "aa55157ee9db470ebd46cc9301c41cfa": {
      "model_module": "@jupyter-widgets/base",
      "model_module_version": "1.2.0",
      "model_name": "LayoutModel",
      "state": {}
     },
     "c9baac40f92341d686203bbf82881e94": {
      "model_module": "mitosheet",
      "model_module_version": "^0.1.39",
      "model_name": "ExampleModel",
      "state": {
       "_model_module_version": "^0.1.39",
       "_view_module_version": "^0.1.39",
       "analysis_name": "UUID-c7a3afb7-aabf-4823-9aaf-2a51c28e1715",
       "code_json": "{\"imports\": \"from mitosheet import *\", \"code\": []}",
       "column_filters_json": "[{\"First_Name\": {\"condition\": \"none\", \"value\": \"\", \"type\": \"string\"}, \"Last_Name\": {\"condition\": \"none\", \"value\": \"\", \"type\": \"string\"}, \"Height\": {\"condition\": \"none\", \"value\": \"\", \"type\": \"number\"}}]",
       "column_spreadsheet_code_json": "[{\"First_Name\": \"\", \"Last_Name\": \"\", \"Height\": \"\"}]",
       "df_names_json": "{\"df_names\": [\"df1\"]}",
       "layout": "IPY_MODEL_21601aa2313e4093b0c0cf801dad8d49",
       "saved_analysis_names_json": "[\"test_save0.5355031268323845\"]",
       "sheet_json": "[{\"columns\": [\"First_Name\", \"Last_Name\", \"Height\"], \"index\": [0, 1], \"data\": [[\"Nate\", \"Rush\", 4], [\"Nate\", \"Jack\", 5]]}]",
       "user_id": "nate",
       "value": "Hello World"
      }
     },
     "fdc44ce6ce004e45844bfae589049c47": {
      "model_module": "@jupyter-widgets/base",
      "model_module_version": "1.2.0",
      "model_name": "LayoutModel",
      "state": {}
     }
    },
    "version_major": 2,
    "version_minor": 0
   }
  }
 },
 "nbformat": 4,
 "nbformat_minor": 4
}
