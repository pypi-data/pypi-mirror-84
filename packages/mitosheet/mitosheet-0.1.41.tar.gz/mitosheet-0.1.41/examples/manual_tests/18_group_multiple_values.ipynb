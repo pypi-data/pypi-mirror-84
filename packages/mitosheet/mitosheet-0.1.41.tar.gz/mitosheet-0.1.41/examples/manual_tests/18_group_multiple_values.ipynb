{
 "cells": [
  {
   "cell_type": "code",
   "execution_count": null,
   "metadata": {},
   "outputs": [],
   "source": [
    "\"\"\"\n",
    "Tests grouping with mulitple value outputs, that then get used in a calculation\n",
    "\n",
    "Steps:\n",
    "- Run this cell.\n",
    "- Click the group button:\n",
    "    - Select df1 as the sheet\n",
    "    - Select Name as the group by key\n",
    "    - Add two values, one for (Height, mean) and the other for (Weight, sum)\n",
    "    - Click group\n",
    "- Open the new sheet, and create a new column. Rename it to Height_Weight, and calculate the Height / Weight.\n",
    "- Run the generated code, and make sure it defines df2 correctly.\n",
    "- Rerun this cell, and make sure the defined column in df2 is still editable.\n",
    "\"\"\"\n",
    "import mitosheet\n",
    "import pandas as pd\n",
    "df1 = pd.DataFrame(data={'Name': ['Nate', 'Nate', 'Aaron', 'Aaron'], 'Height': [4, 5, 6, 7], 'Weight': [100, 200, 300, 400]})\n",
    "mitosheet.sheet(df1)"
   ]
  }
 ],
 "metadata": {
  "kernelspec": {
   "display_name": "Python 3",
   "language": "python",
   "name": "python3"
  },
  "language_info": {
   "codemirror_mode": {
    "name": "ipython",
    "version": 3
   },
   "file_extension": ".py",
   "mimetype": "text/x-python",
   "name": "python",
   "nbconvert_exporter": "python",
   "pygments_lexer": "ipython3",
   "version": "3.8.5"
  },
  "widgets": {
   "application/vnd.jupyter.widget-state+json": {
    "state": {},
    "version_major": 2,
    "version_minor": 0
   }
  }
 },
 "nbformat": 4,
 "nbformat_minor": 4
}
