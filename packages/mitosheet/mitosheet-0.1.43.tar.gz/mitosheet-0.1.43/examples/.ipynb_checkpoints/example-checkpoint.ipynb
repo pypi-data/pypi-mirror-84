{
 "cells": [
  {
   "cell_type": "code",
   "execution_count": 2,
   "metadata": {},
   "outputs": [
    {
     "data": {
      "application/vnd.jupyter.widget-view+json": {
       "model_id": "fd2fb67bf015439a98e06b63c72b798e",
       "version_major": 2,
       "version_minor": 0
      },
      "text/plain": [
       "MitoWidget(code_json='{\"imports\": \"from mitosheet import *\", \"code\": []}', column_filters_json='[{\"Name123\": {…"
      ]
     },
     "metadata": {},
     "output_type": "display_data"
    }
   ],
   "source": [
    "\"\"\"\n",
    "Tests grouping with mulitple value outputs, that then get used in a calculation\n",
    "\n",
    "Steps:\n",
    "- Run this cell.\n",
    "- Click the group button:\n",
    "    - Select df1 as the sheet\n",
    "    - Select Name as the group by key\n",
    "    - Add two values, one for (Height, mean) and the other for (Weight, sum)\n",
    "    - Click group\n",
    "- Open the new sheet, and create a new column. Rename it to Height_Weight, and calculate the Height / Weight.\n",
    "- Run the generated code, and make sure it defines df2 correctly.\n",
    "- Rerun this cell, and make sure the defined column in df2 is still editable.\n",
    "\"\"\"\n",
    "import mitosheet\n",
    "import pandas as pd\n",
    "df1 = pd.DataFrame(data={'Name': ['Nate', 'Nate', 'Aaron', 'Aaron'], 'Height': ['4', '5', 6, 7], 'Weight': [100, 200, 300, 400]})\n",
    "df2 = pd.DataFrame(data={'Name123': ['Nate', 'Nate', 'Aaron', 'Aaron'], 'Heigh123t': ['4', '5', 6, 7], 'We123ight': [100, 200, 300, 400]})\n",
    "mitosheet.sheet(df1, df2)"
   ]
  },
  {
   "cell_type": "code",
   "execution_count": null,
   "metadata": {},
   "outputs": [],
   "source": [
    "# MITO CODE START (DO NOT EDIT)\n",
    "# SAVED-ANALYSIS-STARTUUID-4457c73e-ff89-4f4f-ba1f-09f2778fb30fSAVED-ANALYSIS-END\n",
    "\n",
    "from mitosheet import *\n",
    "\n",
    "# Step 1\n",
    "\n",
    "# Make sure the columns are defined in the correct order\n",
    "\n",
    "df1['Name'] = 0; df1['Height'] = 0; df1['Weight'] = 0; df1['D'] = 0; df1['E'] = 0\n",
    "\n",
    "df1['D'] = \"A\"\n",
    "\n",
    "df1['E'] = df1['D']\n",
    "\n",
    "# Step 2\n",
    "\n",
    "df1_columns = [col for col in df1.columns if col != 'E']\n",
    "\n",
    "df1_columns.insert(1, 'E')\n",
    "\n",
    "df1 = df1[df1_columns]\n",
    "\n",
    "# Step 3\n",
    "\n",
    "df1_columns = [col for col in df1.columns if col != 'E']\n",
    "\n",
    "df1_columns.insert(4, 'E')\n",
    "\n",
    "df1 = df1[df1_columns]\n",
    "\n",
    "# Step 4\n",
    "\n",
    "df1_columns = [col for col in df1.columns if col != 'E']\n",
    "\n",
    "df1_columns.insert(1, 'E')\n",
    "\n",
    "df1 = df1[df1_columns]\n",
    "\n",
    "# Step 5\n",
    "\n",
    "df1.rename(columns={\"E\": \"13_\"}, inplace=True)\n",
    "\n",
    "# Step 6\n",
    "\n",
    "df1['D'] = \"A\"\n",
    "\n",
    "df1['13_'] = df1['D']\n",
    "\n",
    "df1['Weight'] = 0\n",
    "\n",
    "df1['Height'] = 0\n",
    "\n",
    "df1['Name'] = 0\n",
    "  \n",
    "# MITO CODE END (DO NOT EDIT)"
   ]
  },
  {
   "cell_type": "code",
   "execution_count": null,
   "metadata": {},
   "outputs": [],
   "source": []
  },
  {
   "cell_type": "code",
   "execution_count": null,
   "metadata": {},
   "outputs": [],
   "source": []
  },
  {
   "cell_type": "code",
   "execution_count": null,
   "metadata": {},
   "outputs": [],
   "source": []
  },
  {
   "cell_type": "code",
   "execution_count": null,
   "metadata": {},
   "outputs": [],
   "source": []
  }
 ],
 "metadata": {
  "kernelspec": {
   "display_name": "Python 3",
   "language": "python",
   "name": "python3"
  },
  "language_info": {
   "codemirror_mode": {
    "name": "ipython",
    "version": 3
   },
   "file_extension": ".py",
   "mimetype": "text/x-python",
   "name": "python",
   "nbconvert_exporter": "python",
   "pygments_lexer": "ipython3",
   "version": "3.8.5"
  },
  "widgets": {
   "application/vnd.jupyter.widget-state+json": {
    "state": {
     "468f0d9246c5404cb9b9d8edb7898507": {
      "model_module": "@jupyter-widgets/base",
      "model_module_version": "1.2.0",
      "model_name": "LayoutModel",
      "state": {}
     },
     "7b3c48e6ab1c43388bf9dfca78764b27": {
      "model_module": "mitosheet",
      "model_module_version": "^0.1.42",
      "model_name": "ExampleModel",
      "state": {
       "_model_module_version": "^0.1.42",
       "_view_module_version": "^0.1.42",
       "analysis_name": "UUID-6b78e37a-ea8f-4dd2-a47f-0352d9d1042a",
       "code_json": "{\"imports\": \"from mitosheet import *\", \"code\": [\"# Step 1\", \"df1['D'] = \\\"A\\\"\", \"df1['E'] = df1['D']\", \"# Step 2\", \"df1_columns = [col for col in df1.columns if col != 'E']\", \"df1_columns.insert(1, 'E')\", \"df1 = df1[df1_columns]\", \"# Step 3\", \"df1_columns = [col for col in df1.columns if col != 'E']\", \"df1_columns.insert(4, 'E')\", \"df1 = df1[df1_columns]\", \"# Step 4\", \"df1_columns = [col for col in df1.columns if col != 'E']\", \"df1_columns.insert(1, 'E')\", \"df1 = df1[df1_columns]\", \"# Step 5\", \"df1.rename(columns={\\\"E\\\": \\\"13_\\\"}, inplace=True)\", \"# Step 6\", \"df1['D'] = \\\"A\\\"\"]}",
       "column_filters_json": "[{\"Name\": {\"operator\": \"And\", \"filters\": []}, \"Height\": {\"operator\": \"And\", \"filters\": []}, \"Weight\": {\"operator\": \"And\", \"filters\": []}, \"D\": {\"operator\": \"And\", \"filters\": []}, \"13_\": {\"operator\": \"And\", \"filters\": []}}]",
       "column_spreadsheet_code_json": "[{\"Name\": \"\", \"Height\": \"\", \"Weight\": \"\", \"D\": \"=\\\"A\\\"\", \"13_\": \"=D\"}]",
       "column_type_json": "[{\"Name\": \"string\", \"Height\": \"string\", \"Weight\": \"number\", \"D\": \"string\", \"13_\": \"string\"}]",
       "df_names_json": "{\"df_names\": [\"df1\"]}",
       "layout": "IPY_MODEL_468f0d9246c5404cb9b9d8edb7898507",
       "saved_analysis_names_json": "[\"Contract Services\"]",
       "sheet_json": "[{\"columns\": [\"Name\", \"13_\", \"Height\", \"Weight\", \"D\"], \"index\": [0, 1, 2, 3], \"data\": [[\"Nate\", \"A\", \"4\", 100, \"A\"], [\"Nate\", \"A\", \"5\", 200, \"A\"], [\"Aaron\", \"A\", 6, 300, \"A\"], [\"Aaron\", \"A\", 7, 400, \"A\"]]}]",
       "user_id": "nate",
       "value": "Hello World"
      }
     },
     "a2a02867ec4142f3a0d0f72f5cdef518": {
      "model_module": "@jupyter-widgets/base",
      "model_module_version": "1.2.0",
      "model_name": "LayoutModel",
      "state": {}
     },
     "fd2fb67bf015439a98e06b63c72b798e": {
      "model_module": "mitosheet",
      "model_module_version": "^0.1.42",
      "model_name": "ExampleModel",
      "state": {
       "_model_module_version": "^0.1.42",
       "_view_module_version": "^0.1.42",
       "analysis_name": "UUID-4457c73e-ff89-4f4f-ba1f-09f2778fb30f",
       "code_json": "{\"imports\": \"from mitosheet import *\", \"code\": [\"# Step 1\", \"# Make sure the columns are defined in the correct order\", \"df1['Name'] = 0; df1['Height'] = 0; df1['Weight'] = 0; df1['D'] = 0; df1['E'] = 0\", \"df1['D'] = \\\"A\\\"\", \"df1['E'] = df1['D']\", \"# Step 2\", \"df1_columns = [col for col in df1.columns if col != 'E']\", \"df1_columns.insert(1, 'E')\", \"df1 = df1[df1_columns]\", \"# Step 3\", \"df1_columns = [col for col in df1.columns if col != 'E']\", \"df1_columns.insert(4, 'E')\", \"df1 = df1[df1_columns]\", \"# Step 4\", \"df1_columns = [col for col in df1.columns if col != 'E']\", \"df1_columns.insert(1, 'E')\", \"df1 = df1[df1_columns]\", \"# Step 5\", \"df1.rename(columns={\\\"E\\\": \\\"13_\\\"}, inplace=True)\", \"# Step 6\", \"df1['D'] = \\\"A\\\"\", \"df1['13_'] = df1['D']\", \"df1['Weight'] = 0\", \"df1['Height'] = 0\", \"df1['Name'] = 0\"]}",
       "column_filters_json": "[{\"Name123\": {\"operator\": \"And\", \"filters\": []}, \"Heigh123t\": {\"operator\": \"And\", \"filters\": []}, \"We123ight\": {\"operator\": \"And\", \"filters\": []}, \"Name\": {\"operator\": \"And\", \"filters\": []}, \"Height\": {\"operator\": \"And\", \"filters\": []}, \"Weight\": {\"operator\": \"And\", \"filters\": []}, \"D\": {\"operator\": \"And\", \"filters\": []}, \"13_\": {\"operator\": \"And\", \"filters\": []}}]",
       "column_spreadsheet_code_json": "[{\"Name123\": \"\", \"Heigh123t\": \"\", \"We123ight\": \"\", \"Name\": \"=0\", \"Height\": \"=0\", \"Weight\": \"=0\", \"D\": \"=\\\"A\\\"\", \"13_\": \"=D\"}]",
       "column_type_json": "[{\"Name123\": \"string\", \"Heigh123t\": \"string\", \"We123ight\": \"number\", \"Name\": \"number\", \"Height\": \"number\", \"Weight\": \"number\", \"D\": \"string\", \"13_\": \"string\"}]",
       "df_names_json": "{\"df_names\": [\"df1\"]}",
       "layout": "IPY_MODEL_a2a02867ec4142f3a0d0f72f5cdef518",
       "saved_analysis_names_json": "[\"Contract Services\"]",
       "sheet_json": "[{\"columns\": [\"Name123\", \"13_\", \"Heigh123t\", \"We123ight\", \"Name\", \"Height\", \"Weight\", \"D\"], \"index\": [0, 1, 2, 3], \"data\": [[\"Nate\", \"A\", \"4\", 100, 0, 0, 0, \"A\"], [\"Nate\", \"A\", \"5\", 200, 0, 0, 0, \"A\"], [\"Aaron\", \"A\", 6, 300, 0, 0, 0, \"A\"], [\"Aaron\", \"A\", 7, 400, 0, 0, 0, \"A\"]]}]",
       "user_id": "nate",
       "value": "Hello World"
      }
     }
    },
    "version_major": 2,
    "version_minor": 0
   }
  }
 },
 "nbformat": 4,
 "nbformat_minor": 4
}
