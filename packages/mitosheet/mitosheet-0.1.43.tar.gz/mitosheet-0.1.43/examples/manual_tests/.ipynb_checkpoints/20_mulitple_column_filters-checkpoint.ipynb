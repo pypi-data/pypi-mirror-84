{
 "cells": [
  {
   "cell_type": "code",
   "execution_count": null,
   "metadata": {},
   "outputs": [],
   "source": [
    "\"\"\"\n",
    "This file should tests all the filter conditions on mulitple values at once.\n",
    "\n",
    "Instructions:\n",
    "- Run this cell. \n",
    "- Filter A to hold all strings that contains 1 OR strings that contains 5.\n",
    "- Run the generated code, and make sure the df matches the sheet.\n",
    "- Filter B to hold all numbers greater than or equal to 1, and less than or equal to 7.\n",
    "- Run the generated code, and make sure the df matches the sheet.\n",
    "- Filter C to hold all cells that are not empty OR contain 1.\n",
    "- Run the generated code, and make sure the df matches the sheet.\n",
    "- Make sure the sheet holds [1, 1, 1].\n",
    "- Remove the filters on A, and make sure the sheet does not change. \n",
    "- Remove the filters on C, and make sure each column holds [1-7].\n",
    "- Rerun this cell, and make sure the sheet does not change.\n",
    "\"\"\"\n",
    "import mitosheet\n",
    "import pandas as pd\n",
    "df1 = pd.DataFrame(data={'A': [\"123\", \"1\", \"2\", \"3\", \"4\", \"5\", \"5\", \"6\", \"7\", \"8\", \"9\"], \n",
    "                        'B': [123, 1, 2, 3, 4, 5, 5, 6, 7, 8, 9],\n",
    "                        'C': [123, \"1\", \"2\", \"3\", 4, 5, 5, 6, 7, 8, 9]})\n",
    "\n",
    "mitosheet.sheet(df1)"
   ]
  }
 ],
 "metadata": {
  "kernelspec": {
   "display_name": "Python 3",
   "language": "python",
   "name": "python3"
  },
  "language_info": {
   "codemirror_mode": {
    "name": "ipython",
    "version": 3
   },
   "file_extension": ".py",
   "mimetype": "text/x-python",
   "name": "python",
   "nbconvert_exporter": "python",
   "pygments_lexer": "ipython3",
   "version": "3.8.5"
  },
  "widgets": {
   "application/vnd.jupyter.widget-state+json": {
    "state": {
     "298a6039807d4929884fe8781e35c087": {
      "model_module": "mitosheet",
      "model_module_version": "^0.1.41",
      "model_name": "ExampleModel",
      "state": {
       "_model_module_version": "^0.1.41",
       "_view_module_version": "^0.1.41",
       "analysis_name": "UUID-9633ed61-6462-40d9-8358-c96c7a1198da",
       "code_json": "{\"imports\": \"from mitosheet import *\", \"code\": [\"# Step 1\", \"df1 = df1[(df1['A'].str.contains('1', na=False)) | (df1['A'].str.contains('5', na=False))]\", \"# Step 2\", \"df1 = df1[(df1['B'] >= 1) & (df1['B'] <= 7)]\", \"# Step 3\", \"df1 = df1[(df1.C.notnull()) & (df1['C'].str.contains('1', na=False))]\"]}",
       "column_filters_json": "[{\"A\": [{\"type\": \"string\", \"condition\": \"contains\", \"value\": \"1\"}, {\"type\": \"string\", \"condition\": \"contains\", \"value\": \"5\"}], \"B\": [{\"type\": \"number\", \"condition\": \"greater_than_or_equal\", \"value\": 1}, {\"type\": \"number\", \"condition\": \"less_than_or_equal\", \"value\": 7}], \"C\": [{\"type\": \"string\", \"condition\": \"not_empty\", \"value\": 0}, {\"type\": \"string\", \"condition\": \"contains\", \"value\": \"1\"}]}]",
       "column_spreadsheet_code_json": "[{\"A\": \"\", \"B\": \"\", \"C\": \"\"}]",
       "column_type_json": "[{\"A\": \"string\", \"B\": \"number\", \"C\": \"string\"}]",
       "df_names_json": "{\"df_names\": [\"df1\"]}",
       "layout": "IPY_MODEL_758e76f9e8b54df484c8852f7689cc63",
       "saved_analysis_names_json": "[\"test_save0.2763706541540273\"]",
       "sheet_json": "[{\"columns\": [\"A\", \"B\", \"C\"], \"index\": [1], \"data\": [[\"1\", 1, \"1\"]]}]",
       "user_id": "nate",
       "value": "Hello World"
      }
     },
     "2dd1b6312f5d4e42bafd7486eb2d2cae": {
      "model_module": "mitosheet",
      "model_module_version": "^0.1.41",
      "model_name": "ExampleModel",
      "state": {
       "_model_module_version": "^0.1.41",
       "_view_module_version": "^0.1.41",
       "analysis_name": "UUID-df78c074-9803-4bfc-88f0-c14f7aef0114",
       "code_json": "{\"imports\": \"from mitosheet import *\", \"code\": [\"# Step 1\", \"df1 = df1[(df1['B'] >= 1) & (df1['B'] <= 7)]\"]}",
       "column_filters_json": "[{\"A\": [], \"B\": [{\"type\": \"number\", \"condition\": \"greater_than_or_equal\", \"value\": 1}, {\"type\": \"number\", \"condition\": \"less_than_or_equal\", \"value\": 7}], \"C\": []}]",
       "column_spreadsheet_code_json": "[{\"A\": \"\", \"B\": \"\", \"C\": \"\"}]",
       "column_type_json": "[{\"A\": \"string\", \"B\": \"number\", \"C\": \"string\"}]",
       "df_names_json": "{\"df_names\": [\"df1\"]}",
       "layout": "IPY_MODEL_947f4ace2e4f4978933307e81b8bbb7a",
       "saved_analysis_names_json": "[\"test_save0.2763706541540273\"]",
       "sheet_json": "[{\"columns\": [\"A\", \"B\", \"C\"], \"index\": [1, 2, 3, 4, 5, 6, 7, 8], \"data\": [[\"1\", 1, \"1\"], [\"2\", 2, \"2\"], [\"3\", 3, \"3\"], [\"4\", 4, 4], [\"5\", 5, 5], [\"5\", 5, 5], [\"6\", 6, 6], [\"7\", 7, 7]]}]",
       "user_id": "nate",
       "value": "Hello World"
      }
     },
     "725258e50d8e4ef9ab2dd350089e5b17": {
      "model_module": "@jupyter-widgets/base",
      "model_module_version": "1.2.0",
      "model_name": "LayoutModel",
      "state": {}
     },
     "758e76f9e8b54df484c8852f7689cc63": {
      "model_module": "@jupyter-widgets/base",
      "model_module_version": "1.2.0",
      "model_name": "LayoutModel",
      "state": {}
     },
     "947f4ace2e4f4978933307e81b8bbb7a": {
      "model_module": "@jupyter-widgets/base",
      "model_module_version": "1.2.0",
      "model_name": "LayoutModel",
      "state": {}
     },
     "a73e9a799884485fb27e8cfbfe54fece": {
      "model_module": "mitosheet",
      "model_module_version": "^0.1.41",
      "model_name": "ExampleModel",
      "state": {
       "_model_module_version": "^0.1.41",
       "_view_module_version": "^0.1.41",
       "analysis_name": "UUID-f76ad27f-09ef-4f69-94c5-c9ca88a42560",
       "code_json": "{\"imports\": \"from mitosheet import *\", \"code\": [\"# Step 1\", \"df1 = df1[(df1['A'].str.contains('1', na=False)) | (df1['A'].str.contains('5', na=False))]\"]}",
       "column_filters_json": "[{\"A\": [{\"type\": \"string\", \"condition\": \"contains\", \"value\": \"1\"}, {\"type\": \"string\", \"condition\": \"contains\", \"value\": \"5\"}], \"B\": [], \"C\": []}]",
       "column_spreadsheet_code_json": "[{\"A\": \"\", \"B\": \"\", \"C\": \"\"}]",
       "column_type_json": "[{\"A\": \"string\", \"B\": \"number\", \"C\": \"string\"}]",
       "df_names_json": "{\"df_names\": [\"df1\"]}",
       "layout": "IPY_MODEL_b2b8cb89063646a3a599f9744d3c83b5",
       "saved_analysis_names_json": "[\"test_save0.2763706541540273\"]",
       "sheet_json": "[{\"columns\": [\"A\", \"B\", \"C\"], \"index\": [0, 1, 5, 6], \"data\": [[\"123\", 123, 123], [\"1\", 1, \"1\"], [\"5\", 5, 5], [\"5\", 5, 5]]}]",
       "user_id": "nate",
       "value": "Hello World"
      }
     },
     "b2b8cb89063646a3a599f9744d3c83b5": {
      "model_module": "@jupyter-widgets/base",
      "model_module_version": "1.2.0",
      "model_name": "LayoutModel",
      "state": {}
     },
     "ce05bba3b5b34ddd87c4a26651b17ffb": {
      "model_module": "mitosheet",
      "model_module_version": "^0.1.41",
      "model_name": "ExampleModel",
      "state": {
       "_model_module_version": "^0.1.41",
       "_view_module_version": "^0.1.41",
       "analysis_name": "UUID-7e3c3173-67c4-46ec-94ff-ff457f0d25c6",
       "code_json": "{\"imports\": \"from mitosheet import *\", \"code\": []}",
       "column_filters_json": "[{\"A\": [], \"B\": [], \"C\": []}]",
       "column_spreadsheet_code_json": "[{\"A\": \"\", \"B\": \"\", \"C\": \"\"}]",
       "column_type_json": "[{\"A\": \"string\", \"B\": \"number\", \"C\": \"string\"}]",
       "df_names_json": "{\"df_names\": [\"df1\"]}",
       "layout": "IPY_MODEL_725258e50d8e4ef9ab2dd350089e5b17",
       "saved_analysis_names_json": "[\"test_save0.2763706541540273\"]",
       "sheet_json": "[{\"columns\": [\"A\", \"B\", \"C\"], \"index\": [0, 1, 2, 3, 4, 5, 6, 7, 8, 9, 10], \"data\": [[\"123\", 123, 123], [\"1\", 1, \"1\"], [\"2\", 2, \"2\"], [\"3\", 3, \"3\"], [\"4\", 4, 4], [\"5\", 5, 5], [\"5\", 5, 5], [\"6\", 6, 6], [\"7\", 7, 7], [\"8\", 8, 8], [\"9\", 9, 9]]}]",
       "user_id": "nate",
       "value": "Hello World"
      }
     }
    },
    "version_major": 2,
    "version_minor": 0
   }
  }
 },
 "nbformat": 4,
 "nbformat_minor": 4
}
