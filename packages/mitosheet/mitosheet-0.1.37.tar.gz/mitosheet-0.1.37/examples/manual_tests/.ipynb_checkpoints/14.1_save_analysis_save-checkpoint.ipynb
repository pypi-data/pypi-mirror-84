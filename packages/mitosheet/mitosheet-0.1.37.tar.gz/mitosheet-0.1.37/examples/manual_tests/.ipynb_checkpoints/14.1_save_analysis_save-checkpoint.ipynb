{
 "cells": [
  {
   "cell_type": "code",
   "execution_count": null,
   "metadata": {},
   "outputs": [],
   "source": [
    "\"\"\"\n",
    "This file tests some saving an analysis one file, and running it in another.\n",
    "\n",
    "Instructions:\n",
    "1. Run this cell. \n",
    "2. Merge the two dataframes together on Key1 and Key2. \n",
    "3. Save the analysis as testing\n",
    "4. Switch to file 14.2.\n",
    "\"\"\"\n",
    "import pandas as pd\n",
    "import mitosheet\n",
    "df1 = pd.DataFrame(data={'Key1': ['A', 'B', 'C', 'D'], 'value': [1,2,3,4]})\n",
    "df2 = pd.DataFrame(data={'Key2': ['A', 'A', 'B', 'B'], 'value': [5,6,7,8]})\n",
    "mitosheet.sheet(df1, df2)"
   ]
  },
  {
   "cell_type": "code",
   "execution_count": null,
   "metadata": {},
   "outputs": [],
   "source": []
  }
 ],
 "metadata": {
  "kernelspec": {
   "display_name": "Python 3",
   "language": "python",
   "name": "python3"
  },
  "language_info": {
   "codemirror_mode": {
    "name": "ipython",
    "version": 3
   },
   "file_extension": ".py",
   "mimetype": "text/x-python",
   "name": "python",
   "nbconvert_exporter": "python",
   "pygments_lexer": "ipython3",
   "version": "3.8.5"
  },
  "widgets": {
   "application/vnd.jupyter.widget-state+json": {
    "state": {
     "1b37ca2f68b5476892b9c3024ddbf1d3": {
      "model_module": "mitosheet",
      "model_module_version": "^0.1.36",
      "model_name": "ExampleModel",
      "state": {
       "_model_module_version": "^0.1.36",
       "_view_module_version": "^0.1.36",
       "analysis_name": "UUID-ebb726c4-7b3e-4ee1-99e9-157708280201",
       "code_json": "{\"imports\": \"from mitosheet import AVG,CLEAN,CONCAT,FIND,LEFT,LEN,LOWER,MID,MULTIPLY,PROPER,RIGHT,SUBSTITUTE,SUM,TRIM,UPPER\", \"code\": []}",
       "column_spreadsheet_code_json": "[{\"Key1\": \"\", \"value\": \"\"}, {\"Key100\": \"\", \"value\": \"\"}]",
       "df_names_json": "{\"df_names\": [\"df1\", \"df2\"]}",
       "layout": "IPY_MODEL_8b31fd82845b4258940ecf6584ba2c50",
       "saved_analysis_names_json": "[\"Add 100\", \"Testing\"]",
       "sheet_json": "[{\"columns\": [\"Key1\", \"value\"], \"index\": [0, 1, 2, 3], \"data\": [[\"A\", 1], [\"B\", 2], [\"C\", 3], [\"D\", 4]]}, {\"columns\": [\"Key100\", \"value\"], \"index\": [0, 1, 2, 3], \"data\": [[\"A\", 5], [\"A\", 6], [\"B\", 7], [\"B\", 8]]}]",
       "user_id": "nate",
       "value": "Hello World"
      }
     },
     "1f48450abbf048d39566f27845a8bbaf": {
      "model_module": "@jupyter-widgets/base",
      "model_module_version": "1.2.0",
      "model_name": "LayoutModel",
      "state": {}
     },
     "2a447e9280a44fe68113eebb63e4db18": {
      "model_module": "@jupyter-widgets/base",
      "model_module_version": "1.2.0",
      "model_name": "LayoutModel",
      "state": {}
     },
     "34b3d5c618b4493faece342c3bd02572": {
      "model_module": "mitosheet",
      "model_module_version": "^0.1.36",
      "model_name": "ExampleModel",
      "state": {
       "_model_module_version": "^0.1.36",
       "_view_module_version": "^0.1.36",
       "analysis_name": "UUID-33beef0c-7e9a-49d5-ab0c-3038dac88751",
       "code_json": "{\"imports\": \"from mitosheet import AVG,CLEAN,CONCAT,FIND,LEFT,LEN,LOWER,MID,MULTIPLY,PROPER,RIGHT,SUBSTITUTE,SUM,TRIM,UPPER\", \"code\": []}",
       "column_spreadsheet_code_json": "[{\"Key1\": \"\", \"value\": \"\"}, {\"Key2\": \"\", \"value\": \"\"}]",
       "df_names_json": "{\"df_names\": [\"df1\", \"df2\"]}",
       "layout": "IPY_MODEL_bb6ff509eed3417c9ed6ca7cbb9e00a1",
       "saved_analysis_names_json": "[\"Add 100\", \"Testing\"]",
       "sheet_json": "[{\"columns\": [\"Key1\", \"value\"], \"index\": [0, 1, 2, 3], \"data\": [[\"A\", 1], [\"B\", 2], [\"C\", 3], [\"D\", 4]]}, {\"columns\": [\"Key2\", \"value\"], \"index\": [0, 1, 2, 3], \"data\": [[\"A\", 5], [\"A\", 6], [\"B\", 7], [\"B\", 8]]}]",
       "user_id": "nate",
       "value": "Hello World"
      }
     },
     "73c7f8864baf407190c5d827e90cd203": {
      "model_module": "@jupyter-widgets/base",
      "model_module_version": "1.2.0",
      "model_name": "LayoutModel",
      "state": {}
     },
     "7543623794374cbf99045ae59889433f": {
      "model_module": "mitosheet",
      "model_module_version": "^0.1.36",
      "model_name": "ExampleModel",
      "state": {
       "_model_module_version": "^0.1.36",
       "_view_module_version": "^0.1.36",
       "analysis_name": "UUID-6dc07da7-8f1b-4fe6-93ab-2060abff3a06",
       "code_json": "{\"imports\": \"from mitosheet import AVG,CLEAN,CONCAT,FIND,LEFT,LEN,LOWER,MID,MULTIPLY,PROPER,RIGHT,SUBSTITUTE,SUM,TRIM,UPPER\", \"code\": [\"# Step 1\", \"df1['C'] = 0\", \"# Step 2\", \"temp_df = df2.drop_duplicates(subset='Key2')\", \"df3 = df1.merge(temp_df, left_on=['Key1'], right_on=['Key2'], how='left', suffixes=['_df1', '_df2'])\", \"# Step 3\", \"df1['C'] = 0\"]}",
       "column_spreadsheet_code_json": "[{\"Key1\": \"\", \"value\": \"\", \"C\": \"=0\"}, {\"Key2\": \"\", \"value\": \"\"}, {\"Key1\": \"\", \"value_df1\": \"\", \"C\": \"\", \"Key2\": \"\", \"value_df2\": \"\"}]",
       "df_names_json": "{\"df_names\": [\"df1\", \"df2\", \"df3\"]}",
       "layout": "IPY_MODEL_73c7f8864baf407190c5d827e90cd203",
       "saved_analysis_names_json": "[\"Add 100\", \"Testing\"]",
       "sheet_json": "[{\"columns\": [\"Key1\", \"value\", \"C\"], \"index\": [0, 1, 2, 3], \"data\": [[\"A\", 1, 0], [\"B\", 2, 0], [\"C\", 3, 0], [\"D\", 4, 0]]}, {\"columns\": [\"Key2\", \"value\"], \"index\": [0, 1, 2, 3], \"data\": [[\"A\", 5], [\"A\", 6], [\"B\", 7], [\"B\", 8]]}, {\"columns\": [\"Key1\", \"value_df1\", \"C\", \"Key2\", \"value_df2\"], \"index\": [0, 1, 2, 3], \"data\": [[\"A\", 1, 0, \"A\", 5.0], [\"B\", 2, 0, \"B\", 7.0], [\"C\", 3, 0, \"undefined\", \"undefined\"], [\"D\", 4, 0, \"undefined\", \"undefined\"]]}]",
       "user_id": "nate",
       "value": "Hello World"
      }
     },
     "8b31fd82845b4258940ecf6584ba2c50": {
      "model_module": "@jupyter-widgets/base",
      "model_module_version": "1.2.0",
      "model_name": "LayoutModel",
      "state": {}
     },
     "9db11bc3ad38455fb52afbaa6c169cb5": {
      "model_module": "@jupyter-widgets/base",
      "model_module_version": "1.2.0",
      "model_name": "LayoutModel",
      "state": {}
     },
     "bb6ff509eed3417c9ed6ca7cbb9e00a1": {
      "model_module": "@jupyter-widgets/base",
      "model_module_version": "1.2.0",
      "model_name": "LayoutModel",
      "state": {}
     },
     "cb8fed8835db41768ee13933978a9780": {
      "model_module": "mitosheet",
      "model_module_version": "^0.1.36",
      "model_name": "ExampleModel",
      "state": {
       "_model_module_version": "^0.1.36",
       "_view_module_version": "^0.1.36",
       "analysis_name": "UUID-267af3b5-a2a4-4c50-9c5c-12622a1d6931",
       "code_json": "{\"imports\": \"from mitosheet import AVG,CLEAN,CONCAT,FIND,LEFT,LEN,LOWER,MID,MULTIPLY,PROPER,RIGHT,SUBSTITUTE,SUM,TRIM,UPPER\", \"code\": [\"# Step 1\", \"temp_df = df2.drop_duplicates(subset='Key2')\", \"df3 = df1.merge(temp_df, left_on=['Key1'], right_on=['Key2'], how='left', suffixes=['_df1', '_df2'])\"]}",
       "column_spreadsheet_code_json": "[{\"Key1\": \"\", \"value\": \"\"}, {\"Key2\": \"\", \"value\": \"\"}, {\"Key1\": \"\", \"value_df1\": \"\", \"Key2\": \"\", \"value_df2\": \"\"}]",
       "df_names_json": "{\"df_names\": [\"df1\", \"df2\", \"df3\"]}",
       "layout": "IPY_MODEL_1f48450abbf048d39566f27845a8bbaf",
       "saved_analysis_names_json": "[\"Add 100\", \"Testing\"]",
       "sheet_json": "[{\"columns\": [\"Key1\", \"value\"], \"index\": [0, 1, 2, 3], \"data\": [[\"A\", 1], [\"B\", 2], [\"C\", 3], [\"D\", 4]]}, {\"columns\": [\"Key2\", \"value\"], \"index\": [0, 1, 2, 3], \"data\": [[\"A\", 5], [\"A\", 6], [\"B\", 7], [\"B\", 8]]}, {\"columns\": [\"Key1\", \"value_df1\", \"Key2\", \"value_df2\"], \"index\": [0, 1, 2, 3], \"data\": [[\"A\", 1, \"A\", 5.0], [\"B\", 2, \"B\", 7.0], [\"C\", 3, \"undefined\", \"undefined\"], [\"D\", 4, \"undefined\", \"undefined\"]]}]",
       "user_id": "nate",
       "value": "Hello World"
      }
     },
     "dc6e6d86413d4f9f9c00d62177f6ba42": {
      "model_module": "mitosheet",
      "model_module_version": "^0.1.36",
      "model_name": "ExampleModel",
      "state": {
       "_model_module_version": "^0.1.36",
       "_view_module_version": "^0.1.36",
       "analysis_name": "UUID-0307aa6b-2022-425e-a01d-6c66ef984170",
       "code_json": "{\"imports\": \"from mitosheet import AVG,CLEAN,CONCAT,FIND,LEFT,LEN,LOWER,MID,MULTIPLY,PROPER,RIGHT,SUBSTITUTE,SUM,TRIM,UPPER\", \"code\": [\"# Step 1\", \"df1['C'] = 0\", \"# Step 2\", \"temp_df = df2.drop_duplicates(subset='Key2')\", \"df3 = df1.merge(temp_df, left_on=['Key1'], right_on=['Key2'], how='left', suffixes=['_df1', '_df2'])\", \"# Step 3\", \"df1['C'] = 0\"]}",
       "column_spreadsheet_code_json": "[{\"Key1\": \"\", \"value\": \"\", \"C\": \"=0\"}, {\"Key2\": \"\", \"value\": \"\"}, {\"Key1\": \"\", \"value_df1\": \"\", \"C\": \"\", \"Key2\": \"\", \"value_df2\": \"\"}]",
       "df_names_json": "{\"df_names\": [\"df1\", \"df2\"]}",
       "layout": "IPY_MODEL_2a447e9280a44fe68113eebb63e4db18",
       "saved_analysis_names_json": "[\"Add 100\", \"Testing\"]",
       "sheet_json": "[{\"columns\": [\"Key1\", \"value\", \"C\"], \"index\": [0, 1, 2, 3], \"data\": [[\"A\", 1, 0], [\"B\", 2, 0], [\"C\", 3, 0], [\"D\", 4, 0]]}, {\"columns\": [\"Key2\", \"value\"], \"index\": [0, 1, 2, 3], \"data\": [[\"A\", 5], [\"A\", 6], [\"B\", 7], [\"B\", 8]]}, {\"columns\": [\"Key1\", \"value_df1\", \"C\", \"Key2\", \"value_df2\"], \"index\": [0, 1, 2, 3], \"data\": [[\"A\", 1, 0, \"A\", 5.0], [\"B\", 2, 0, \"B\", 7.0], [\"C\", 3, 0, \"undefined\", \"undefined\"], [\"D\", 4, 0, \"undefined\", \"undefined\"]]}]",
       "user_id": "nate",
       "value": "Hello World"
      }
     },
     "df77c05b0c67497e95fe357a97fe0929": {
      "model_module": "mitosheet",
      "model_module_version": "^0.1.36",
      "model_name": "ExampleModel",
      "state": {
       "_model_module_version": "^0.1.36",
       "_view_module_version": "^0.1.36",
       "analysis_name": "UUID-d7eb378d-fee6-47c4-9e45-ec8f39c364fb",
       "code_json": "{\"imports\": \"from mitosheet import AVG,CLEAN,CONCAT,FIND,LEFT,LEN,LOWER,MID,MULTIPLY,PROPER,RIGHT,SUBSTITUTE,SUM,TRIM,UPPER\", \"code\": []}",
       "column_spreadsheet_code_json": "[{\"Key1\": \"\", \"value\": \"\"}, {\"Key2\": \"\", \"value\": \"\"}]",
       "df_names_json": "{\"df_names\": [\"df1\", \"df2\"]}",
       "layout": "IPY_MODEL_9db11bc3ad38455fb52afbaa6c169cb5",
       "saved_analysis_names_json": "[\"Add 100\", \"Testing\"]",
       "sheet_json": "[{\"columns\": [\"Key1\", \"value\"], \"index\": [0, 1, 2, 3], \"data\": [[\"A\", 1], [\"B\", 2], [\"C\", 3], [\"D\", 4]]}, {\"columns\": [\"Key2\", \"value\"], \"index\": [0, 1, 2, 3], \"data\": [[\"A\", 5], [\"A\", 6], [\"B\", 7], [\"B\", 8]]}]",
       "user_id": "nate",
       "value": "Hello World"
      }
     }
    },
    "version_major": 2,
    "version_minor": 0
   }
  }
 },
 "nbformat": 4,
 "nbformat_minor": 4
}
