{
 "cells": [
  {
   "cell_type": "code",
   "execution_count": null,
   "metadata": {},
   "outputs": [],
   "source": [
    "\"\"\"\n",
    "This file should tests all the filter conditions on\n",
    "\n",
    "Instructions:\n",
    "- Run this cell. \n",
    "- Add three columns and set them equal to A, B, and C respectively (put them in parens, to avoid the suggestion box bug).\n",
    "- Test filter D to each of the possible conditions, choosing random values.\n",
    "- Test filter E to each of the possible conditions, choosing random values.\n",
    "- Test filter F to each of the possible conditions, choosing random values.\n",
    "- Check that the code is being generated and updated as you cycle through conditions.\n",
    "\"\"\"\n",
    "import mitosheet\n",
    "import pandas as pd\n",
    "df1 = pd.DataFrame(data={'A': [\"123\", \"1\", \"2\", \"3\", \"4\", \"5\", \"5\", \"6\", \"7\", \"8\", \"9\"], \n",
    "                        'B': [123, 1, 2, 3, 4, 5, 5, 6, 7, 8, 9],\n",
    "                        'C': [123, \"1\", \"2\", \"3\", 4, 5, 5, 6, 7, 8, 9]})\n",
    "\n",
    "mitosheet.sheet(df1)"
   ]
  }
 ],
 "metadata": {
  "kernelspec": {
   "display_name": "Python 3",
   "language": "python",
   "name": "python3"
  },
  "language_info": {
   "codemirror_mode": {
    "name": "ipython",
    "version": 3
   },
   "file_extension": ".py",
   "mimetype": "text/x-python",
   "name": "python",
   "nbconvert_exporter": "python",
   "pygments_lexer": "ipython3",
   "version": "3.8.5"
  },
  "widgets": {
   "application/vnd.jupyter.widget-state+json": {
    "state": {
     "3b48e8b416b54a9a9648cf2a17e9e57d": {
      "model_module": "@jupyter-widgets/base",
      "model_module_version": "1.2.0",
      "model_name": "LayoutModel",
      "state": {}
     },
     "470a678fbb644e2bb16f5b92b1b5ac89": {
      "model_module": "mitosheet",
      "model_module_version": "^0.1.36",
      "model_name": "ExampleModel",
      "state": {
       "_model_module_version": "^0.1.36",
       "_view_module_version": "^0.1.36",
       "analysis_name": "UUID-5be29905-95e0-431e-85fe-6300a4070add",
       "code_json": "{\"imports\": \"from mitosheet import AVG,CLEAN,CONCAT,FIND,LEFT,LEN,LOWER,MID,MULTIPLY,PROPER,RIGHT,ROUND,SUBSTITUTE,SUM,TRIM,UPPER\", \"code\": [\"# Step 1\", \"df1[df1['C'].str.contains('1', na=False)]\"]}",
       "column_filters_json": "[{\"A\": {\"condition\": \"none\", \"value\": \"\", \"type\": \"string\"}, \"B\": {\"condition\": \"none\", \"value\": \"\", \"type\": \"number\"}, \"C\": {\"condition\": \"contains\", \"value\": \"1\", \"type\": \"string\"}}]",
       "column_spreadsheet_code_json": "[{\"A\": \"\", \"B\": \"\", \"C\": \"\"}]",
       "df_names_json": "{\"df_names\": [\"df1\"]}",
       "layout": "IPY_MODEL_6d5ab0e27b364689901ff5b7df1f1c5b",
       "saved_analysis_names_json": "[]",
       "sheet_json": "[{\"columns\": [\"A\", \"B\", \"C\"], \"index\": [1], \"data\": [[\"1\", 1, \"1\"]]}]",
       "user_id": "nate",
       "value": "Hello World"
      }
     },
     "562d5588fd7242e48955fe259db9dc91": {
      "model_module": "mitosheet",
      "model_module_version": "^0.1.36",
      "model_name": "ExampleModel",
      "state": {
       "_model_module_version": "^0.1.36",
       "_view_module_version": "^0.1.36",
       "analysis_name": "UUID-eb91874e-97d6-4a3d-954c-13e51995e1b0",
       "code_json": "{\"imports\": \"from mitosheet import AVG,CLEAN,CONCAT,FIND,LEFT,LEN,LOWER,MID,MULTIPLY,PROPER,RIGHT,ROUND,SUBSTITUTE,SUM,TRIM,UPPER\", \"code\": []}",
       "column_filters_json": "[{\"A\": {\"condition\": \"none\", \"value\": \"\", \"type\": \"string\"}, \"B\": {\"condition\": \"none\", \"value\": \"\", \"type\": \"number\"}, \"C\": {\"condition\": \"none\", \"value\": \"\", \"type\": \"string\"}}]",
       "column_spreadsheet_code_json": "[{\"A\": \"\", \"B\": \"\", \"C\": \"\"}]",
       "df_names_json": "{\"df_names\": [\"df1\"]}",
       "layout": "IPY_MODEL_3b48e8b416b54a9a9648cf2a17e9e57d",
       "saved_analysis_names_json": "[]",
       "sheet_json": "[{\"columns\": [\"A\", \"B\", \"C\"], \"index\": [0, 1, 2, 3, 4, 5, 6, 7, 8, 9, 10], \"data\": [[\"123\", 123, 123], [\"1\", 1, \"1\"], [\"2\", 2, \"2\"], [\"3\", 3, \"3\"], [\"4\", 4, 4], [\"5\", 5, 5], [\"5\", 5, 5], [\"6\", 6, 6], [\"7\", 7, 7], [\"8\", 8, 8], [\"9\", 9, 9]]}]",
       "user_id": "nate",
       "value": "Hello World"
      }
     },
     "6d5ab0e27b364689901ff5b7df1f1c5b": {
      "model_module": "@jupyter-widgets/base",
      "model_module_version": "1.2.0",
      "model_name": "LayoutModel",
      "state": {}
     }
    },
    "version_major": 2,
    "version_minor": 0
   }
  }
 },
 "nbformat": 4,
 "nbformat_minor": 4
}
