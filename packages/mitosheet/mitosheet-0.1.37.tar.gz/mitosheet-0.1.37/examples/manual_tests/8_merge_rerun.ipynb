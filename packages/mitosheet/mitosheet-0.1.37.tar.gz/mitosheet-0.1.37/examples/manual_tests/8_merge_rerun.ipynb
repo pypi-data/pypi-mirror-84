{
 "cells": [
  {
   "cell_type": "code",
   "execution_count": 1,
   "metadata": {},
   "outputs": [
    {
     "data": {
      "application/vnd.jupyter.widget-view+json": {
       "model_id": "48ef5ff275064997a68b4501a885682a",
       "version_major": 2,
       "version_minor": 0
      },
      "text/plain": [
       "MitoWidget(code_json='{\"imports\": \"from mitosheet import AVG,CLEAN,CONCAT,FIND,LEFT,LEN,LOWER,MID,MULTIPLY,PRO…"
      ]
     },
     "metadata": {},
     "output_type": "display_data"
    }
   ],
   "source": [
    "\"\"\"\n",
    "This file tests some repetitive merging functionality with Mito, where\n",
    "the merged sheet is then used as part of another merge\n",
    "\n",
    "Instructions:\n",
    "1. Run this cell\n",
    "2. Click the merge button in the toolbar and merge df1 and df2 together on Key1 and Key2, respectivly\n",
    "3. Check that a new sheet, df3, is created and that it contains only 4 rows. The first row should read: [A, 1, A, 5]. \n",
    "4. Rerun this cell. \n",
    "5. Check that the sheet, df3, is still there. \n",
    "6. On Sheet df1, create a new column and set it equal to column Key1\n",
    "7. On Sheet df2, create a new column and set it equal to column Key2 \n",
    "8. On df3, create a new column and set it to =CONCAT(Key1, Key2)\n",
    "9. Take a look at each sheet, rerun the codeblock and make sure that each sheet did not change. Make sure you can edit the columns you made above. \n",
    "10. Open the Merge modal\n",
    "    1. Set First Sheet to df1\n",
    "    2. Set Second Sheet to df3\n",
    "    3. Check to make sure that the keys automatically updated to Key1 and Key1\n",
    "    4. Click Merge\n",
    "11. Check the new sheet exists. \n",
    "\"\"\"\n",
    "\n",
    "    \n",
    "import pandas as pd\n",
    "import mitosheet\n",
    "df1 = pd.DataFrame(data={'Key1': ['A', 'B', 'C', 'D'], 'value': [1,2,3,4]})\n",
    "df2 = pd.DataFrame(data={'Key2': ['A', 'A', 'B', 'B'], 'value': [5,6,7,8]})\n",
    "mitosheet.sheet(df1, df2)"
   ]
  },
  {
   "cell_type": "code",
   "execution_count": 2,
   "metadata": {},
   "outputs": [
    {
     "data": {
      "text/html": [
       "<div>\n",
       "<style scoped>\n",
       "    .dataframe tbody tr th:only-of-type {\n",
       "        vertical-align: middle;\n",
       "    }\n",
       "\n",
       "    .dataframe tbody tr th {\n",
       "        vertical-align: top;\n",
       "    }\n",
       "\n",
       "    .dataframe thead th {\n",
       "        text-align: right;\n",
       "    }\n",
       "</style>\n",
       "<table border=\"1\" class=\"dataframe\">\n",
       "  <thead>\n",
       "    <tr style=\"text-align: right;\">\n",
       "      <th></th>\n",
       "      <th>Key1</th>\n",
       "      <th>value</th>\n",
       "      <th>Key2</th>\n",
       "    </tr>\n",
       "  </thead>\n",
       "  <tbody>\n",
       "    <tr>\n",
       "      <th>0</th>\n",
       "      <td>A</td>\n",
       "      <td>1</td>\n",
       "      <td>A</td>\n",
       "    </tr>\n",
       "    <tr>\n",
       "      <th>1</th>\n",
       "      <td>B</td>\n",
       "      <td>2</td>\n",
       "      <td>B</td>\n",
       "    </tr>\n",
       "    <tr>\n",
       "      <th>2</th>\n",
       "      <td>C</td>\n",
       "      <td>3</td>\n",
       "      <td>NaN</td>\n",
       "    </tr>\n",
       "    <tr>\n",
       "      <th>3</th>\n",
       "      <td>D</td>\n",
       "      <td>4</td>\n",
       "      <td>NaN</td>\n",
       "    </tr>\n",
       "  </tbody>\n",
       "</table>\n",
       "</div>"
      ],
      "text/plain": [
       "  Key1  value Key2\n",
       "0    A      1    A\n",
       "1    B      2    B\n",
       "2    C      3  NaN\n",
       "3    D      4  NaN"
      ]
     },
     "execution_count": 2,
     "metadata": {},
     "output_type": "execute_result"
    }
   ],
   "source": [
    "# MITO CODE START (DO NOT EDIT)\n",
    "# SAVED-ANALYSIS-START7a00bb24-b589-45f1-8ab6-a7671b8da845SAVED-ANALYSIS-END\n",
    "\n",
    "from mitosheet import *\n",
    "\n",
    "# Step 1\n",
    "\n",
    "temp_df = df2.drop_duplicates(subset='Key2')\n",
    "\n",
    "df2_tmp = temp_df.drop(['value'], axis=1)\n",
    "\n",
    "df3 = df1.merge(df2_tmp, left_on=['Key1'], right_on=['Key2'], how='left', suffixes=['_df1', '_df2'])\n",
    "  \n",
    "# MITO CODE END (DO NOT EDIT)\n",
    "df3.head()"
   ]
  },
  {
   "cell_type": "code",
   "execution_count": null,
   "metadata": {},
   "outputs": [],
   "source": []
  }
 ],
 "metadata": {
  "kernelspec": {
   "display_name": "Python 3",
   "language": "python",
   "name": "python3"
  },
  "language_info": {
   "codemirror_mode": {
    "name": "ipython",
    "version": 3
   },
   "file_extension": ".py",
   "mimetype": "text/x-python",
   "name": "python",
   "nbconvert_exporter": "python",
   "pygments_lexer": "ipython3",
   "version": "3.8.5"
  },
  "widgets": {
   "application/vnd.jupyter.widget-state+json": {
    "state": {},
    "version_major": 2,
    "version_minor": 0
   }
  }
 },
 "nbformat": 4,
 "nbformat_minor": 4
}
