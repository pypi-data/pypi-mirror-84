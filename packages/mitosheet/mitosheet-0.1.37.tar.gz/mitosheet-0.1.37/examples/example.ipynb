{
 "cells": [
  {
   "cell_type": "code",
   "execution_count": 4,
   "metadata": {},
   "outputs": [
    {
     "data": {
      "application/vnd.jupyter.widget-view+json": {
       "model_id": "b9dd730d23834aba8c8211107bc19e45",
       "version_major": 2,
       "version_minor": 0
      },
      "text/plain": [
       "MitoWidget(code_json='{\"imports\": \"from mitosheet import AVG,CLEAN,CONCAT,FIND,LEFT,LEN,LOWER,MID,MULTIPLY,PRO…"
      ]
     },
     "metadata": {},
     "output_type": "display_data"
    }
   ],
   "source": [
    "import mitosheet\n",
    "import pandas as pd\n",
    "df = pd.DataFrame(data={'AAA': [123], 'B': [1234]})\n",
    "df1 = pd.DataFrame(data={'A': [123]})\n",
    "mitosheet.sheet(df)"
   ]
  },
  {
   "cell_type": "code",
   "execution_count": null,
   "metadata": {},
   "outputs": [],
   "source": [
    "# MITO CODE START (DO NOT EDIT)\n",
    "# SAVED-ANALYSIS-STARTUUID-bae96d06-02c7-47b2-965b-2f320a9ca4b6SAVED-ANALYSIS-END\n",
    "\n",
    "from mitosheet import *\n",
    "\n",
    "# Step 1\n",
    "\n",
    "df['C'] = 0\n",
    "  \n",
    "# MITO CODE END (DO NOT EDIT)"
   ]
  },
  {
   "cell_type": "code",
   "execution_count": null,
   "metadata": {},
   "outputs": [],
   "source": []
  }
 ],
 "metadata": {
  "kernelspec": {
   "display_name": "Python 3",
   "language": "python",
   "name": "python3"
  },
  "language_info": {
   "codemirror_mode": {
    "name": "ipython",
    "version": 3
   },
   "file_extension": ".py",
   "mimetype": "text/x-python",
   "name": "python",
   "nbconvert_exporter": "python",
   "pygments_lexer": "ipython3",
   "version": "3.8.5"
  },
  "widgets": {
   "application/vnd.jupyter.widget-state+json": {
    "state": {
     "47eccc9852b04dc8b128e0fd099d3054": {
      "model_module": "mitosheet",
      "model_module_version": "^0.1.36",
      "model_name": "ExampleModel",
      "state": {
       "_model_module_version": "^0.1.36",
       "_view_module_version": "^0.1.36",
       "analysis_name": "UUID-16679cad-90ed-4698-b401-8e175a97e428",
       "code_json": "{\"imports\": \"from mitosheet import AVG,CLEAN,CONCAT,FIND,LEFT,LEN,LOWER,MID,MULTIPLY,PROPER,RIGHT,SUBSTITUTE,SUM,TRIM,UPPER\", \"code\": [\"# Step 1\", \"df['C'] = 0\"]}",
       "column_filters": "[{\"AAA\": {\"condition\": \"none\", \"value\": \"\"}, \"B\": {\"condition\": \"none\", \"value\": \"\"}, \"C\": {\"condition\": \"none\", \"value\": \"\"}}]",
       "column_spreadsheet_code_json": "[{\"AAA\": \"\", \"B\": \"\", \"C\": \"=0\"}]",
       "df_names_json": "{\"df_names\": [\"df\"]}",
       "layout": "IPY_MODEL_a1ac67fc26e644838b4b9b6171c460a5",
       "saved_analysis_names_json": "[\"Save Analysis\"]",
       "sheet_json": "[{\"columns\": [\"AAA\", \"B\", \"C\"], \"index\": [0], \"data\": [[123, 1234, 0]]}]",
       "user_id": "nate",
       "value": "Hello World"
      }
     },
     "680b21ffd4244d0ba713abbae9f829ac": {
      "model_module": "@jupyter-widgets/base",
      "model_module_version": "1.2.0",
      "model_name": "LayoutModel",
      "state": {}
     },
     "80cf41502f5c40e394d0df6d5377e410": {
      "model_module": "mitosheet",
      "model_module_version": "^0.1.36",
      "model_name": "ExampleModel",
      "state": {
       "_model_module_version": "^0.1.36",
       "_view_module_version": "^0.1.36",
       "analysis_name": "UUID-56cd61d9-017f-42e0-866a-2252e5852105",
       "code_json": "{\"imports\": \"from mitosheet import AVG,CLEAN,CONCAT,FIND,LEFT,LEN,LOWER,MID,MULTIPLY,PROPER,RIGHT,SUBSTITUTE,SUM,TRIM,UPPER\", \"code\": []}",
       "column_filters": "[{\"AAA\": {\"condition\": \"none\", \"value\": \"\"}, \"B\": {\"condition\": \"none\", \"value\": \"\"}}]",
       "column_spreadsheet_code_json": "[{\"AAA\": \"\", \"B\": \"\"}]",
       "df_names_json": "{\"df_names\": [\"df\"]}",
       "layout": "IPY_MODEL_680b21ffd4244d0ba713abbae9f829ac",
       "saved_analysis_names_json": "[]",
       "sheet_json": "[{\"columns\": [\"AAA\", \"B\"], \"index\": [0], \"data\": [[123, 1234]]}]",
       "user_id": "nate",
       "value": "Hello World"
      }
     },
     "893e5edbfe934e508c77989a13ff0494": {
      "model_module": "@jupyter-widgets/base",
      "model_module_version": "1.2.0",
      "model_name": "LayoutModel",
      "state": {}
     },
     "92e80fa8be68475eb837c48e892b7929": {
      "model_module": "mitosheet",
      "model_module_version": "^0.1.36",
      "model_name": "ExampleModel",
      "state": {
       "_model_module_version": "^0.1.36",
       "_view_module_version": "^0.1.36",
       "analysis_name": "UUID-d29c9783-faa4-492a-af48-529d5d1dbc38",
       "code_json": "{\"imports\": \"from mitosheet import AVG,CLEAN,CONCAT,FIND,LEFT,LEN,LOWER,MID,MULTIPLY,PROPER,RIGHT,SUBSTITUTE,SUM,TRIM,UPPER\", \"code\": []}",
       "column_filters": "[{\"AAA\": {\"condition\": \"none\", \"value\": \"\"}, \"B\": {\"condition\": \"none\", \"value\": \"\"}}]",
       "column_spreadsheet_code_json": "[{\"AAA\": \"\", \"B\": \"\"}]",
       "df_names_json": "{\"df_names\": [\"df\"]}",
       "layout": "IPY_MODEL_e7c9a10b36854757bf5fff41ab04c69e",
       "saved_analysis_names_json": "[\"Add 100\", \"Add B\", \"Merge Add B\", \"Merge\", \"Testing\", \"test_save0.1566523923365759\", \"test_save0.4253863859907616\", \"test_save0.5445992789231556\", \"test_save0.7280124721545206\"]",
       "sheet_json": "[{\"columns\": [\"AAA\", \"B\"], \"index\": [0], \"data\": [[123, 1234]]}]",
       "user_id": "nate",
       "value": "Hello World"
      }
     },
     "a1ac67fc26e644838b4b9b6171c460a5": {
      "model_module": "@jupyter-widgets/base",
      "model_module_version": "1.2.0",
      "model_name": "LayoutModel",
      "state": {}
     },
     "b9dd730d23834aba8c8211107bc19e45": {
      "model_module": "mitosheet",
      "model_module_version": "^0.1.36",
      "model_name": "ExampleModel",
      "state": {
       "_model_module_version": "^0.1.36",
       "_view_module_version": "^0.1.36",
       "analysis_name": "UUID-bae96d06-02c7-47b2-965b-2f320a9ca4b6",
       "code_json": "{\"imports\": \"from mitosheet import AVG,CLEAN,CONCAT,FIND,LEFT,LEN,LOWER,MID,MULTIPLY,PROPER,RIGHT,SUBSTITUTE,SUM,TRIM,UPPER\", \"code\": [\"# Step 1\", \"df['C'] = 0\"]}",
       "column_filters": "[{\"AAA\": {\"condition\": \"none\", \"value\": \"\"}, \"B\": {\"condition\": \"none\", \"value\": \"\"}, \"C\": {\"condition\": \"none\", \"value\": \"\"}}]",
       "column_spreadsheet_code_json": "[{\"AAA\": \"\", \"B\": \"\", \"C\": \"=0\"}]",
       "df_names_json": "{\"df_names\": [\"df\"]}",
       "layout": "IPY_MODEL_893e5edbfe934e508c77989a13ff0494",
       "saved_analysis_names_json": "[\"Save Analysis\"]",
       "sheet_json": "[{\"columns\": [\"AAA\", \"B\", \"C\"], \"index\": [0], \"data\": [[123, 1234, 0]]}]",
       "user_id": "nate",
       "value": "Hello World"
      }
     },
     "e7c9a10b36854757bf5fff41ab04c69e": {
      "model_module": "@jupyter-widgets/base",
      "model_module_version": "1.2.0",
      "model_name": "LayoutModel",
      "state": {}
     }
    },
    "version_major": 2,
    "version_minor": 0
   }
  }
 },
 "nbformat": 4,
 "nbformat_minor": 4
}
