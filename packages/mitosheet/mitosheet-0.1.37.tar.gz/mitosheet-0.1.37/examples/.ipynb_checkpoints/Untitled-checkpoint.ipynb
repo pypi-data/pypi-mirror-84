{
 "cells": [
  {
   "cell_type": "code",
   "execution_count": 4,
   "metadata": {},
   "outputs": [
    {
     "data": {
      "application/vnd.jupyter.widget-view+json": {
       "model_id": "152c09ef23a041928cf34ef94053e5a8",
       "version_major": 2,
       "version_minor": 0
      },
      "text/plain": [
       "MitoWidget(code_json='{\"imports\": \"from mitosheet import AVG,CLEAN,CONCAT,FIND,LEFT,LEN,LOWER,MID,MULTIPLY,PRO…"
      ]
     },
     "metadata": {},
     "output_type": "display_data"
    }
   ],
   "source": [
    "import pandas as pd\n",
    "import mitosheet\n",
    "df1 = pd.DataFrame(data={'A': [\"99\", \"100\", \"101\", \"102\", \"103\"], 'B': [99, 100, 101, 102, 103], 'C': ['99', '100', 101, 102, 103]})\n",
    "df2 = pd.DataFrame(data={'A': [\"99\", \"100\", \"101\", \"102\", \"103\"], 'B': [99, 100, 101, 102, 103], 'C': ['99', '100', 101, 102, 103]})\n",
    "\n",
    "mitosheet.sheet(df1)"
   ]
  },
  {
   "cell_type": "code",
   "execution_count": null,
   "metadata": {},
   "outputs": [],
   "source": [
    "# MITO CODE START (DO NOT EDIT)\n",
    "# SAVED-ANALYSIS-STARTUUID-c0534fdf-d96d-4fd1-9f14-483c24c2f782SAVED-ANALYSIS-END\n",
    "\n",
    "from mitosheet import *\n",
    "\n",
    "# Step 1\n",
    "\n",
    "df1[df1['A'] >= 3]\n",
    "  \n",
    "# MITO CODE END (DO NOT EDIT)"
   ]
  },
  {
   "cell_type": "code",
   "execution_count": null,
   "metadata": {},
   "outputs": [],
   "source": []
  }
 ],
 "metadata": {
  "kernelspec": {
   "display_name": "Python 3",
   "language": "python",
   "name": "python3"
  },
  "language_info": {
   "codemirror_mode": {
    "name": "ipython",
    "version": 3
   },
   "file_extension": ".py",
   "mimetype": "text/x-python",
   "name": "python",
   "nbconvert_exporter": "python",
   "pygments_lexer": "ipython3",
   "version": "3.8.2"
  },
  "widgets": {
   "application/vnd.jupyter.widget-state+json": {
    "state": {
     "50ea61a1d5574fb3b57e8c0516528f62": {
      "model_module": "mitosheet",
      "model_module_version": "^0.1.36",
      "model_name": "ExampleModel",
      "state": {
       "_model_module_version": "^0.1.36",
       "_view_module_version": "^0.1.36",
       "analysis_name": "UUID-6b3edd7d-3908-4353-8680-71597f563ee2",
       "code_json": "{\"imports\": \"from mitosheet import AVG,CLEAN,CONCAT,FIND,LEFT,LEN,LOWER,MID,MULTIPLY,PROPER,RIGHT,SUBSTITUTE,SUM,TRIM,UPPER\", \"code\": [\"# Step 1\", \"df[df[A] > 5]\", \"# Step 2\", \"df['B'] = df['A'] + 100\"]}",
       "column_filters": "[{\"A\": {\"condition\": \"greater\", \"value\": 5}, \"B\": {\"condition\": \"none\", \"value\": \"\"}}]",
       "column_spreadsheet_code_json": "[{\"A\": \"\", \"B\": \"=A + 100\"}]",
       "df_names_json": "{\"df_names\": [\"df\"]}",
       "layout": "IPY_MODEL_c417ad25cffd4831970b07e762c8494d",
       "saved_analysis_names_json": "[\"Add 100\", \"Add B\", \"Merge Add B\", \"Merge\", \"Testing\", \"test_save0.1566523923365759\", \"test_save0.4253863859907616\", \"test_save0.5445992789231556\", \"test_save0.7280124721545206\"]",
       "sheet_json": "[{\"columns\": [\"A\", \"B\"], \"index\": [0], \"data\": [[123, 223]]}]",
       "user_id": "nate",
       "value": "Hello World"
      }
     },
     "c417ad25cffd4831970b07e762c8494d": {
      "model_module": "@jupyter-widgets/base",
      "model_module_version": "1.2.0",
      "model_name": "LayoutModel",
      "state": {}
     }
    },
    "version_major": 2,
    "version_minor": 0
   }
  }
 },
 "nbformat": 4,
 "nbformat_minor": 4
}
