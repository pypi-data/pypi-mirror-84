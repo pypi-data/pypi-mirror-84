{
 "cells": [
  {
   "cell_type": "code",
   "execution_count": 7,
   "metadata": {},
   "outputs": [
    {
     "data": {
      "application/vnd.jupyter.widget-view+json": {
       "model_id": "b54835c9fc3b414c8d7fa2aa763ecf97",
       "version_major": 2,
       "version_minor": 0
      },
      "text/plain": [
       "MitoWidget(code_json='{\"imports\": \"from mitosheet import AVG,CLEAN,CONCAT,FIND,LEFT,LEN,LOWER,MID,MULTIPLY,PRO…"
      ]
     },
     "metadata": {},
     "output_type": "display_data"
    }
   ],
   "source": [
    "import pandas as pd\n",
    "import mitosheet\n",
    "df = pd.DataFrame(data={'ABCDEF': [\"99\", \"100\", \"101\"], 'BBBBBBB': [1, 2, 3], 'C': ['A', 1, 2]})\n",
    "mitosheet.sheet(df)"
   ]
  },
  {
   "cell_type": "code",
   "execution_count": null,
   "metadata": {},
   "outputs": [],
   "source": [
    "# MITO CODE START (DO NOT EDIT)\n",
    "# SAVED-ANALYSIS-STARTUUID-b8c7e628-9399-4347-aee0-42da96f2117fSAVED-ANALYSIS-END\n",
    "\n",
    "from mitosheet import *\n",
    "\n",
    "# Edit the above sheet to generate code!\n",
    "  \n",
    "# MITO CODE END (DO NOT EDIT)"
   ]
  },
  {
   "cell_type": "code",
   "execution_count": null,
   "metadata": {},
   "outputs": [],
   "source": []
  }
 ],
 "metadata": {
  "kernelspec": {
   "display_name": "Python 3",
   "language": "python",
   "name": "python3"
  },
  "language_info": {
   "codemirror_mode": {
    "name": "ipython",
    "version": 3
   },
   "file_extension": ".py",
   "mimetype": "text/x-python",
   "name": "python",
   "nbconvert_exporter": "python",
   "pygments_lexer": "ipython3",
   "version": "3.8.5"
  },
  "widgets": {
   "application/vnd.jupyter.widget-state+json": {
    "state": {},
    "version_major": 2,
    "version_minor": 0
   }
  }
 },
 "nbformat": 4,
 "nbformat_minor": 4
}
