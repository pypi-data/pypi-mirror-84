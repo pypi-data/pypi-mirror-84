{
 "cells": [
  {
   "cell_type": "code",
   "execution_count": null,
   "metadata": {},
   "outputs": [],
   "source": [
    "\"\"\"\n",
    "This file tests some complex analysis with Mito, where mulitple mito instances\n",
    "exist in the same workbook. \n",
    "\n",
    "Instructions:\n",
    "1. Run this cell. \n",
    "2. Add a new column to the nums sheet. Set it equal to nums+100.\n",
    "3. Switch to the strs sheet. Add a new column. Set it equal to LEFT(strs).\n",
    "4. Switch back to the nums sheet. Make sure the column you defined above is still there + correct. \n",
    "5. Switch back to the strs sheet. Make sure you new column is correctly defined there as well. \n",
    "6. Rerun this cell. Make sure your new columns still exist. \n",
    "7. Edit the columns you defined to make sure the column formulas are redefined properly!\n",
    "\"\"\"\n",
    "import mitosheet\n",
    "import pandas as pd\n",
    "nums = pd.DataFrame(data={'nums': [1, 2, 3]})\n",
    "strs = pd.DataFrame(data={'strs': ['abc', 'def', 'ghi']})\n",
    "mitosheet.sheet(nums, strs)"
   ]
  }
 ],
 "metadata": {
  "kernelspec": {
   "display_name": "Python 3",
   "language": "python",
   "name": "python3"
  },
  "language_info": {
   "codemirror_mode": {
    "name": "ipython",
    "version": 3
   },
   "file_extension": ".py",
   "mimetype": "text/x-python",
   "name": "python",
   "nbconvert_exporter": "python",
   "pygments_lexer": "ipython3",
   "version": "3.8.5"
  },
  "widgets": {
   "application/vnd.jupyter.widget-state+json": {
    "state": {
     "19f9bc89e70a4f8b85e4940e7f8d9af3": {
      "model_module": "mitosheet",
      "model_module_version": "^0.1.39",
      "model_name": "ExampleModel",
      "state": {
       "_model_module_version": "^0.1.39",
       "_view_module_version": "^0.1.39",
       "analysis_name": "UUID-774da0c2-34fd-4059-b339-c43fa5c46eff",
       "code_json": "{\"imports\": \"from mitosheet import *\", \"code\": [\"# Step 1\", \"# Make sure the columns are defined in the correct order\", \"nums['B'] = 0; nums['C'] = 0; nums['D'] = 0; nums['E'] = 0\", \"nums['D'] = nums['C'] + 1\", \"nums['B'] = nums['nums'] + 1\", \"strs['B'] = strs['strs'] + \\\"1\\\"\", \"# Step 2\", \"nums.drop('D', axis=1, inplace=True)\", \"# Step 3\", \"nums['E'] = 0\", \"nums['C'] = 0\", \"nums['B'] = nums['nums'] + 1\", \"# Step 4\", \"nums.drop('E', axis=1, inplace=True)\", \"# Step 5\", \"nums['C'] = 0\", \"nums['B'] = nums['nums'] + 1\", \"# Step 6\", \"nums.drop('C', axis=1, inplace=True)\", \"# Step 7\", \"nums['B'] = nums['nums'] + 1\"]}",
       "column_filters_json": "[{\"nums\": {\"condition\": \"none\", \"value\": \"\", \"type\": \"number\"}, \"B\": {\"condition\": \"none\", \"value\": \"\", \"type\": \"number\"}, \"C\": {\"condition\": \"none\", \"value\": \"\", \"type\": \"number\"}, \"D\": {\"condition\": \"none\", \"value\": \"\", \"type\": \"number\"}, \"E\": {\"condition\": \"none\", \"value\": \"\", \"type\": \"number\"}}, {\"strs\": {\"condition\": \"none\", \"value\": \"\", \"type\": \"string\"}, \"B\": {\"condition\": \"none\", \"value\": \"\", \"type\": \"string\"}}]",
       "column_spreadsheet_code_json": "[{\"nums\": \"\", \"B\": \"=nums + 1\"}, {\"strs\": \"\", \"B\": \"=strs + \\\"1\\\"\"}]",
       "df_names_json": "{\"df_names\": [\"nums\", \"strs\"]}",
       "layout": "IPY_MODEL_e71256b828c749e9a33b237c3db2fac3",
       "saved_analysis_names_json": "[\"test_save0.13865217353525938\", \"test_save0.21675413754051343\", \"test_save0.5355031268323845\", \"test_save0.7449973716148273\", \"test_save0.7949648718742697\", \"test_save0.8503013780672617\"]",
       "sheet_json": "[{\"columns\": [\"nums\", \"B\"], \"index\": [0, 1, 2], \"data\": [[1, 2], [2, 3], [3, 4]]}, {\"columns\": [\"strs\", \"B\"], \"index\": [0, 1, 2], \"data\": [[\"abc\", \"abc1\"], [\"def\", \"def1\"], [\"ghi\", \"ghi1\"]]}]",
       "user_id": "nate",
       "value": "Hello World"
      }
     },
     "e71256b828c749e9a33b237c3db2fac3": {
      "model_module": "@jupyter-widgets/base",
      "model_module_version": "1.2.0",
      "model_name": "LayoutModel",
      "state": {}
     }
    },
    "version_major": 2,
    "version_minor": 0
   }
  }
 },
 "nbformat": 4,
 "nbformat_minor": 4
}
