{
 "cells": [
  {
   "cell_type": "code",
   "execution_count": null,
   "metadata": {},
   "outputs": [],
   "source": [
    "\"\"\"\n",
    "Tests grouping with mulitple value outputs, that then get used in a calculation\n",
    "\n",
    "Steps:\n",
    "- Run this cell.\n",
    "- Click the group button:\n",
    "    - Select df1 as the sheet\n",
    "    - Select Name as the group by key\n",
    "    - Add two values, one for (Height, mean) and the other for (Weight, sum)\n",
    "    - Click group\n",
    "- Open the new sheet, and create a new column. Rename it to Height_Weight, and calculate the Height / Weight.\n",
    "- Run the generated code, and make sure it defines df2 correctly.\n",
    "- Rerun this cell, and make sure the defined column in df2 is still editable.\n",
    "\"\"\"\n",
    "import mitosheet\n",
    "import pandas as pd\n",
    "df1 = pd.DataFrame(data={'Name': ['Nate', 'Nate', 'Aaron', 'Aaron'], 'Height': [4, 5, 6, 7], 'Weight': [100, 200, 300, 400]})\n",
    "mitosheet.sheet(df1)"
   ]
  }
 ],
 "metadata": {
  "kernelspec": {
   "display_name": "Python 3",
   "language": "python",
   "name": "python3"
  },
  "language_info": {
   "codemirror_mode": {
    "name": "ipython",
    "version": 3
   },
   "file_extension": ".py",
   "mimetype": "text/x-python",
   "name": "python",
   "nbconvert_exporter": "python",
   "pygments_lexer": "ipython3",
   "version": "3.8.5"
  },
  "widgets": {
   "application/vnd.jupyter.widget-state+json": {
    "state": {
     "01fb6b97fab3460fba436fb47ca0f57d": {
      "model_module": "mitosheet",
      "model_module_version": "^0.1.38",
      "model_name": "ExampleModel",
      "state": {
       "_model_module_version": "^0.1.38",
       "_view_module_version": "^0.1.38",
       "analysis_name": "UUID-239ec438-3d63-4edd-8e2c-4be24d35bac7",
       "code_json": "{\"imports\": \"from mitosheet import *\", \"code\": []}",
       "column_filters_json": "[{\"Name\": {\"condition\": \"none\", \"value\": \"\", \"type\": \"string\"}, \"Height\": {\"condition\": \"none\", \"value\": \"\", \"type\": \"number\"}, \"Weight\": {\"condition\": \"none\", \"value\": \"\", \"type\": \"number\"}}]",
       "column_spreadsheet_code_json": "[{\"Name\": \"\", \"Height\": \"\", \"Weight\": \"\"}]",
       "df_names_json": "{\"df_names\": [\"df1\"]}",
       "layout": "IPY_MODEL_cb932711299748d9b9e5b9757186b929",
       "saved_analysis_names_json": "[\"test_save0.010456446546556974\", \"test_save0.011830948190040824\", \"test_save0.059428101802818656\", \"test_save0.08983270555169676\", \"test_save0.13043771852994002\", \"test_save0.22813724353102027\", \"test_save0.4532640009210266\", \"test_save0.6954276161821007\"]",
       "sheet_json": "[{\"columns\": [\"Name\", \"Height\", \"Weight\"], \"index\": [0, 1, 2, 3], \"data\": [[\"Nate\", 4, 100], [\"Nate\", 5, 200], [\"Aaron\", 6, 300], [\"Aaron\", 7, 400]]}]",
       "user_id": "nate",
       "value": "Hello World"
      }
     },
     "2860b9157f3d428196cef64ccf769a23": {
      "model_module": "@jupyter-widgets/base",
      "model_module_version": "1.2.0",
      "model_name": "LayoutModel",
      "state": {}
     },
     "4898811d258d4349aa103972aaf4d890": {
      "model_module": "mitosheet",
      "model_module_version": "^0.1.38",
      "model_name": "ExampleModel",
      "state": {
       "_model_module_version": "^0.1.38",
       "_view_module_version": "^0.1.38",
       "analysis_name": "UUID-c7d6e0f8-1371-4a88-a856-eddfa6496730",
       "code_json": "{\"imports\": \"from mitosheet import *\", \"code\": [\"# Step 1\", \"grouped_df = df1.groupby([\\\"Name\\\"], as_index=False)\", \"df2 = grouped_df.agg({\\\"Height\\\": \\\"mean\\\", \\\"Weight\\\": \\\"sum\\\"})\", \"# Step 2\", \"df2['D'] = 0\", \"# Step 3\", \"df2.rename(columns={\\\"D\\\": \\\"Height_Weight\\\"}, inplace=True)\", \"# Step 4\", \"df2['Height_Weight'] = df2['Height'] / df2['Weight']\"]}",
       "column_filters_json": "[{\"Name\": {\"condition\": \"none\", \"value\": \"\", \"type\": \"string\"}, \"Height\": {\"condition\": \"none\", \"value\": \"\", \"type\": \"number\"}, \"Weight\": {\"condition\": \"none\", \"value\": \"\", \"type\": \"number\"}}, {\"Name\": {\"condition\": \"none\", \"value\": \"\", \"type\": \"string\"}, \"Height\": {\"condition\": \"none\", \"value\": \"\", \"type\": \"number\"}, \"Weight\": {\"condition\": \"none\", \"value\": \"\", \"type\": \"number\"}, \"Height_Weight\": {\"condition\": \"none\", \"value\": \"\", \"type\": \"number\"}}]",
       "column_spreadsheet_code_json": "[{\"Name\": \"\", \"Height\": \"\", \"Weight\": \"\"}, {\"Name\": \"\", \"Height\": \"\", \"Weight\": \"\", \"Height_Weight\": \"=Height / Weight\"}]",
       "df_names_json": "{\"df_names\": [\"df1\", \"df2\"]}",
       "layout": "IPY_MODEL_2860b9157f3d428196cef64ccf769a23",
       "saved_analysis_names_json": "[\"test_save0.010456446546556974\", \"test_save0.011830948190040824\", \"test_save0.059428101802818656\", \"test_save0.08983270555169676\", \"test_save0.13043771852994002\", \"test_save0.22813724353102027\", \"test_save0.4532640009210266\", \"test_save0.6954276161821007\"]",
       "sheet_json": "[{\"columns\": [\"Name\", \"Height\", \"Weight\"], \"index\": [0, 1, 2, 3], \"data\": [[\"Nate\", 4, 100], [\"Nate\", 5, 200], [\"Aaron\", 6, 300], [\"Aaron\", 7, 400]]}, {\"columns\": [\"Name\", \"Height\", \"Weight\", \"Height_Weight\"], \"index\": [0, 1], \"data\": [[\"Aaron\", 6.5, 700, 0.0092857143], [\"Nate\", 4.5, 300, 0.015]]}]",
       "user_id": "nate",
       "value": "Hello World"
      }
     },
     "943017702f6e4eb4ae6e5c612e8a7b09": {
      "model_module": "@jupyter-widgets/base",
      "model_module_version": "1.2.0",
      "model_name": "LayoutModel",
      "state": {}
     },
     "ac56808e8a0943f5b31f227f06d9390e": {
      "model_module": "mitosheet",
      "model_module_version": "^0.1.38",
      "model_name": "ExampleModel",
      "state": {
       "_model_module_version": "^0.1.38",
       "_view_module_version": "^0.1.38",
       "analysis_name": "UUID-cfc03d4f-44b0-47cc-9662-23b2f3a187eb",
       "code_json": "{\"imports\": \"from mitosheet import *\", \"code\": [\"# Step 1\", \"grouped_df = df1.groupby([\\\"Name\\\"], as_index=False)\", \"df2 = grouped_df.agg({\\\"Height\\\": \\\"mean\\\", \\\"Weight\\\": \\\"sum\\\"})\", \"# Step 2\", \"df2['D'] = 0\", \"# Step 3\", \"df2.rename(columns={\\\"D\\\": \\\"Height_Weight\\\"}, inplace=True)\", \"# Step 4\", \"df2['Height_Weight'] = df2['Height'] / df2['Weight']\"]}",
       "column_filters_json": "[{\"Name\": {\"condition\": \"none\", \"value\": \"\", \"type\": \"string\"}, \"Height\": {\"condition\": \"none\", \"value\": \"\", \"type\": \"number\"}, \"Weight\": {\"condition\": \"none\", \"value\": \"\", \"type\": \"number\"}}, {\"Name\": {\"condition\": \"none\", \"value\": \"\", \"type\": \"string\"}, \"Height\": {\"condition\": \"none\", \"value\": \"\", \"type\": \"number\"}, \"Weight\": {\"condition\": \"none\", \"value\": \"\", \"type\": \"number\"}, \"Height_Weight\": {\"condition\": \"none\", \"value\": \"\", \"type\": \"number\"}}]",
       "column_spreadsheet_code_json": "[{\"Name\": \"\", \"Height\": \"\", \"Weight\": \"\"}, {\"Name\": \"\", \"Height\": \"\", \"Weight\": \"\", \"Height_Weight\": \"=Height / Weight\"}]",
       "df_names_json": "{\"df_names\": [\"df1\"]}",
       "layout": "IPY_MODEL_943017702f6e4eb4ae6e5c612e8a7b09",
       "saved_analysis_names_json": "[\"test_save0.010456446546556974\", \"test_save0.011830948190040824\", \"test_save0.059428101802818656\", \"test_save0.08983270555169676\", \"test_save0.13043771852994002\", \"test_save0.22813724353102027\", \"test_save0.4532640009210266\", \"test_save0.6954276161821007\"]",
       "sheet_json": "[{\"columns\": [\"Name\", \"Height\", \"Weight\"], \"index\": [0, 1, 2, 3], \"data\": [[\"Nate\", 4, 100], [\"Nate\", 5, 200], [\"Aaron\", 6, 300], [\"Aaron\", 7, 400]]}, {\"columns\": [\"Name\", \"Height\", \"Weight\", \"Height_Weight\"], \"index\": [0, 1], \"data\": [[\"Aaron\", 6.5, 700, 0.0092857143], [\"Nate\", 4.5, 300, 0.015]]}]",
       "user_id": "nate",
       "value": "Hello World"
      }
     },
     "cb932711299748d9b9e5b9757186b929": {
      "model_module": "@jupyter-widgets/base",
      "model_module_version": "1.2.0",
      "model_name": "LayoutModel",
      "state": {}
     }
    },
    "version_major": 2,
    "version_minor": 0
   }
  }
 },
 "nbformat": 4,
 "nbformat_minor": 4
}
