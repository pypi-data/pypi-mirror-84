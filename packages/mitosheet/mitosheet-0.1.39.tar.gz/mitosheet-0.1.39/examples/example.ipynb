{
 "cells": [
  {
   "cell_type": "code",
   "execution_count": 3,
   "metadata": {},
   "outputs": [
    {
     "data": {
      "application/vnd.jupyter.widget-view+json": {
       "model_id": "9ddb42c0b9924c75993720b25061fdca",
       "version_major": 2,
       "version_minor": 0
      },
      "text/plain": [
       "MitoWidget(code_json='{\"imports\": \"from mitosheet import *\", \"code\": []}', column_filters_json='[{\"First_Name\"…"
      ]
     },
     "metadata": {},
     "output_type": "display_data"
    }
   ],
   "source": [
    "import mitosheet\n",
    "import pandas as pd\n",
    "df1 = pd.DataFrame(data={'First_Name': ['Nate', 'Nate'], 'Last_Name': ['Rush', 'Jack'], 'Height': [4, 5]})\n",
    "mitosheet.sheet(df1)"
   ]
  }
 ],
 "metadata": {
  "kernelspec": {
   "display_name": "Python 3",
   "language": "python",
   "name": "python3"
  },
  "language_info": {
   "codemirror_mode": {
    "name": "ipython",
    "version": 3
   },
   "file_extension": ".py",
   "mimetype": "text/x-python",
   "name": "python",
   "nbconvert_exporter": "python",
   "pygments_lexer": "ipython3",
   "version": "3.8.5"
  },
  "widgets": {
   "application/vnd.jupyter.widget-state+json": {
    "state": {
     "1cb2c30092e34c3aaa8c212de12e7f95": {
      "model_module": "mitosheet",
      "model_module_version": "^0.1.39",
      "model_name": "ExampleModel",
      "state": {
       "_model_module_version": "^0.1.39",
       "_view_module_version": "^0.1.39",
       "analysis_name": "UUID-8936234f-dab8-48aa-998e-bc1fecdd7846",
       "code_json": "{\"imports\": \"from mitosheet import *\", \"code\": [\"# Step 1\", \"groupby_obj = df1.groupby([\\\"First_Name\\\"], as_index=False)\", \"df2 = groupby_obj.agg({})\", \"# Step 2\", \"groupby_obj = df1.groupby([\\\"First_Name\\\"], as_index=False)\", \"df3 = groupby_obj.agg({\\\"Height\\\": \\\"sum\\\"})\", \"df3.rename(columns={\\\"Height\\\": \\\"Height_sum\\\"}, inplace=True)\", \"# Step 3\", \"df3[df3['Height_sum'] > 8]\"]}",
       "column_filters_json": "[{\"First_Name\": {\"condition\": \"none\", \"value\": \"\", \"type\": \"string\"}, \"Last_Name\": {\"condition\": \"none\", \"value\": \"\", \"type\": \"string\"}, \"Height\": {\"condition\": \"none\", \"value\": \"\", \"type\": \"number\"}}, {\"First_Name\": {\"condition\": \"none\", \"value\": \"\", \"type\": \"string\"}}, {\"First_Name\": {\"condition\": \"none\", \"value\": \"\", \"type\": \"string\"}, \"Height_sum\": {\"condition\": \"greater\", \"value\": 8, \"type\": \"number\"}}]",
       "column_spreadsheet_code_json": "[{\"First_Name\": \"\", \"Last_Name\": \"\", \"Height\": \"\"}, {\"First_Name\": \"\"}, {\"First_Name\": \"\", \"Height_sum\": \"\"}]",
       "df_names_json": "{\"df_names\": [\"df1\"]}",
       "layout": "IPY_MODEL_d56d32eb5b0b4cd78a18acf3b0edc0b7",
       "saved_analysis_names_json": "[]",
       "sheet_json": "[{\"columns\": [\"First_Name\", \"Last_Name\", \"Height\"], \"index\": [0, 1], \"data\": [[\"Nate\", \"Rush\", 4], [\"Nate\", \"Jack\", 5]]}, {\"columns\": [\"First_Name\"], \"index\": [0], \"data\": [[\"Nate\"]]}, {\"columns\": [\"First_Name\", \"Height_sum\"], \"index\": [0], \"data\": [[\"Nate\", 9]]}]",
       "user_id": "nate",
       "value": "Hello World"
      }
     },
     "5762e61dc9e34b0bbf7935aae9c3a986": {
      "model_module": "@jupyter-widgets/base",
      "model_module_version": "1.2.0",
      "model_name": "LayoutModel",
      "state": {}
     },
     "9ddb42c0b9924c75993720b25061fdca": {
      "model_module": "mitosheet",
      "model_module_version": "^0.1.39",
      "model_name": "ExampleModel",
      "state": {
       "_model_module_version": "^0.1.39",
       "_view_module_version": "^0.1.39",
       "analysis_name": "UUID-7e2061c2-af72-4fbd-b85d-dfc728dd013a",
       "code_json": "{\"imports\": \"from mitosheet import *\", \"code\": []}",
       "column_filters_json": "[{\"First_Name\": {\"condition\": \"none\", \"value\": \"\", \"type\": \"string\"}, \"Last_Name\": {\"condition\": \"none\", \"value\": \"\", \"type\": \"string\"}, \"Height\": {\"condition\": \"none\", \"value\": \"\", \"type\": \"number\"}}]",
       "column_spreadsheet_code_json": "[{\"First_Name\": \"\", \"Last_Name\": \"\", \"Height\": \"\"}]",
       "df_names_json": "{\"df_names\": [\"df1\"]}",
       "layout": "IPY_MODEL_5762e61dc9e34b0bbf7935aae9c3a986",
       "saved_analysis_names_json": "[]",
       "sheet_json": "[{\"columns\": [\"First_Name\", \"Last_Name\", \"Height\"], \"index\": [0, 1], \"data\": [[\"Nate\", \"Rush\", 4], [\"Nate\", \"Jack\", 5]]}]",
       "user_id": "nate",
       "value": "Hello World"
      }
     },
     "d56d32eb5b0b4cd78a18acf3b0edc0b7": {
      "model_module": "@jupyter-widgets/base",
      "model_module_version": "1.2.0",
      "model_name": "LayoutModel",
      "state": {}
     }
    },
    "version_major": 2,
    "version_minor": 0
   }
  }
 },
 "nbformat": 4,
 "nbformat_minor": 4
}
