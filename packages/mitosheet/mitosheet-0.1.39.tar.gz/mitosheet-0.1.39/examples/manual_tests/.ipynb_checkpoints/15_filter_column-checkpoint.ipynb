{
 "cells": [
  {
   "cell_type": "code",
   "execution_count": 1,
   "metadata": {},
   "outputs": [
    {
     "data": {
      "application/vnd.jupyter.widget-view+json": {
       "model_id": "8897cc5901eb4824a3d439921823e9fc",
       "version_major": 2,
       "version_minor": 0
      },
      "text/plain": [
       "MitoWidget(code_json='{\"imports\": \"from mitosheet import *\", \"code\": []}', column_filters_json='[{\"A\": {\"condi…"
      ]
     },
     "metadata": {},
     "output_type": "display_data"
    }
   ],
   "source": [
    "\"\"\"\n",
    "This file should tests all the filter conditions on\n",
    "\n",
    "Instructions:\n",
    "- Run this cell. \n",
    "- Add three columns and set them equal to A, B, and C respectively (put them in parens, to avoid the suggestion box bug).\n",
    "- Test filter D to each of the possible conditions, choosing random values.\n",
    "- Test filter E to each of the possible conditions, choosing random values.\n",
    "- Test filter F to each of the possible conditions, choosing random values.\n",
    "- Check that the code is being generated and updated as you cycle through conditions.\n",
    "\"\"\"\n",
    "import mitosheet\n",
    "import pandas as pd\n",
    "df1 = pd.DataFrame(data={'A': [\"123\", \"1\", \"2\", \"3\", \"4\", \"5\", \"5\", \"6\", \"7\", \"8\", \"9\"], \n",
    "                        'B': [123, 1, 2, 3, 4, 5, 5, 6, 7, 8, 9],\n",
    "                        'C': [123, \"1\", \"2\", \"3\", 4, 5, 5, 6, 7, 8, 9]})\n",
    "\n",
    "mitosheet.sheet(df1)"
   ]
  },
  {
   "cell_type": "code",
   "execution_count": null,
   "metadata": {},
   "outputs": [],
   "source": []
  }
 ],
 "metadata": {
  "kernelspec": {
   "display_name": "Python 3",
   "language": "python",
   "name": "python3"
  },
  "language_info": {
   "codemirror_mode": {
    "name": "ipython",
    "version": 3
   },
   "file_extension": ".py",
   "mimetype": "text/x-python",
   "name": "python",
   "nbconvert_exporter": "python",
   "pygments_lexer": "ipython3",
   "version": "3.8.5"
  },
  "widgets": {
   "application/vnd.jupyter.widget-state+json": {
    "state": {
     "ac2f6f39738d49a9a924918c116525e0": {
      "model_module": "@jupyter-widgets/base",
      "model_module_version": "1.2.0",
      "model_name": "LayoutModel",
      "state": {}
     }
    },
    "version_major": 2,
    "version_minor": 0
   }
  }
 },
 "nbformat": 4,
 "nbformat_minor": 4
}
