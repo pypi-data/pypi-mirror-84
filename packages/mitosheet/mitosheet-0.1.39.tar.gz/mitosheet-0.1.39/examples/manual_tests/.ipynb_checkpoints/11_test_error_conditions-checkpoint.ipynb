{
 "cells": [
  {
   "cell_type": "code",
   "execution_count": null,
   "metadata": {},
   "outputs": [],
   "source": [
    "\"\"\"\n",
    "This file should test some common error conditions,\n",
    "and make sure mito can detect and handle them.\n",
    "\n",
    "Instructions:\n",
    "- Run this cell. \n",
    "- Make a new column.\n",
    "- Write LEFT(A), and get an error telling you to use an equals sign.\n",
    "- Write =A & \"HA\", and get an error telling you that & is not supported.\n",
    "- Reference cell A1 instead of A, get an error correcting this. \n",
    "- Reference column B, get a circular reference error. \n",
    "- Write =FUNC(A), get a function does not exist error.\n",
    "- Write =SUM(C), get a column does not exist error.\n",
    "\"\"\"\n",
    "import mitosheet\n",
    "import pandas as pd\n",
    "\n",
    "df = pd.DataFrame(data={'A': [\"Jake Diamond-Revich\", \"Aaron Diamond-Reivich\", \"Nate Rush\"]})\n",
    "mitosheet.sheet(df)"
   ]
  }
 ],
 "metadata": {
  "kernelspec": {
   "display_name": "Python 3",
   "language": "python",
   "name": "python3"
  },
  "language_info": {
   "codemirror_mode": {
    "name": "ipython",
    "version": 3
   },
   "file_extension": ".py",
   "mimetype": "text/x-python",
   "name": "python",
   "nbconvert_exporter": "python",
   "pygments_lexer": "ipython3",
   "version": "3.8.5"
  },
  "widgets": {
   "application/vnd.jupyter.widget-state+json": {
    "state": {
     "326cbe8a5eb049a1b7e661769ee7a261": {
      "model_module": "mitosheet",
      "model_module_version": "^0.1.33",
      "model_name": "ExampleModel",
      "state": {
       "_model_module_version": "^0.1.33",
       "_view_module_version": "^0.1.33",
       "analysis_name": "c14b5e74-e7a8-4ef8-ab8a-f3b9eccb856f",
       "code_json": "{\"imports\": \"from mitosheet import AVG,CLEAN,CONCAT,FIND,LEFT,LEN,LOWER,MID,MULTIPLY,PROPER,RIGHT,SUBSTITUTE,SUM,TRIM,UPPER\", \"code\": [\"# Step 1\", \"df['B'] = 0\"]}",
       "column_spreadsheet_code_json": "[{\"A\": \"\", \"B\": \"=0\"}]",
       "df_names_json": "{\"df_names\": [\"df\"]}",
       "layout": "IPY_MODEL_98791c63e4d44294a5bc6b93ca479216",
       "sheet_json": "[{\"columns\": [\"A\", \"B\"], \"index\": [0, 1, 2], \"data\": [[\"Jake Diamond-Revich\", 0], [\"Aaron Diamond-Reivich\", 0], [\"Nate Rush\", 0]]}]",
       "user_id": "nate",
       "value": "Hello World"
      }
     },
     "98791c63e4d44294a5bc6b93ca479216": {
      "model_module": "@jupyter-widgets/base",
      "model_module_version": "1.2.0",
      "model_name": "LayoutModel",
      "state": {}
     }
    },
    "version_major": 2,
    "version_minor": 0
   }
  }
 },
 "nbformat": 4,
 "nbformat_minor": 4
}
