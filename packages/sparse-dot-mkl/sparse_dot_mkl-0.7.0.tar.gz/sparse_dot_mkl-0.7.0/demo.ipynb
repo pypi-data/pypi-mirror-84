{
 "cells": [
  {
   "cell_type": "code",
   "execution_count": 1,
   "metadata": {},
   "outputs": [
    {
     "name": "stdout",
     "output_type": "stream",
     "text": [
      "Using matplotlib backend: Qt5Agg\n",
      "Populating the interactive namespace from numpy and matplotlib\n"
     ]
    }
   ],
   "source": [
    "%pylab"
   ]
  },
  {
   "cell_type": "code",
   "execution_count": 2,
   "metadata": {},
   "outputs": [],
   "source": [
    "import scipy.sparse\n",
    "import sparse_dot_mkl"
   ]
  },
  {
   "cell_type": "code",
   "execution_count": 3,
   "metadata": {},
   "outputs": [
    {
     "name": "stdout",
     "output_type": "stream",
     "text": [
      "X sparsity: 78.80 %\n"
     ]
    }
   ],
   "source": [
    "random.seed(0)\n",
    "X = random.randn(500, 5000)\n",
    "X[X < 0.8] = 0\n",
    "X = scipy.sparse.csr_matrix(X)\n",
    "print(f'X sparsity: {100 * (1 - X.count_nonzero() / prod(X.shape)):5.2f} %')"
   ]
  },
  {
   "cell_type": "code",
   "execution_count": 4,
   "metadata": {},
   "outputs": [],
   "source": [
    "expected_result = (X @ X.T).toarray()\n",
    "expected_result_tril = expected_result.copy()\n",
    "expected_result_tril[tril_indices(expected_result.shape[0], k=-1)] = 0"
   ]
  },
  {
   "cell_type": "code",
   "execution_count": 5,
   "metadata": {},
   "outputs": [
    {
     "data": {
      "text/plain": [
       "True"
      ]
     },
     "execution_count": 5,
     "metadata": {},
     "output_type": "execute_result"
    }
   ],
   "source": [
    "mkl_result1 = sparse_dot_mkl.dot_product_mkl(X, X.T)\n",
    "allclose(mkl_result1.toarray(), expected_result)"
   ]
  },
  {
   "cell_type": "code",
   "execution_count": 6,
   "metadata": {},
   "outputs": [
    {
     "data": {
      "text/plain": [
       "True"
      ]
     },
     "execution_count": 6,
     "metadata": {},
     "output_type": "execute_result"
    }
   ],
   "source": [
    "mkl_result2 = sparse_dot_mkl.dot_product_transpose_mkl(X)\n",
    "allclose(mkl_result2.toarray(), expected_result_tril)"
   ]
  },
  {
   "cell_type": "code",
   "execution_count": 7,
   "metadata": {},
   "outputs": [
    {
     "name": "stdout",
     "output_type": "stream",
     "text": [
      "197 ms ± 5.21 ms per loop (mean ± std. dev. of 7 runs, 1 loop each)\n",
      "70.6 ms ± 593 µs per loop (mean ± std. dev. of 7 runs, 10 loops each)\n",
      "34.2 ms ± 421 µs per loop (mean ± std. dev. of 7 runs, 10 loops each)\n"
     ]
    }
   ],
   "source": [
    "%timeit X @ X.T\n",
    "%timeit sparse_dot_mkl.dot_product_mkl(X, X.T)\n",
    "%timeit sparse_dot_mkl.dot_product_transpose_mkl(X)"
   ]
  }
 ],
 "metadata": {
  "kernelspec": {
   "display_name": "Python 3",
   "language": "python",
   "name": "python3"
  },
  "language_info": {
   "codemirror_mode": {
    "name": "ipython",
    "version": 3
   },
   "file_extension": ".py",
   "mimetype": "text/x-python",
   "name": "python",
   "nbconvert_exporter": "python",
   "pygments_lexer": "ipython3",
   "version": "3.6.10"
  }
 },
 "nbformat": 4,
 "nbformat_minor": 4
}
