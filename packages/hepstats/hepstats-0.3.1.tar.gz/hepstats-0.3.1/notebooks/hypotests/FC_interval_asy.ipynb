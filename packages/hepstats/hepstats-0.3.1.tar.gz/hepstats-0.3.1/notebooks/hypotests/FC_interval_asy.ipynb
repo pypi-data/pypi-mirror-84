{
 "cells": [
  {
   "cell_type": "markdown",
   "metadata": {},
   "source": [
    "# Feldman and Cousins intervals with asymptotics.\n",
    "\n",
    "This is a copy of `FC_interval_freq.ipynb` using the asymptotic formulae instead of toys."
   ]
  },
  {
   "cell_type": "code",
   "execution_count": 1,
   "metadata": {},
   "outputs": [
    {
     "name": "stderr",
     "output_type": "stream",
     "text": [
      "/Users/matthieumarinangeli/anaconda3/envs/tfn2/lib/python3.7/site-packages/zfit/util/execution.py:70: UserWarning: Not running on Linux. Determining available cpus for thread can failand be overestimated. Workaround (only if too many cpus are used):`zfit.run.set_n_cpu(your_cpu_number)`\n",
      "  warnings.warn(\"Not running on Linux. Determining available cpus for thread can fail\"\n"
     ]
    }
   ],
   "source": [
    "import numpy as np\n",
    "import matplotlib.pyplot as plt\n",
    "import os\n",
    "import time\n",
    "\n",
    "import zfit\n",
    "from zfit.loss import UnbinnedNLL\n",
    "from zfit.minimize import Minuit\n",
    "zfit.settings.set_seed(10)\n",
    "\n",
    "from hepstats.hypotests.calculators import AsymptoticCalculator\n",
    "from hepstats.hypotests import ConfidenceInterval\n",
    "from hepstats.hypotests.parameters import POIarray\n",
    "from hepstats.hypotests.exceptions import POIRangeError\n",
    "\n",
    "from utils import one_minus_cl_plot, pltdist, plotfitresult"
   ]
  },
  {
   "cell_type": "markdown",
   "metadata": {},
   "source": [
    "In this example we consider an experiment where the observable $x$ is simply the measured value of $\\mu$ in an experiment with a Gaussian resolution with known width $\\sigma = 1$. We will compute the confidence belt for a 90 % condifdence level for the mean of the Gaussian $\\mu$.\n",
    "\n",
    "We define a sampler below for a Gaussian pdf with $\\sigma = 1$ using the `zfit` library, the sampler allows to generate samples for different values of $\\mu$. 1000 entries are generated for each sample."
   ]
  },
  {
   "cell_type": "code",
   "execution_count": 2,
   "metadata": {},
   "outputs": [],
   "source": [
    "bounds = (-10, 10)\n",
    "obs = zfit.Space('x', limits=bounds)\n",
    "\n",
    "mean = zfit.Parameter(\"mean\", 0)\n",
    "sigma = zfit.Parameter(\"sigma\", 1.0)\n",
    "model = zfit.pdf.Gauss(obs=obs, mu=mean, sigma=sigma)\n",
    "\n",
    "data = model.create_sampler(1000)\n",
    "data.resample()"
   ]
  },
  {
   "cell_type": "markdown",
   "metadata": {},
   "source": [
    "Below is defined the negative-likelihood function which is needed to compute Feldman and Cousins intervals as described in [arXiv:1109.0714](https://arxiv.org/abs/1109.0714). The negative-likelihood function is mimised to compute the measured mean $x$ and its uncertainty $\\sigma_x$.  "
   ]
  },
  {
   "cell_type": "code",
   "execution_count": 3,
   "metadata": {},
   "outputs": [
    {
     "name": "stderr",
     "output_type": "stream",
     "text": [
      "/Users/matthieumarinangeli/anaconda3/envs/tfn2/lib/python3.7/site-packages/zfit/util/cache.py:283: VisibleDeprecationWarning: Creating an ndarray from ragged nested sequences (which is a list-or-tuple of lists-or-tuples-or ndarrays with different lengths or shapes) is deprecated. If you meant to do this, you must specify 'dtype=object' when creating the ndarray\n",
      "  return all(np.equal(self.immutable_representation, other.immutable_representation))\n"
     ]
    },
    {
     "name": "stdout",
     "output_type": "stream",
     "text": [
      "FitResult of\n",
      "<UnbinnedNLL model=[<zfit.Gauss  params=[mean, sigma] dtype=float64>0] data=[<zfit.core.data.Sampler object at 0x7f9d29b75f90>] constraints=[]> \n",
      "with\n",
      "<Minuit strategy=PushbackStrategy tolerance=0.001>\n",
      "\n",
      "╒═════════╤═════════════╤══════════════════╤═════════╤═════════════╕\n",
      "│ valid   │ converged   │ param at limit   │ edm     │ min value   │\n",
      "╞═════════╪═════════════╪══════════════════╪═════════╪═════════════╡\n",
      "│ True    │ True        │ False            │ 0.00022 │ 1433        │\n",
      "╘═════════╧═════════════╧══════════════════╧═════════╧═════════════╛\n",
      "\n",
      "Parameters\n",
      "name        value    minuit_hesse    at limit\n",
      "------  ---------  --------------  ----------\n",
      "mean    0.0001496     +/-   0.032       False\n",
      "sigma       1.014     +/-   0.023       False\n"
     ]
    }
   ],
   "source": [
    "# Create the negative log likelihood\n",
    "nll = UnbinnedNLL(model=model, data=data) \n",
    "\n",
    "# Instantiate a minuit minimizer\n",
    "minimizer = Minuit(verbosity=0)\n",
    "\n",
    "# minimisation of the loss function\n",
    "minimum = minimizer.minimize(loss=nll)\n",
    "minimum.hesse();\n",
    "print(minimum)\n",
    "\n",
    "x_err = minimum.params[mean][\"minuit_hesse\"][\"error\"]"
   ]
  },
  {
   "cell_type": "markdown",
   "metadata": {},
   "source": [
    "\n",
    "\n",
    "To compute the the confidence belt on $\\mu$ 90 % CL intervals have to be computed for several values of the measured mean $x$. Samples are generated for $\\mu = n \\times \\sigma_x$ with $n = -6, -5, -4, ..., 3, 4, 5, 6$, and fitted to measure the mean $x_n$. \n",
    "\n",
    "90 % CL intervals are evaluated for each $x_n$ for the two following cases, $\\mu > 0$ and $\\mu$ unbounded.\n",
    "\n",
    "With `hepstats`, The intervals are obtained with `ConfidenceInterval` object using a calculator. Here the calculator is the `AsymptoticCalculator` which computes the intervals using asymptotic formulae (see [Asymptotic formulae for likelihood-based tests of new physics](https://arxiv.org/pdf/1007.1727.pdf)), an example of a 68 % CL interval with the `AsymptoticCalculator` can be found [here](https://github.com/scikit-hep/hepstats/blob/master/notebooks/hypotests/confidenceinterval_asy_zfit.ipynb).\n",
    "\n",
    "The option `qtilde = True` should be used if $\\mu > 0$."
   ]
  },
  {
   "cell_type": "code",
   "execution_count": 4,
   "metadata": {},
   "outputs": [],
   "source": [
    "results = {}"
   ]
  },
  {
   "cell_type": "code",
   "execution_count": 5,
   "metadata": {},
   "outputs": [
    {
     "name": "stderr",
     "output_type": "stream",
     "text": [
      "/Users/matthieumarinangeli/anaconda3/envs/tfn2/lib/python3.7/site-packages/hepstats/hypotests/core/confidence_interval.py:116: UserWarning: Multiple roots have been founds.\n",
      "  warnings.warn(msg_warn)\n"
     ]
    }
   ],
   "source": [
    "for n in np.arange(-6, 7, 1.0):\n",
    "        \n",
    "    x = n * x_err\n",
    "    \n",
    "    if n not in results:\n",
    "        \n",
    "        zfit.settings.set_seed(5)\n",
    "    \n",
    "        data.resample(param_values={mean: x})\n",
    "    \n",
    "        minimum = minimizer.minimize(loss=nll)\n",
    "        minimum.hesse(); \n",
    "        \n",
    "        results_n = {}\n",
    "        results_n[\"x\"] = minimum.params[mean][\"value\"]\n",
    "        results_n[\"x_err\"] = minimum.params[mean][\"minuit_hesse\"][\"error\"]\n",
    "    \n",
    "        calculator = AsymptoticCalculator(minimum, minimizer)\n",
    "        \n",
    "        x_min = results_n[\"x\"] - results_n[\"x_err\"]*3\n",
    "        x_max = results_n[\"x\"] + results_n[\"x_err\"]*3\n",
    "        \n",
    "        if n < -1:\n",
    "            x_max = max(0.5 * results_n[\"x_err\"], x_max)\n",
    "        \n",
    "        poinull = POIarray(mean, np.linspace(x_min, x_max, 50))\n",
    "      \n",
    "        results_n[\"calculator\"] = calculator\n",
    "        results_n[\"poinull\"] = poinull\n",
    "        \n",
    "    else:\n",
    "        results_n = results[n]\n",
    "        calculator = results_n[\"calculator\"]\n",
    "        poinull = results_n[\"poinull\"]\n",
    "\n",
    "    if \"mu_lower\" not in results_n:\n",
    "             \n",
    "        for qtilde in [True, False]:\n",
    "    \n",
    "            while True:\n",
    "                try:\n",
    "                    ci = ConfidenceInterval(calculator, poinull, qtilde=qtilde)\n",
    "                    interval = ci.interval(alpha=0.05, printlevel=0)\n",
    "                    break\n",
    "                except POIRangeError:\n",
    "                    values = poinull.values\n",
    "                    poinull = POIarray(mean, np.concatenate([values, [values[-1] + np.diff(values)[0]]]))\n",
    "                    results_n[\"poinull\"] = poinull\n",
    "    \n",
    "            if qtilde:\n",
    "                results_n[\"mu_lower\"] = interval[\"lower\"]\n",
    "                results_n[\"mu_upper\"] = interval[\"upper\"]\n",
    "            else:\n",
    "                results_n[\"mu_lower_unbound\"] = interval[\"lower\"]\n",
    "                results_n[\"mu_upper_unbound\"] = interval[\"upper\"]\n",
    "    \n",
    "        results[n] = results_n"
   ]
  },
  {
   "cell_type": "markdown",
   "metadata": {},
   "source": [
    "The plot of the confidence belt of $\\mu$ at 90 % CL as function of the measured mean values $x$ (in unit of $\\sigma_x$), for the bounded and unbounded case are shown below."
   ]
  },
  {
   "cell_type": "code",
   "execution_count": 6,
   "metadata": {},
   "outputs": [
    {
     "data": {
      "image/png": "[encoded data removed]",
      "text/plain": [
       "<Figure size 648x576 with 1 Axes>"
      ]
     },
     "metadata": {
      "needs_background": "light"
     },
     "output_type": "display_data"
    }
   ],
   "source": [
    "f = plt.figure(figsize=(9, 8))\n",
    "\n",
    "plt.plot([v[\"x\"]/v[\"x_err\"]  for v in results.values()], \n",
    "         [v[\"mu_upper_unbound\"]/v[\"x_err\"]  for v in results.values()], color=\"black\", label=\"90 % CL, no boundaries\")\n",
    "plt.plot([v[\"x\"]/v[\"x_err\"]  for v in results.values()], \n",
    "         [v[\"mu_lower_unbound\"]/v[\"x_err\"]  for v in results.values()], color=\"black\")\n",
    "plt.plot([v[\"x\"]/v[\"x_err\"]  for v in results.values()], \n",
    "         [v[\"mu_upper\"]/v[\"x_err\"]  for v in results.values()], \"--\", color=\"crimson\", label=\"90 % CL, $\\mu > 0$\")\n",
    "plt.plot([v[\"x\"]/v[\"x_err\"]  for v in results.values()], \n",
    "         [v[\"mu_lower\"]/v[\"x_err\"]  for v in results.values()], \"--\", color=\"crimson\")\n",
    "plt.ylim(0.)\n",
    "plt.legend(fontsize=15)\n",
    "plt.ylabel(\"Mean $\\mu$\", fontsize=15)\n",
    "plt.xlabel(\"Measured mean $x$\", fontsize=15);"
   ]
  },
  {
   "cell_type": "markdown",
   "metadata": {},
   "source": [
    "For the unbounded and the $\\mu > 0$ cases the plot reproduces the figure 3 and 10, respectively, of [A Unified Approach to the Classical Statistical Analysis of Small Signals, Gary J. Feldman, Robert D. Cousins](https://arxiv.org/pdf/physics/9711021.pdf)."
   ]
  }
 ],
 "metadata": {
  "kernelspec": {
   "display_name": "Python 3",
   "language": "python",
   "name": "python3"
  },
  "language_info": {
   "codemirror_mode": {
    "name": "ipython",
    "version": 3
   },
   "file_extension": ".py",
   "mimetype": "text/x-python",
   "name": "python",
   "nbconvert_exporter": "python",
   "pygments_lexer": "ipython3",
   "version": "3.7.7"
  }
 },
 "nbformat": 4,
 "nbformat_minor": 4
}
