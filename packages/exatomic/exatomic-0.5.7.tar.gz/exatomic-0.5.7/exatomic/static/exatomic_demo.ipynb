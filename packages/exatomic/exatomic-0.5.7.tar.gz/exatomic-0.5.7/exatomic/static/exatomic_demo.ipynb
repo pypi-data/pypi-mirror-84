{
 "cells": [
  {
   "cell_type": "markdown",
   "metadata": {},
   "source": [
    "### Welcome to exatomic! Let's get started"
   ]
  },
  {
   "cell_type": "code",
   "execution_count": 1,
   "metadata": {
    "collapsed": false
   },
   "outputs": [],
   "source": [
    "import pandas as pd\n",
    "import numpy as np\n",
    "import exatomic"
   ]
  },
  {
   "cell_type": "markdown",
   "metadata": {},
   "source": [
    "### Here are some test demo containers to play around with"
   ]
  },
  {
   "cell_type": "code",
   "execution_count": 2,
   "metadata": {
    "collapsed": false
   },
   "outputs": [
    {
     "data": {
      "text/plain": [
       "<exatomic.container.Universe at 0x281e7be67f0>"
      ]
     },
     "execution_count": 2,
     "metadata": {},
     "output_type": "execute_result"
    }
   ],
   "source": [
    "u = exatomic.Universe()\n",
    "u"
   ]
  },
  {
   "cell_type": "markdown",
   "metadata": {},
   "source": [
    "### exatomic universes in principle contain a QM/MD calculation or set of calculations\n",
    "\n",
    "The following dataframes are currently supported as properties of the universe with their associated required columns\n",
    "<li> Frame -- ['atom_count']\n",
    "<li> Atom -- ['symbol', 'x', 'y', 'z', 'frame']\n",
    "<li> Two -- ['distance', 'atom0', 'atom1', 'frame']\n",
    "\n",
    "This constitutes all the required information to visualize an MD trajectory (or geometry optimization, etc.). However, there are more dataframes that allow for increased functionality.\n",
    "<li> AtomicField\n",
    "<li> Molecule\n",
    "<li> Overlap\n",
    "<li> BasisSet\n",
    "\n",
    "An exhaustive list can be found in the documentation or on readthedocs.org"
   ]
  },
  {
   "cell_type": "markdown",
   "metadata": {},
   "source": [
    "### There are convenience methods for immediate access to your data\n",
    "exatomic.XYZ('/path/to/xyz/or/trajectory')\n",
    "\n",
    "exatomic.Cube('/path/to/cube/file')"
   ]
  },
  {
   "cell_type": "markdown",
   "metadata": {},
   "source": [
    "### Try it out!"
   ]
  },
  {
   "cell_type": "code",
   "execution_count": 3,
   "metadata": {
    "collapsed": true
   },
   "outputs": [],
   "source": [
    "#myxyz = exatomic.XYZ('../data/examples/porphyrin.xyz')\n",
    "myxyz = exatomic.XYZ('porphyrin.xyz')"
   ]
  },
  {
   "cell_type": "code",
   "execution_count": 4,
   "metadata": {
    "collapsed": false
   },
   "outputs": [
    {
     "name": "stdout",
     "output_type": "stream",
     "text": [
      " 0: 77\n",
      " 1: \n",
      " 2: Zn       0.0001020000      0.0000610000     -0.0000930000                 \n",
      " 3: N       -2.0639810000      0.1236670000     -0.0005710000                 \n",
      " 4: N        0.1256270000      2.0639500000      0.0023410000                 \n",
      " 5: N       -0.1255270000     -2.0639170000      0.0004140000                 \n",
      " 6: N        2.0640740000     -0.1236120000     -0.0023860000                 \n",
      " 7: C       -2.9602730000     -0.9458250000     -0.0000300000                 \n",
      " 8: C       -4.3225600000     -0.4275890000      0.0129980000                 \n",
      " 9: C       -4.2390980000      0.9447700000      0.0116300000                  "
     ]
    }
   ],
   "source": [
    "myxyz.head()"
   ]
  },
  {
   "cell_type": "markdown",
   "metadata": {},
   "source": [
    "### Just a textfile...? "
   ]
  },
  {
   "cell_type": "code",
   "execution_count": 5,
   "metadata": {
    "collapsed": false
   },
   "outputs": [
    {
     "data": {
      "text/html": [
       "<div>\n",
       "<table border=\"1\" class=\"dataframe\">\n",
       "  <thead>\n",
       "    <tr style=\"text-align: right;\">\n",
       "      <th></th>\n",
       "      <th>symbol</th>\n",
       "      <th>x</th>\n",
       "      <th>y</th>\n",
       "      <th>z</th>\n",
       "      <th>label</th>\n",
       "      <th>frame</th>\n",
       "    </tr>\n",
       "    <tr>\n",
       "      <th>atom</th>\n",
       "      <th></th>\n",
       "      <th></th>\n",
       "      <th></th>\n",
       "      <th></th>\n",
       "      <th></th>\n",
       "      <th></th>\n",
       "    </tr>\n",
       "  </thead>\n",
       "  <tbody>\n",
       "    <tr>\n",
       "      <th>0</th>\n",
       "      <td>Zn</td>\n",
       "      <td>0.000193</td>\n",
       "      <td>0.000115</td>\n",
       "      <td>-0.000176</td>\n",
       "      <td>0</td>\n",
       "      <td>0</td>\n",
       "    </tr>\n",
       "    <tr>\n",
       "      <th>1</th>\n",
       "      <td>N</td>\n",
       "      <td>-3.900338</td>\n",
       "      <td>0.233696</td>\n",
       "      <td>-0.001079</td>\n",
       "      <td>1</td>\n",
       "      <td>0</td>\n",
       "    </tr>\n",
       "    <tr>\n",
       "      <th>2</th>\n",
       "      <td>N</td>\n",
       "      <td>0.237399</td>\n",
       "      <td>3.900280</td>\n",
       "      <td>0.004424</td>\n",
       "      <td>2</td>\n",
       "      <td>0</td>\n",
       "    </tr>\n",
       "    <tr>\n",
       "      <th>3</th>\n",
       "      <td>N</td>\n",
       "      <td>-0.237210</td>\n",
       "      <td>-3.900217</td>\n",
       "      <td>0.000782</td>\n",
       "      <td>3</td>\n",
       "      <td>0</td>\n",
       "    </tr>\n",
       "    <tr>\n",
       "      <th>4</th>\n",
       "      <td>N</td>\n",
       "      <td>3.900514</td>\n",
       "      <td>-0.233592</td>\n",
       "      <td>-0.004509</td>\n",
       "      <td>4</td>\n",
       "      <td>0</td>\n",
       "    </tr>\n",
       "  </tbody>\n",
       "</table>\n",
       "</div>"
      ],
      "text/plain": [
       "     symbol         x         y         z label frame\n",
       "atom                                                 \n",
       "0        Zn  0.000193  0.000115 -0.000176     0     0\n",
       "1         N -3.900338  0.233696 -0.001079     1     0\n",
       "2         N  0.237399  3.900280  0.004424     2     0\n",
       "3         N -0.237210 -3.900217  0.000782     3     0\n",
       "4         N  3.900514 -0.233592 -0.004509     4     0"
      ]
     },
     "execution_count": 5,
     "metadata": {},
     "output_type": "execute_result"
    }
   ],
   "source": [
    "myxyz.atom.head()    # Atomic units are used throughout the exatomic package"
   ]
  },
  {
   "cell_type": "code",
   "execution_count": 6,
   "metadata": {
    "collapsed": false
   },
   "outputs": [
    {
     "data": {
      "text/html": [
       "<div>\n",
       "<table border=\"1\" class=\"dataframe\">\n",
       "  <thead>\n",
       "    <tr style=\"text-align: right;\">\n",
       "      <th></th>\n",
       "      <th>atom0</th>\n",
       "      <th>atom1</th>\n",
       "      <th>distance</th>\n",
       "      <th>dx</th>\n",
       "      <th>dy</th>\n",
       "      <th>dz</th>\n",
       "      <th>frame</th>\n",
       "      <th>symbols</th>\n",
       "      <th>bond</th>\n",
       "    </tr>\n",
       "    <tr>\n",
       "      <th>two</th>\n",
       "      <th></th>\n",
       "      <th></th>\n",
       "      <th></th>\n",
       "      <th></th>\n",
       "      <th></th>\n",
       "      <th></th>\n",
       "      <th></th>\n",
       "      <th></th>\n",
       "      <th></th>\n",
       "    </tr>\n",
       "  </thead>\n",
       "  <tbody>\n",
       "    <tr>\n",
       "      <th>0</th>\n",
       "      <td>0</td>\n",
       "      <td>1</td>\n",
       "      <td>3.907519</td>\n",
       "      <td>3.900531</td>\n",
       "      <td>-0.233580</td>\n",
       "      <td>0.000903</td>\n",
       "      <td>0</td>\n",
       "      <td>ZnN</td>\n",
       "      <td>True</td>\n",
       "    </tr>\n",
       "    <tr>\n",
       "      <th>1</th>\n",
       "      <td>0</td>\n",
       "      <td>2</td>\n",
       "      <td>3.907374</td>\n",
       "      <td>-0.237207</td>\n",
       "      <td>-3.900164</td>\n",
       "      <td>-0.004600</td>\n",
       "      <td>0</td>\n",
       "      <td>ZnN</td>\n",
       "      <td>True</td>\n",
       "    </tr>\n",
       "    <tr>\n",
       "      <th>2</th>\n",
       "      <td>0</td>\n",
       "      <td>3</td>\n",
       "      <td>3.907551</td>\n",
       "      <td>0.237403</td>\n",
       "      <td>3.900333</td>\n",
       "      <td>-0.000958</td>\n",
       "      <td>0</td>\n",
       "      <td>ZnN</td>\n",
       "      <td>True</td>\n",
       "    </tr>\n",
       "    <tr>\n",
       "      <th>3</th>\n",
       "      <td>0</td>\n",
       "      <td>4</td>\n",
       "      <td>3.907319</td>\n",
       "      <td>-3.900321</td>\n",
       "      <td>0.233707</td>\n",
       "      <td>0.004333</td>\n",
       "      <td>0</td>\n",
       "      <td>ZnN</td>\n",
       "      <td>True</td>\n",
       "    </tr>\n",
       "    <tr>\n",
       "      <th>4</th>\n",
       "      <td>0</td>\n",
       "      <td>5</td>\n",
       "      <td>5.872890</td>\n",
       "      <td>5.594268</td>\n",
       "      <td>1.787456</td>\n",
       "      <td>-0.000119</td>\n",
       "      <td>0</td>\n",
       "      <td>ZnC</td>\n",
       "      <td>False</td>\n",
       "    </tr>\n",
       "  </tbody>\n",
       "</table>\n",
       "</div>"
      ],
      "text/plain": [
       "    atom0 atom1  distance        dx        dy        dz frame symbols   bond\n",
       "two                                                                         \n",
       "0       0     1  3.907519  3.900531 -0.233580  0.000903     0     ZnN   True\n",
       "1       0     2  3.907374 -0.237207 -3.900164 -0.004600     0     ZnN   True\n",
       "2       0     3  3.907551  0.237403  3.900333 -0.000958     0     ZnN   True\n",
       "3       0     4  3.907319 -3.900321  0.233707  0.004333     0     ZnN   True\n",
       "4       0     5  5.872890  5.594268  1.787456 -0.000119     0     ZnC  False"
      ]
     },
     "execution_count": 6,
     "metadata": {},
     "output_type": "execute_result"
    }
   ],
   "source": [
    "myuni = myxyz.to_universe()\n",
    "myuni.two.head()"
   ]
  },
  {
   "cell_type": "code",
   "execution_count": 7,
   "metadata": {
    "collapsed": false
   },
   "outputs": [
    {
     "data": {
      "text/plain": [
       "<exatomic.container.Universe at 0x281e7abec88>"
      ]
     },
     "execution_count": 7,
     "metadata": {},
     "output_type": "execute_result"
    }
   ],
   "source": [
    "myuni"
   ]
  },
  {
   "cell_type": "markdown",
   "metadata": {},
   "source": [
    "### There we go. Our porphyrin looks pretty good. Check out the GUI controls in the animation"
   ]
  },
  {
   "cell_type": "markdown",
   "metadata": {},
   "source": [
    "### So what happened above?\n",
    "\n",
    "exatomic.XYZ is a wrapper around exatomic.Editor, the base class for dealing with file I/O in exatomic. The base class has a to_universe method which converts an exatomic.Editor to an exatomic.Universe, which ships our data to javscript to be visualized right in a widget in the notebook."
   ]
  },
  {
   "cell_type": "markdown",
   "metadata": {},
   "source": [
    "### So... Avogadro in the notebook? Surely it won't scale..."
   ]
  },
  {
   "cell_type": "code",
   "execution_count": 8,
   "metadata": {
    "collapsed": true
   },
   "outputs": [],
   "source": [
    "from exa.relational import Isotope\n",
    "import random"
   ]
  },
  {
   "cell_type": "code",
   "execution_count": 19,
   "metadata": {
    "collapsed": false
   },
   "outputs": [],
   "source": [
    "nat = 10**4    # Be careful changing this value...\n",
    "x = nat**0.5 * np.random.rand(nat)\n",
    "y = nat**0.5 * np.random.rand(nat)\n",
    "z = nat**0.5 * np.random.rand(nat)\n",
    "symbols = Isotope.to_frame().drop_duplicates('symbol')['symbol'].tolist()\n",
    "symbol = [random.choice(symbols) for i in range(nat)]\n",
    "atom = pd.DataFrame.from_dict({'x': x, 'y': y, 'z': z, 'symbol': symbol})\n",
    "atom['frame'] = 0\n",
    "scuni = exatomic.Universe(atom=atom)"
   ]
  },
  {
   "cell_type": "code",
   "execution_count": 20,
   "metadata": {
    "collapsed": false
   },
   "outputs": [
    {
     "data": {
      "text/plain": [
       "<exatomic.container.Universe at 0x281e7ddbf98>"
      ]
     },
     "execution_count": 20,
     "metadata": {},
     "output_type": "execute_result"
    }
   ],
   "source": [
    "scuni"
   ]
  },
  {
   "cell_type": "code",
   "execution_count": null,
   "metadata": {
    "collapsed": true
   },
   "outputs": [],
   "source": []
  },
  {
   "cell_type": "code",
   "execution_count": null,
   "metadata": {
    "collapsed": true
   },
   "outputs": [],
   "source": []
  }
 ],
 "metadata": {
  "kernelspec": {
   "display_name": "Python 3",
   "language": "python",
   "name": "python3"
  },
  "language_info": {
   "codemirror_mode": {
    "name": "ipython",
    "version": 3
   },
   "file_extension": ".py",
   "mimetype": "text/x-python",
   "name": "python",
   "nbconvert_exporter": "python",
   "pygments_lexer": "ipython3",
   "version": "3.5.1"
  }
 },
 "nbformat": 4,
 "nbformat_minor": 0
}
