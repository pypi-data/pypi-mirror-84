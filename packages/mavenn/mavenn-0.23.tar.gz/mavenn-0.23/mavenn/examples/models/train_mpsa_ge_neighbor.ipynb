{
 "cells": [
  {
   "cell_type": "code",
   "execution_count": 1,
   "metadata": {},
   "outputs": [
    {
     "name": "stdout",
     "output_type": "stream",
     "text": [
      "['/Users/jkinney/github/mavenn/mavenn']\n"
     ]
    }
   ],
   "source": [
    "# Standard imports\n",
    "import pandas as pd\n",
    "import matplotlib.pyplot as plt\n",
    "import numpy as np\n",
    "import time\n",
    "\n",
    "# Insert path to mavenn beginning of path\n",
    "import os\n",
    "import sys\n",
    "abs_path_to_mavenn = os.path.abspath('../../../')\n",
    "sys.path.insert(0, abs_path_to_mavenn)\n",
    "\n",
    "# Load mavenn\n",
    "import mavenn\n",
    "print(mavenn.__path__)"
   ]
  },
  {
   "cell_type": "code",
   "execution_count": 2,
   "metadata": {},
   "outputs": [
    {
     "name": "stdout",
     "output_type": "stream",
     "text": [
      "test N: 6,249\n",
      "training + validation N: 24,234\n"
     ]
    },
    {
     "data": {
      "text/html": [
       "<div>\n",
       "<style scoped>\n",
       "    .dataframe tbody tr th:only-of-type {\n",
       "        vertical-align: middle;\n",
       "    }\n",
       "\n",
       "    .dataframe tbody tr th {\n",
       "        vertical-align: top;\n",
       "    }\n",
       "\n",
       "    .dataframe thead th {\n",
       "        text-align: right;\n",
       "    }\n",
       "</style>\n",
       "<table border=\"1\" class=\"dataframe\">\n",
       "  <thead>\n",
       "    <tr style=\"text-align: right;\">\n",
       "      <th></th>\n",
       "      <th>set</th>\n",
       "      <th>tot_ct</th>\n",
       "      <th>ex_ct</th>\n",
       "      <th>y</th>\n",
       "      <th>x</th>\n",
       "    </tr>\n",
       "  </thead>\n",
       "  <tbody>\n",
       "    <tr>\n",
       "      <th>0</th>\n",
       "      <td>training</td>\n",
       "      <td>28</td>\n",
       "      <td>2</td>\n",
       "      <td>-3.273018</td>\n",
       "      <td>GGAGUGAUG</td>\n",
       "    </tr>\n",
       "    <tr>\n",
       "      <th>1</th>\n",
       "      <td>training</td>\n",
       "      <td>315</td>\n",
       "      <td>7</td>\n",
       "      <td>-5.303781</td>\n",
       "      <td>AGUGUGCAA</td>\n",
       "    </tr>\n",
       "    <tr>\n",
       "      <th>2</th>\n",
       "      <td>validation</td>\n",
       "      <td>27</td>\n",
       "      <td>0</td>\n",
       "      <td>-4.807355</td>\n",
       "      <td>UAAGCUUUU</td>\n",
       "    </tr>\n",
       "    <tr>\n",
       "      <th>3</th>\n",
       "      <td>training</td>\n",
       "      <td>130</td>\n",
       "      <td>2</td>\n",
       "      <td>-5.448461</td>\n",
       "      <td>AUGGUCGGG</td>\n",
       "    </tr>\n",
       "    <tr>\n",
       "      <th>4</th>\n",
       "      <td>training</td>\n",
       "      <td>552</td>\n",
       "      <td>19</td>\n",
       "      <td>-4.789208</td>\n",
       "      <td>AGGGCAGGA</td>\n",
       "    </tr>\n",
       "    <tr>\n",
       "      <th>5</th>\n",
       "      <td>training</td>\n",
       "      <td>151</td>\n",
       "      <td>184</td>\n",
       "      <td>0.283454</td>\n",
       "      <td>AAGGUCCGC</td>\n",
       "    </tr>\n",
       "    <tr>\n",
       "      <th>6</th>\n",
       "      <td>training</td>\n",
       "      <td>88</td>\n",
       "      <td>4</td>\n",
       "      <td>-4.153805</td>\n",
       "      <td>CAGGCAAAC</td>\n",
       "    </tr>\n",
       "    <tr>\n",
       "      <th>7</th>\n",
       "      <td>training</td>\n",
       "      <td>105</td>\n",
       "      <td>5</td>\n",
       "      <td>-4.142958</td>\n",
       "      <td>GUGGCAAAU</td>\n",
       "    </tr>\n",
       "    <tr>\n",
       "      <th>8</th>\n",
       "      <td>validation</td>\n",
       "      <td>14</td>\n",
       "      <td>0</td>\n",
       "      <td>-3.906891</td>\n",
       "      <td>CAUGCAGCU</td>\n",
       "    </tr>\n",
       "    <tr>\n",
       "      <th>9</th>\n",
       "      <td>training</td>\n",
       "      <td>170</td>\n",
       "      <td>14</td>\n",
       "      <td>-3.510962</td>\n",
       "      <td>CAAGUCACU</td>\n",
       "    </tr>\n",
       "  </tbody>\n",
       "</table>\n",
       "</div>"
      ],
      "text/plain": [
       "          set  tot_ct  ex_ct         y          x\n",
       "0    training      28      2 -3.273018  GGAGUGAUG\n",
       "1    training     315      7 -5.303781  AGUGUGCAA\n",
       "2  validation      27      0 -4.807355  UAAGCUUUU\n",
       "3    training     130      2 -5.448461  AUGGUCGGG\n",
       "4    training     552     19 -4.789208  AGGGCAGGA\n",
       "5    training     151    184  0.283454  AAGGUCCGC\n",
       "6    training      88      4 -4.153805  CAGGCAAAC\n",
       "7    training     105      5 -4.142958  GUGGCAAAU\n",
       "8  validation      14      0 -3.906891  CAUGCAGCU\n",
       "9    training     170     14 -3.510962  CAAGUCACU"
      ]
     },
     "execution_count": 2,
     "metadata": {},
     "output_type": "execute_result"
    }
   ],
   "source": [
    "# Load example data\n",
    "data_df = mavenn.load_example_dataset('mpsa')\n",
    "\n",
    "# Separate test from data_df\n",
    "ix_test = data_df['set']=='test'\n",
    "test_df = data_df[ix_test].reset_index(drop=True)\n",
    "print(f'test N: {len(test_df):,}')\n",
    "\n",
    "# Remove test data from data_df\n",
    "data_df = data_df[~ix_test].reset_index(drop=True)\n",
    "print(f'training + validation N: {len(data_df):,}')\n",
    "data_df.head(10)"
   ]
  },
  {
   "cell_type": "code",
   "execution_count": 3,
   "metadata": {},
   "outputs": [],
   "source": [
    "# Get sequence length\n",
    "L = len(data_df['x'][0])\n",
    "\n",
    "# Define model\n",
    "model = mavenn.Model(L=L,\n",
    "                     alphabet='rna',\n",
    "                     gpmap_type='neighbor', \n",
    "                     regression_type='GE',\n",
    "                     ge_noise_model_type='SkewedT',\n",
    "                     ge_heteroskedasticity_order=2)\n"
   ]
  },
  {
   "cell_type": "code",
   "execution_count": 4,
   "metadata": {},
   "outputs": [
    {
     "name": "stdout",
     "output_type": "stream",
     "text": [
      "N = 24,234 observations set as training data.\n",
      "Using 24.8% for validation.\n",
      "Data shuffled.\n",
      "Time to set data: 0.469 sec.\n"
     ]
    }
   ],
   "source": [
    "# Set training data\n",
    "model.set_data(x=data_df['x'],\n",
    "               y=data_df['y'],\n",
    "               validation_flags=(data_df['set']=='validation'),\n",
    "               shuffle=True)"
   ]
  },
  {
   "cell_type": "code",
   "execution_count": 5,
   "metadata": {
    "scrolled": true
   },
   "outputs": [
    {
     "name": "stdout",
     "output_type": "stream",
     "text": [
      " \n",
      "LSMR            Least-squares solution of  Ax = b\n",
      "\n",
      "The matrix A has    18215 rows  and       36 cols\n",
      "damp = 0.00000000000000e+00\n",
      "\n",
      "atol = 1.00e-06                 conlim = 1.00e+08\n",
      "\n",
      "btol = 1.00e-06             maxiter =       36\n",
      "\n",
      " \n",
      "   itn      x(1)       norm r    norm Ar  compatible   LS      norm A   cond A\n",
      "     0  0.00000e+00  1.348e+02  4.392e+03   1.0e+00  2.4e-01\n",
      "     1 -3.59627e-03  1.227e+02  1.570e+03   9.1e-01  1.6e-01  7.8e+01  1.0e+00\n",
      "     2 -1.68568e-03  1.221e+02  1.266e+03   9.1e-01  7.0e-02  1.5e+02  1.4e+00\n",
      "     3 -3.03496e-03  1.210e+02  6.590e+01   9.0e-01  2.0e-03  2.7e+02  2.3e+00\n",
      "     4 -2.44716e-03  1.210e+02  4.345e+00   9.0e-01  1.3e-04  2.8e+02  2.8e+00\n",
      "     5 -2.52061e-03  1.210e+02  4.571e-01   9.0e-01  1.3e-05  2.9e+02  3.0e+00\n",
      "     6 -2.52031e-03  1.210e+02  1.664e-02   9.0e-01  4.7e-07  2.9e+02  3.0e+00\n",
      " \n",
      "LSMR finished\n",
      "The least-squares solution is good enough, given atol     \n",
      "istop =       2    normr = 1.2e+02\n",
      "    normA = 2.9e+02    normAr = 1.7e-02\n",
      "itn   =       6    condA = 3.0e+00\n",
      "    normx = 8.4e-01\n",
      "     6 -2.52031e-03   1.210e+02  1.664e-02\n",
      "   9.0e-01  4.7e-07   2.9e+02  3.0e+00\n",
      "Linear regression time: 0.0177 sec\n",
      "Epoch 1/1000\n",
      "365/365 [==============================] - 1s 4ms/step - loss: 51.3393 - I_var: -0.0569 - val_loss: 45.5998 - val_I_var: 0.0845\n",
      "Epoch 2/1000\n",
      "365/365 [==============================] - 1s 2ms/step - loss: 45.1719 - I_var: 0.1020 - val_loss: 44.5652 - val_I_var: 0.1189\n",
      "Epoch 3/1000\n",
      "365/365 [==============================] - 1s 2ms/step - loss: 44.4870 - I_var: 0.1250 - val_loss: 44.1598 - val_I_var: 0.1326\n",
      "Epoch 4/1000\n",
      "365/365 [==============================] - 1s 2ms/step - loss: 44.0811 - I_var: 0.1372 - val_loss: 43.5629 - val_I_var: 0.1517\n",
      "Epoch 5/1000\n",
      "365/365 [==============================] - 1s 2ms/step - loss: 43.6414 - I_var: 0.1521 - val_loss: 42.7882 - val_I_var: 0.1748\n",
      "Epoch 6/1000\n",
      "365/365 [==============================] - 1s 2ms/step - loss: 43.4254 - I_var: 0.1586 - val_loss: 42.5964 - val_I_var: 0.1812\n",
      "Epoch 7/1000\n",
      "365/365 [==============================] - 1s 2ms/step - loss: 43.2544 - I_var: 0.1642 - val_loss: 42.4310 - val_I_var: 0.1873\n",
      "Epoch 8/1000\n",
      "365/365 [==============================] - 1s 2ms/step - loss: 43.1463 - I_var: 0.1688 - val_loss: 42.4968 - val_I_var: 0.1867\n",
      "Epoch 9/1000\n",
      "365/365 [==============================] - 1s 3ms/step - loss: 43.0416 - I_var: 0.1733 - val_loss: 42.1791 - val_I_var: 0.1972\n",
      "Epoch 10/1000\n",
      "365/365 [==============================] - 1s 3ms/step - loss: 42.8682 - I_var: 0.1779 - val_loss: 42.0538 - val_I_var: 0.2009\n",
      "Epoch 11/1000\n",
      "365/365 [==============================] - 1s 2ms/step - loss: 42.8777 - I_var: 0.1794 - val_loss: 42.0020 - val_I_var: 0.2033\n",
      "Epoch 12/1000\n",
      "365/365 [==============================] - 1s 2ms/step - loss: 42.7258 - I_var: 0.1851 - val_loss: 41.9607 - val_I_var: 0.2048\n",
      "Epoch 13/1000\n",
      "365/365 [==============================] - 1s 3ms/step - loss: 42.6284 - I_var: 0.1873 - val_loss: 41.6941 - val_I_var: 0.2129\n",
      "Epoch 14/1000\n",
      "365/365 [==============================] - 1s 3ms/step - loss: 42.4913 - I_var: 0.1916 - val_loss: 41.5335 - val_I_var: 0.2181\n",
      "Epoch 15/1000\n",
      "365/365 [==============================] - 1s 3ms/step - loss: 42.3872 - I_var: 0.1924 - val_loss: 41.6078 - val_I_var: 0.2168\n",
      "Epoch 16/1000\n",
      "365/365 [==============================] - 1s 2ms/step - loss: 42.2863 - I_var: 0.2004 - val_loss: 41.4651 - val_I_var: 0.2215\n",
      "Epoch 17/1000\n",
      "365/365 [==============================] - 1s 2ms/step - loss: 42.1800 - I_var: 0.2044 - val_loss: 41.2310 - val_I_var: 0.2299\n",
      "Epoch 18/1000\n",
      "365/365 [==============================] - 1s 3ms/step - loss: 42.0869 - I_var: 0.2084 - val_loss: 41.2678 - val_I_var: 0.2310\n",
      "Epoch 19/1000\n",
      "365/365 [==============================] - 1s 3ms/step - loss: 41.9643 - I_var: 0.2149 - val_loss: 41.2767 - val_I_var: 0.2321\n",
      "Epoch 20/1000\n",
      "365/365 [==============================] - 1s 2ms/step - loss: 41.8262 - I_var: 0.2185 - val_loss: 40.8453 - val_I_var: 0.2464\n",
      "Epoch 21/1000\n",
      "365/365 [==============================] - 1s 3ms/step - loss: 41.6452 - I_var: 0.2273 - val_loss: 40.5138 - val_I_var: 0.2587\n",
      "Epoch 22/1000\n",
      "365/365 [==============================] - 1s 2ms/step - loss: 41.5129 - I_var: 0.2340 - val_loss: 40.2573 - val_I_var: 0.2686\n",
      "Epoch 23/1000\n",
      "365/365 [==============================] - 1s 3ms/step - loss: 41.1470 - I_var: 0.2459 - val_loss: 39.6499 - val_I_var: 0.2898\n",
      "Epoch 24/1000\n",
      "365/365 [==============================] - 1s 3ms/step - loss: 40.6901 - I_var: 0.2667 - val_loss: 39.7069 - val_I_var: 0.2927\n",
      "Epoch 25/1000\n",
      "365/365 [==============================] - 2s 4ms/step - loss: 40.1752 - I_var: 0.2813 - val_loss: 39.0655 - val_I_var: 0.3107\n",
      "Epoch 26/1000\n",
      "365/365 [==============================] - 2s 7ms/step - loss: 39.9932 - I_var: 0.2874 - val_loss: 38.9407 - val_I_var: 0.3153\n",
      "Epoch 27/1000\n",
      "365/365 [==============================] - 3s 8ms/step - loss: 40.0195 - I_var: 0.2857 - val_loss: 38.8703 - val_I_var: 0.3172\n",
      "Epoch 28/1000\n",
      "365/365 [==============================] - 3s 7ms/step - loss: 39.9963 - I_var: 0.2867 - val_loss: 39.0652 - val_I_var: 0.3103\n",
      "Epoch 29/1000\n",
      "365/365 [==============================] - 1s 4ms/step - loss: 39.9512 - I_var: 0.2892 - val_loss: 39.6538 - val_I_var: 0.2949\n",
      "Epoch 30/1000\n",
      "365/365 [==============================] - 1s 3ms/step - loss: 39.8484 - I_var: 0.2927 - val_loss: 38.9684 - val_I_var: 0.3139\n",
      "Epoch 31/1000\n",
      "365/365 [==============================] - 1s 3ms/step - loss: 40.0304 - I_var: 0.2868 - val_loss: 39.1476 - val_I_var: 0.3084\n",
      "Epoch 32/1000\n",
      "365/365 [==============================] - 1s 3ms/step - loss: 39.8157 - I_var: 0.2909 - val_loss: 39.5346 - val_I_var: 0.2973\n",
      "Epoch 33/1000\n",
      "365/365 [==============================] - 1s 3ms/step - loss: 39.9684 - I_var: 0.2875 - val_loss: 39.2375 - val_I_var: 0.3056\n",
      "Epoch 34/1000\n",
      "365/365 [==============================] - 1s 3ms/step - loss: 39.8845 - I_var: 0.2895 - val_loss: 39.1264 - val_I_var: 0.3089\n",
      "Epoch 35/1000\n",
      "365/365 [==============================] - 1s 3ms/step - loss: 39.9222 - I_var: 0.2888 - val_loss: 39.9913 - val_I_var: 0.2847\n",
      "Epoch 36/1000\n",
      "365/365 [==============================] - 1s 3ms/step - loss: 40.0583 - I_var: 0.2855 - val_loss: 39.1891 - val_I_var: 0.3076\n",
      "Epoch 37/1000\n",
      "365/365 [==============================] - 1s 3ms/step - loss: 39.8768 - I_var: 0.2911 - val_loss: 39.1602 - val_I_var: 0.3081\n",
      "Epoch 38/1000\n",
      "365/365 [==============================] - 1s 3ms/step - loss: 39.8848 - I_var: 0.2903 - val_loss: 39.1407 - val_I_var: 0.3085\n",
      "Epoch 39/1000\n",
      "365/365 [==============================] - 1s 3ms/step - loss: 39.9835 - I_var: 0.2864 - val_loss: 38.7901 - val_I_var: 0.3192\n",
      "Epoch 40/1000\n",
      "365/365 [==============================] - 1s 3ms/step - loss: 39.9638 - I_var: 0.2864 - val_loss: 38.8312 - val_I_var: 0.3185\n",
      "Epoch 41/1000\n",
      "365/365 [==============================] - 1s 3ms/step - loss: 39.8951 - I_var: 0.2907 - val_loss: 39.3759 - val_I_var: 0.3031\n",
      "Epoch 42/1000\n",
      "365/365 [==============================] - 1s 3ms/step - loss: 40.0937 - I_var: 0.2834 - val_loss: 38.9195 - val_I_var: 0.3157\n",
      "Epoch 43/1000\n",
      "365/365 [==============================] - 1s 3ms/step - loss: 39.8774 - I_var: 0.2912 - val_loss: 38.9548 - val_I_var: 0.3145\n",
      "Epoch 44/1000\n",
      "365/365 [==============================] - 1s 3ms/step - loss: 39.9501 - I_var: 0.2898 - val_loss: 39.0513 - val_I_var: 0.3124\n",
      "Epoch 45/1000\n",
      "365/365 [==============================] - 1s 3ms/step - loss: 39.9197 - I_var: 0.2895 - val_loss: 39.1812 - val_I_var: 0.3077\n",
      "Epoch 46/1000\n",
      "365/365 [==============================] - 1s 3ms/step - loss: 39.9755 - I_var: 0.2885 - val_loss: 38.9304 - val_I_var: 0.3152\n",
      "Epoch 47/1000\n",
      "365/365 [==============================] - 1s 3ms/step - loss: 39.7864 - I_var: 0.2936 - val_loss: 38.8953 - val_I_var: 0.3164\n",
      "Epoch 48/1000\n",
      "365/365 [==============================] - 1s 3ms/step - loss: 39.9111 - I_var: 0.2906 - val_loss: 38.8833 - val_I_var: 0.3163\n",
      "Epoch 49/1000\n",
      "365/365 [==============================] - 1s 3ms/step - loss: 40.0170 - I_var: 0.2857 - val_loss: 38.9421 - val_I_var: 0.3153\n",
      "Epoch 50/1000\n"
     ]
    },
    {
     "name": "stdout",
     "output_type": "stream",
     "text": [
      "365/365 [==============================] - 1s 3ms/step - loss: 39.8848 - I_var: 0.2918 - val_loss: 39.4272 - val_I_var: 0.3008\n",
      "Epoch 51/1000\n",
      "365/365 [==============================] - 1s 2ms/step - loss: 39.9474 - I_var: 0.2884 - val_loss: 38.9461 - val_I_var: 0.3151\n",
      "Epoch 52/1000\n",
      "365/365 [==============================] - 1s 2ms/step - loss: 39.8367 - I_var: 0.2933 - val_loss: 38.7051 - val_I_var: 0.3216\n",
      "Epoch 53/1000\n",
      "365/365 [==============================] - 1s 3ms/step - loss: 39.8530 - I_var: 0.2918 - val_loss: 39.1225 - val_I_var: 0.3095\n",
      "Epoch 54/1000\n",
      "365/365 [==============================] - 1s 2ms/step - loss: 39.8706 - I_var: 0.2908 - val_loss: 39.2163 - val_I_var: 0.3071\n",
      "Epoch 55/1000\n",
      "365/365 [==============================] - 1s 3ms/step - loss: 39.9142 - I_var: 0.2891 - val_loss: 38.7827 - val_I_var: 0.3194\n",
      "Epoch 56/1000\n",
      "365/365 [==============================] - 1s 3ms/step - loss: 39.9474 - I_var: 0.2892 - val_loss: 38.8387 - val_I_var: 0.3173\n",
      "Epoch 57/1000\n",
      "365/365 [==============================] - 1s 3ms/step - loss: 40.0064 - I_var: 0.2867 - val_loss: 39.7324 - val_I_var: 0.2923\n",
      "Epoch 58/1000\n",
      "365/365 [==============================] - 1s 3ms/step - loss: 39.8686 - I_var: 0.2918 - val_loss: 39.0356 - val_I_var: 0.3130\n",
      "Epoch 59/1000\n",
      "365/365 [==============================] - 1s 3ms/step - loss: 39.9481 - I_var: 0.2868 - val_loss: 39.0092 - val_I_var: 0.3132\n",
      "Epoch 60/1000\n",
      "365/365 [==============================] - 1s 3ms/step - loss: 39.9268 - I_var: 0.2896 - val_loss: 38.8217 - val_I_var: 0.3180\n",
      "Epoch 61/1000\n",
      "365/365 [==============================] - 1s 3ms/step - loss: 39.9346 - I_var: 0.2877 - val_loss: 38.8492 - val_I_var: 0.3179\n",
      "Epoch 62/1000\n",
      "365/365 [==============================] - 1s 3ms/step - loss: 39.8653 - I_var: 0.2919 - val_loss: 41.0169 - val_I_var: 0.2555\n",
      "Epoch 63/1000\n",
      "365/365 [==============================] - 1s 3ms/step - loss: 39.9905 - I_var: 0.2878 - val_loss: 38.7680 - val_I_var: 0.3203\n",
      "Epoch 64/1000\n",
      "365/365 [==============================] - 1s 2ms/step - loss: 39.8538 - I_var: 0.2906 - val_loss: 38.8636 - val_I_var: 0.3170\n",
      "Epoch 65/1000\n",
      "365/365 [==============================] - 1s 3ms/step - loss: 39.9379 - I_var: 0.2889 - val_loss: 38.9888 - val_I_var: 0.3134\n",
      "Epoch 66/1000\n",
      "365/365 [==============================] - 1s 3ms/step - loss: 39.9613 - I_var: 0.2883 - val_loss: 41.1038 - val_I_var: 0.2535\n",
      "Epoch 67/1000\n",
      "365/365 [==============================] - 1s 3ms/step - loss: 39.9003 - I_var: 0.2921 - val_loss: 38.7886 - val_I_var: 0.3201\n",
      "Epoch 68/1000\n",
      "365/365 [==============================] - 1s 3ms/step - loss: 39.9475 - I_var: 0.2890 - val_loss: 39.4025 - val_I_var: 0.3020\n",
      "Epoch 69/1000\n",
      "365/365 [==============================] - 1s 3ms/step - loss: 39.8831 - I_var: 0.2907 - val_loss: 38.9543 - val_I_var: 0.3141\n",
      "Epoch 70/1000\n",
      "365/365 [==============================] - 1s 3ms/step - loss: 39.9699 - I_var: 0.2886 - val_loss: 38.9038 - val_I_var: 0.3151\n",
      "Epoch 71/1000\n",
      "365/365 [==============================] - 1s 3ms/step - loss: 39.9115 - I_var: 0.2889 - val_loss: 39.1976 - val_I_var: 0.3080\n",
      "Epoch 72/1000\n",
      "365/365 [==============================] - 1s 3ms/step - loss: 39.8943 - I_var: 0.2907 - val_loss: 39.5149 - val_I_var: 0.2985\n",
      "Epoch 73/1000\n",
      "365/365 [==============================] - 1s 3ms/step - loss: 39.8758 - I_var: 0.2910 - val_loss: 39.2602 - val_I_var: 0.3055\n",
      "Epoch 74/1000\n",
      "365/365 [==============================] - 1s 3ms/step - loss: 39.8760 - I_var: 0.2901 - val_loss: 38.7984 - val_I_var: 0.3191\n",
      "Epoch 75/1000\n",
      "365/365 [==============================] - 1s 3ms/step - loss: 39.9439 - I_var: 0.2898 - val_loss: 39.4510 - val_I_var: 0.2997\n",
      "Epoch 76/1000\n",
      "365/365 [==============================] - 1s 3ms/step - loss: 39.9721 - I_var: 0.2867 - val_loss: 38.9508 - val_I_var: 0.3152\n",
      "Epoch 77/1000\n",
      "365/365 [==============================] - 2s 5ms/step - loss: 39.9015 - I_var: 0.2898 - val_loss: 38.7302 - val_I_var: 0.3213\n",
      "Epoch 78/1000\n",
      "365/365 [==============================] - 1s 3ms/step - loss: 39.8468 - I_var: 0.2891 - val_loss: 38.9675 - val_I_var: 0.3141\n",
      "Epoch 79/1000\n",
      "365/365 [==============================] - 1s 2ms/step - loss: 39.9336 - I_var: 0.2896 - val_loss: 39.1174 - val_I_var: 0.3105\n",
      "Epoch 80/1000\n",
      "365/365 [==============================] - 1s 3ms/step - loss: 39.9379 - I_var: 0.2878 - val_loss: 39.1200 - val_I_var: 0.3101\n",
      "Epoch 81/1000\n",
      "365/365 [==============================] - 1s 3ms/step - loss: 39.9063 - I_var: 0.2912 - val_loss: 38.7824 - val_I_var: 0.3202\n",
      "Epoch 82/1000\n",
      "365/365 [==============================] - 1s 3ms/step - loss: 39.8919 - I_var: 0.2883 - val_loss: 39.0085 - val_I_var: 0.3128\n",
      "Training time: 90.2 seconds\n"
     ]
    },
    {
     "data": {
      "text/plain": [
       "<tensorflow.python.keras.callbacks.History at 0x14be47c50>"
      ]
     },
     "execution_count": 5,
     "metadata": {},
     "output_type": "execute_result"
    }
   ],
   "source": [
    "# Fit model to data\n",
    "model.fit(learning_rate=.005,\n",
    "          epochs=1000,\n",
    "          batch_size=50,\n",
    "          early_stopping=True,\n",
    "          early_stopping_patience=30,\n",
    "          linear_initialization=True)"
   ]
  },
  {
   "cell_type": "code",
   "execution_count": 6,
   "metadata": {},
   "outputs": [
    {
     "name": "stdout",
     "output_type": "stream",
     "text": [
      "Model saved to these files:\n",
      "\tmpsa_ge_neighbor.pickle\n",
      "\tmpsa_ge_neighbor.h5\n"
     ]
    }
   ],
   "source": [
    "# Save model\n",
    "model.save('mpsa_ge_neighbor')"
   ]
  },
  {
   "cell_type": "code",
   "execution_count": 7,
   "metadata": {
    "scrolled": true
   },
   "outputs": [
    {
     "name": "stdout",
     "output_type": "stream",
     "text": [
      "Model loaded from these files:\n",
      "\tmpsa_ge_neighbor.pickle\n",
      "\tmpsa_ge_neighbor.h5\n"
     ]
    }
   ],
   "source": [
    "# Load model\n",
    "model = mavenn.load('mpsa_ge_neighbor')"
   ]
  },
  {
   "cell_type": "code",
   "execution_count": 8,
   "metadata": {},
   "outputs": [],
   "source": [
    "# Get x and y\n",
    "x_test = test_df['x'].values\n",
    "y_test = test_df['y'].values"
   ]
  },
  {
   "cell_type": "code",
   "execution_count": 9,
   "metadata": {},
   "outputs": [
    {
     "name": "stdout",
     "output_type": "stream",
     "text": [
      "On test data:\n",
      "I_var_test: 0.308 +- 0.023 bits\n",
      "I_pred_test: 0.335 +- 0.017 bits\n"
     ]
    },
    {
     "data": {
      "image/png": "[encoded data removed]",
      "text/plain": [
       "<Figure size 288x288 with 1 Axes>"
      ]
     },
     "metadata": {
      "needs_background": "light"
     },
     "output_type": "display_data"
    }
   ],
   "source": [
    "# Show training history\n",
    "print('On test data:')\n",
    "\n",
    "# Compute likelihood information\n",
    "I_var, dI_var =  model.I_varlihood(x=x_test, y=y_test)\n",
    "print(f'I_var_test: {I_var:.3f} +- {dI_var:.3f} bits') \n",
    "\n",
    "# Compute predictive information\n",
    "I_pred, dI_pred = model.I_predictive(x=x_test, y=y_test)\n",
    "print(f'I_pred_test: {I_pred:.3f} +- {dI_pred:.3f} bits')\n",
    "\n",
    "I_var_hist = model.history['I_var']\n",
    "val_I_var_hist = model.history['val_I_var']\n",
    "\n",
    "fig, ax = plt.subplots(1,1,figsize=[4,4])\n",
    "ax.plot(I_var_hist, label='I_var_train')\n",
    "ax.plot(val_I_var_hist, label='I_var_val')\n",
    "ax.axhline(I_var, color='C2', linestyle=':', label='I_var_test')\n",
    "ax.axhline(I_pred, color='C3', linestyle=':', label='I_pred_test')\n",
    "ax.legend()\n",
    "ax.set_xlabel('epochs')\n",
    "ax.set_ylabel('bits')\n",
    "ax.set_title('training hisotry')\n",
    "ax.set_ylim([0, I_pred*1.2]);"
   ]
  },
  {
   "cell_type": "code",
   "execution_count": 10,
   "metadata": {},
   "outputs": [
    {
     "data": {
      "image/png": "[encoded data removed]",
      "text/plain": [
       "<Figure size 288x288 with 1 Axes>"
      ]
     },
     "metadata": {
      "needs_background": "light"
     },
     "output_type": "display_data"
    }
   ],
   "source": [
    "# Predict latent phentoype values (phi) on test data\n",
    "phi_test = model.x_to_phi(x_test)\n",
    "\n",
    "# Predict measurement values (yhat) on test data\n",
    "yhat_test = model.x_to_yhat(x_test)\n",
    "\n",
    "# Set phi lims and create grid in phi space\n",
    "phi_lim = [min(phi_test)-.5, max(phi_test)+.5]\n",
    "phi_grid = np.linspace(phi_lim[0], phi_lim[1], 1000)\n",
    "\n",
    "# Compute yhat each phi gridpoint\n",
    "yhat_grid = model.phi_to_yhat(phi_grid)\n",
    "\n",
    "# Compute 90% CI for each yhat\n",
    "q = [0.05, 0.95] #[0.16, 0.84]\n",
    "yqs_grid = model.yhat_to_yq(yhat_grid, q=q)\n",
    "\n",
    "# Create figure\n",
    "fig, ax = plt.subplots(1, 1, figsize=[4, 4])\n",
    "\n",
    "# Illustrate measurement process with GE curve\n",
    "ax.scatter(phi_test, y_test, color='C0', s=5, alpha=.2, label='test data')\n",
    "ax.plot(phi_grid, yhat_grid, linewidth=2, color='C1',\n",
    "        label='$\\hat{y} = g(\\phi)$')\n",
    "ax.plot(phi_grid, yqs_grid[:, 0], linestyle='--', color='C1', label='68% CI')\n",
    "ax.plot(phi_grid, yqs_grid[:, 1], linestyle='--', color='C1')\n",
    "ax.set_xlim(phi_lim)\n",
    "ax.set_xlabel('latent phenotype ($\\phi$)')\n",
    "ax.set_ylabel('measurement ($y$)')\n",
    "ax.set_title('measurement process')\n",
    "ax.legend()\n",
    "\n",
    "# Fix up plot\n",
    "fig.tight_layout()\n",
    "plt.show()"
   ]
  },
  {
   "cell_type": "code",
   "execution_count": 11,
   "metadata": {},
   "outputs": [
    {
     "data": {
      "text/html": [
       "<div>\n",
       "<style scoped>\n",
       "    .dataframe tbody tr th:only-of-type {\n",
       "        vertical-align: middle;\n",
       "    }\n",
       "\n",
       "    .dataframe tbody tr th {\n",
       "        vertical-align: top;\n",
       "    }\n",
       "\n",
       "    .dataframe thead th {\n",
       "        text-align: right;\n",
       "    }\n",
       "</style>\n",
       "<table border=\"1\" class=\"dataframe\">\n",
       "  <thead>\n",
       "    <tr style=\"text-align: right;\">\n",
       "      <th></th>\n",
       "      <th>training_set</th>\n",
       "      <th>yhat</th>\n",
       "      <th>phi</th>\n",
       "      <th>y</th>\n",
       "      <th>x</th>\n",
       "    </tr>\n",
       "  </thead>\n",
       "  <tbody>\n",
       "    <tr>\n",
       "      <th>0</th>\n",
       "      <td>True</td>\n",
       "      <td>-4.403437</td>\n",
       "      <td>0.728093</td>\n",
       "      <td>-5.245175</td>\n",
       "      <td>GUGGUGUAU</td>\n",
       "    </tr>\n",
       "    <tr>\n",
       "      <th>1</th>\n",
       "      <td>True</td>\n",
       "      <td>-4.409756</td>\n",
       "      <td>-0.016874</td>\n",
       "      <td>-5.257641</td>\n",
       "      <td>CUCGUGUUU</td>\n",
       "    </tr>\n",
       "    <tr>\n",
       "      <th>2</th>\n",
       "      <td>True</td>\n",
       "      <td>-4.409928</td>\n",
       "      <td>-0.136348</td>\n",
       "      <td>-5.238267</td>\n",
       "      <td>GACGCAACG</td>\n",
       "    </tr>\n",
       "    <tr>\n",
       "      <th>3</th>\n",
       "      <td>False</td>\n",
       "      <td>-4.410604</td>\n",
       "      <td>-0.663678</td>\n",
       "      <td>-5.352926</td>\n",
       "      <td>CUCGCGAAC</td>\n",
       "    </tr>\n",
       "    <tr>\n",
       "      <th>4</th>\n",
       "      <td>True</td>\n",
       "      <td>1.890769</td>\n",
       "      <td>2.079741</td>\n",
       "      <td>2.192985</td>\n",
       "      <td>GAGGUUAGC</td>\n",
       "    </tr>\n",
       "  </tbody>\n",
       "</table>\n",
       "</div>"
      ],
      "text/plain": [
       "   training_set      yhat       phi         y          x\n",
       "0          True -4.403437  0.728093 -5.245175  GUGGUGUAU\n",
       "1          True -4.409756 -0.016874 -5.257641  CUCGUGUUU\n",
       "2          True -4.409928 -0.136348 -5.238267  GACGCAACG\n",
       "3         False -4.410604 -0.663678 -5.352926  CUCGCGAAC\n",
       "4          True  1.890769  2.079741  2.192985  GAGGUUAGC"
      ]
     },
     "execution_count": 11,
     "metadata": {},
     "output_type": "execute_result"
    }
   ],
   "source": [
    "# Test simulate_data\n",
    "sim_df = model.simulate_dataset(N=1000)\n",
    "sim_df.head()"
   ]
  },
  {
   "cell_type": "code",
   "execution_count": 12,
   "metadata": {},
   "outputs": [
    {
     "data": {
      "text/plain": [
       "[<matplotlib.lines.Line2D at 0x14d22ef50>]"
      ]
     },
     "execution_count": 12,
     "metadata": {},
     "output_type": "execute_result"
    },
    {
     "data": {
      "image/png": "[encoded data removed]",
      "text/plain": [
       "<Figure size 1080x360 with 3 Axes>"
      ]
     },
     "metadata": {
      "needs_background": "light"
     },
     "output_type": "display_data"
    }
   ],
   "source": [
    "# Is clip by value causing a problem?\n",
    "yhat_fixed = (yhat_grid - model.y_mean)/model.y_std\n",
    "a, b, s = model.layer_noise_model.compute_params(yhat_fixed)\n",
    "\n",
    "fig, axs = plt.subplots(1,3,figsize=[15,5])\n",
    "\n",
    "axs[0].semilogy(yhat_fixed, a)\n",
    "axs[1].semilogy(yhat_fixed, b)\n",
    "axs[2].plot(yhat_fixed, s)"
   ]
  },
  {
   "cell_type": "code",
   "execution_count": null,
   "metadata": {},
   "outputs": [],
   "source": []
  }
 ],
 "metadata": {
  "kernelspec": {
   "display_name": "Python 3",
   "language": "python",
   "name": "python3"
  },
  "language_info": {
   "codemirror_mode": {
    "name": "ipython",
    "version": 3
   },
   "file_extension": ".py",
   "mimetype": "text/x-python",
   "name": "python",
   "nbconvert_exporter": "python",
   "pygments_lexer": "ipython3",
   "version": "3.7.4"
  }
 },
 "nbformat": 4,
 "nbformat_minor": 2
}
