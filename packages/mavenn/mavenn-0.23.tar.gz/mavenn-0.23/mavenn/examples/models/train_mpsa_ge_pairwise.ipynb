{
 "cells": [
  {
   "cell_type": "code",
   "execution_count": 1,
   "metadata": {},
   "outputs": [
    {
     "name": "stdout",
     "output_type": "stream",
     "text": [
      "['/Users/jkinney/github/mavenn/mavenn']\n"
     ]
    }
   ],
   "source": [
    "# Standard imports\n",
    "import pandas as pd\n",
    "import matplotlib.pyplot as plt\n",
    "import numpy as np\n",
    "import time\n",
    "\n",
    "# Insert path to mavenn beginning of path\n",
    "import os\n",
    "import sys\n",
    "abs_path_to_mavenn = os.path.abspath('../../../')\n",
    "sys.path.insert(0, abs_path_to_mavenn)\n",
    "\n",
    "# Load mavenn\n",
    "import mavenn\n",
    "print(mavenn.__path__)"
   ]
  },
  {
   "cell_type": "code",
   "execution_count": 2,
   "metadata": {},
   "outputs": [
    {
     "name": "stdout",
     "output_type": "stream",
     "text": [
      "test N: 6,249\n",
      "training + validation N: 24,234\n"
     ]
    },
    {
     "data": {
      "text/html": [
       "<div>\n",
       "<style scoped>\n",
       "    .dataframe tbody tr th:only-of-type {\n",
       "        vertical-align: middle;\n",
       "    }\n",
       "\n",
       "    .dataframe tbody tr th {\n",
       "        vertical-align: top;\n",
       "    }\n",
       "\n",
       "    .dataframe thead th {\n",
       "        text-align: right;\n",
       "    }\n",
       "</style>\n",
       "<table border=\"1\" class=\"dataframe\">\n",
       "  <thead>\n",
       "    <tr style=\"text-align: right;\">\n",
       "      <th></th>\n",
       "      <th>set</th>\n",
       "      <th>tot_ct</th>\n",
       "      <th>ex_ct</th>\n",
       "      <th>y</th>\n",
       "      <th>x</th>\n",
       "    </tr>\n",
       "  </thead>\n",
       "  <tbody>\n",
       "    <tr>\n",
       "      <th>0</th>\n",
       "      <td>training</td>\n",
       "      <td>28</td>\n",
       "      <td>2</td>\n",
       "      <td>-3.273018</td>\n",
       "      <td>GGAGUGAUG</td>\n",
       "    </tr>\n",
       "    <tr>\n",
       "      <th>1</th>\n",
       "      <td>training</td>\n",
       "      <td>315</td>\n",
       "      <td>7</td>\n",
       "      <td>-5.303781</td>\n",
       "      <td>AGUGUGCAA</td>\n",
       "    </tr>\n",
       "    <tr>\n",
       "      <th>2</th>\n",
       "      <td>validation</td>\n",
       "      <td>27</td>\n",
       "      <td>0</td>\n",
       "      <td>-4.807355</td>\n",
       "      <td>UAAGCUUUU</td>\n",
       "    </tr>\n",
       "    <tr>\n",
       "      <th>3</th>\n",
       "      <td>training</td>\n",
       "      <td>130</td>\n",
       "      <td>2</td>\n",
       "      <td>-5.448461</td>\n",
       "      <td>AUGGUCGGG</td>\n",
       "    </tr>\n",
       "    <tr>\n",
       "      <th>4</th>\n",
       "      <td>training</td>\n",
       "      <td>552</td>\n",
       "      <td>19</td>\n",
       "      <td>-4.789208</td>\n",
       "      <td>AGGGCAGGA</td>\n",
       "    </tr>\n",
       "    <tr>\n",
       "      <th>5</th>\n",
       "      <td>training</td>\n",
       "      <td>151</td>\n",
       "      <td>184</td>\n",
       "      <td>0.283454</td>\n",
       "      <td>AAGGUCCGC</td>\n",
       "    </tr>\n",
       "    <tr>\n",
       "      <th>6</th>\n",
       "      <td>training</td>\n",
       "      <td>88</td>\n",
       "      <td>4</td>\n",
       "      <td>-4.153805</td>\n",
       "      <td>CAGGCAAAC</td>\n",
       "    </tr>\n",
       "    <tr>\n",
       "      <th>7</th>\n",
       "      <td>training</td>\n",
       "      <td>105</td>\n",
       "      <td>5</td>\n",
       "      <td>-4.142958</td>\n",
       "      <td>GUGGCAAAU</td>\n",
       "    </tr>\n",
       "    <tr>\n",
       "      <th>8</th>\n",
       "      <td>validation</td>\n",
       "      <td>14</td>\n",
       "      <td>0</td>\n",
       "      <td>-3.906891</td>\n",
       "      <td>CAUGCAGCU</td>\n",
       "    </tr>\n",
       "    <tr>\n",
       "      <th>9</th>\n",
       "      <td>training</td>\n",
       "      <td>170</td>\n",
       "      <td>14</td>\n",
       "      <td>-3.510962</td>\n",
       "      <td>CAAGUCACU</td>\n",
       "    </tr>\n",
       "  </tbody>\n",
       "</table>\n",
       "</div>"
      ],
      "text/plain": [
       "          set  tot_ct  ex_ct         y          x\n",
       "0    training      28      2 -3.273018  GGAGUGAUG\n",
       "1    training     315      7 -5.303781  AGUGUGCAA\n",
       "2  validation      27      0 -4.807355  UAAGCUUUU\n",
       "3    training     130      2 -5.448461  AUGGUCGGG\n",
       "4    training     552     19 -4.789208  AGGGCAGGA\n",
       "5    training     151    184  0.283454  AAGGUCCGC\n",
       "6    training      88      4 -4.153805  CAGGCAAAC\n",
       "7    training     105      5 -4.142958  GUGGCAAAU\n",
       "8  validation      14      0 -3.906891  CAUGCAGCU\n",
       "9    training     170     14 -3.510962  CAAGUCACU"
      ]
     },
     "execution_count": 2,
     "metadata": {},
     "output_type": "execute_result"
    }
   ],
   "source": [
    "# Load example data\n",
    "data_df = mavenn.load_example_dataset('mpsa')\n",
    "\n",
    "# Separate test from data_df\n",
    "ix_test = data_df['set']=='test'\n",
    "test_df = data_df[ix_test].reset_index(drop=True)\n",
    "print(f'test N: {len(test_df):,}')\n",
    "\n",
    "# Remove test data from data_df\n",
    "data_df = data_df[~ix_test].reset_index(drop=True)\n",
    "print(f'training + validation N: {len(data_df):,}')\n",
    "data_df.head(10)"
   ]
  },
  {
   "cell_type": "code",
   "execution_count": 3,
   "metadata": {},
   "outputs": [],
   "source": [
    "# Get sequence length\n",
    "L = len(data_df['x'][0])\n",
    "\n",
    "# Define model\n",
    "model = mavenn.Model(L=L,\n",
    "                     alphabet='rna',\n",
    "                     gpmap_type='pairwise', \n",
    "                     regression_type='GE',\n",
    "                     ge_noise_model_type='SkewedT',\n",
    "                     ge_heteroskedasticity_order=2)"
   ]
  },
  {
   "cell_type": "code",
   "execution_count": 4,
   "metadata": {},
   "outputs": [
    {
     "name": "stdout",
     "output_type": "stream",
     "text": [
      "N = 24,234 observations set as training data.\n",
      "Using 24.8% for validation.\n",
      "Data shuffled.\n",
      "Time to set data: 0.41 sec.\n"
     ]
    }
   ],
   "source": [
    "# Set training data\n",
    "model.set_data(x=data_df['x'],\n",
    "               y=data_df['y'],\n",
    "               validation_flags=(data_df['set']=='validation'),\n",
    "               shuffle=True)"
   ]
  },
  {
   "cell_type": "code",
   "execution_count": 5,
   "metadata": {
    "scrolled": true
   },
   "outputs": [
    {
     "name": "stdout",
     "output_type": "stream",
     "text": [
      " \n",
      "LSMR            Least-squares solution of  Ax = b\n",
      "\n",
      "The matrix A has    18215 rows  and       36 cols\n",
      "damp = 0.00000000000000e+00\n",
      "\n",
      "atol = 1.00e-06                 conlim = 1.00e+08\n",
      "\n",
      "btol = 1.00e-06             maxiter =       36\n",
      "\n",
      " \n",
      "   itn      x(1)       norm r    norm Ar  compatible   LS      norm A   cond A\n",
      "     0  0.00000e+00  1.348e+02  4.392e+03   1.0e+00  2.4e-01\n",
      "     1 -3.59627e-03  1.227e+02  1.570e+03   9.1e-01  1.6e-01  7.8e+01  1.0e+00\n",
      "     2 -1.68568e-03  1.221e+02  1.266e+03   9.1e-01  7.0e-02  1.5e+02  1.4e+00\n",
      "     3 -3.03496e-03  1.210e+02  6.590e+01   9.0e-01  2.0e-03  2.7e+02  2.3e+00\n",
      "     4 -2.44716e-03  1.210e+02  4.345e+00   9.0e-01  1.3e-04  2.8e+02  2.8e+00\n",
      "     5 -2.52061e-03  1.210e+02  4.571e-01   9.0e-01  1.3e-05  2.9e+02  3.0e+00\n",
      "     6 -2.52031e-03  1.210e+02  1.664e-02   9.0e-01  4.7e-07  2.9e+02  3.0e+00\n",
      " \n",
      "LSMR finished\n",
      "The least-squares solution is good enough, given atol     \n",
      "istop =       2    normr = 1.2e+02\n",
      "    normA = 2.9e+02    normAr = 1.7e-02\n",
      "itn   =       6    condA = 3.0e+00\n",
      "    normx = 8.4e-01\n",
      "     6 -2.52031e-03   1.210e+02  1.664e-02\n",
      "   9.0e-01  4.7e-07   2.9e+02  3.0e+00\n",
      "Linear regression time: 0.0148 sec\n",
      "Epoch 1/1000\n",
      "365/365 [==============================] - 1s 4ms/step - loss: 62.2511 - I_var: -0.2969 - val_loss: 52.8574 - val_I_var: -0.0592\n",
      "Epoch 2/1000\n",
      "365/365 [==============================] - 1s 3ms/step - loss: 48.7378 - I_var: 0.0425 - val_loss: 45.5027 - val_I_var: 0.1208\n",
      "Epoch 3/1000\n",
      "365/365 [==============================] - 1s 2ms/step - loss: 44.5896 - I_var: 0.1426 - val_loss: 43.4581 - val_I_var: 0.1705\n",
      "Epoch 4/1000\n",
      "365/365 [==============================] - 1s 2ms/step - loss: 43.3384 - I_var: 0.1720 - val_loss: 42.8190 - val_I_var: 0.1861\n",
      "Epoch 5/1000\n",
      "365/365 [==============================] - 1s 2ms/step - loss: 42.8548 - I_var: 0.1856 - val_loss: 42.4593 - val_I_var: 0.1962\n",
      "Epoch 6/1000\n",
      "365/365 [==============================] - 1s 2ms/step - loss: 42.4594 - I_var: 0.1969 - val_loss: 41.9872 - val_I_var: 0.2107\n",
      "Epoch 7/1000\n",
      "365/365 [==============================] - 1s 3ms/step - loss: 42.1235 - I_var: 0.2072 - val_loss: 41.6628 - val_I_var: 0.2208\n",
      "Epoch 8/1000\n",
      "365/365 [==============================] - 1s 3ms/step - loss: 41.7847 - I_var: 0.2170 - val_loss: 41.4386 - val_I_var: 0.2282\n",
      "Epoch 9/1000\n",
      "365/365 [==============================] - 1s 3ms/step - loss: 41.6009 - I_var: 0.2251 - val_loss: 41.2478 - val_I_var: 0.2348\n",
      "Epoch 10/1000\n",
      "365/365 [==============================] - 1s 3ms/step - loss: 41.4555 - I_var: 0.2279 - val_loss: 41.0789 - val_I_var: 0.2396\n",
      "Epoch 11/1000\n",
      "365/365 [==============================] - 2s 4ms/step - loss: 41.3644 - I_var: 0.2340 - val_loss: 41.1125 - val_I_var: 0.2387\n",
      "Epoch 12/1000\n",
      "365/365 [==============================] - 2s 4ms/step - loss: 41.2918 - I_var: 0.2354 - val_loss: 40.9567 - val_I_var: 0.2435\n",
      "Epoch 13/1000\n",
      "365/365 [==============================] - 1s 4ms/step - loss: 41.2707 - I_var: 0.2351 - val_loss: 40.9243 - val_I_var: 0.2443\n",
      "Epoch 14/1000\n",
      "365/365 [==============================] - 3s 7ms/step - loss: 41.1997 - I_var: 0.2384 - val_loss: 41.0583 - val_I_var: 0.2409\n",
      "Epoch 15/1000\n",
      "365/365 [==============================] - 1s 3ms/step - loss: 41.1668 - I_var: 0.2401 - val_loss: 40.8455 - val_I_var: 0.2474\n",
      "Epoch 16/1000\n",
      "365/365 [==============================] - 1s 3ms/step - loss: 41.1096 - I_var: 0.2400 - val_loss: 40.7615 - val_I_var: 0.2499\n",
      "Epoch 17/1000\n",
      "365/365 [==============================] - 1s 3ms/step - loss: 41.0893 - I_var: 0.2410 - val_loss: 40.8619 - val_I_var: 0.2478\n",
      "Epoch 18/1000\n",
      "365/365 [==============================] - 1s 2ms/step - loss: 41.0365 - I_var: 0.2413 - val_loss: 40.7777 - val_I_var: 0.2502\n",
      "Epoch 19/1000\n",
      "365/365 [==============================] - 1s 2ms/step - loss: 41.0873 - I_var: 0.2436 - val_loss: 40.8033 - val_I_var: 0.2498\n",
      "Epoch 20/1000\n",
      "365/365 [==============================] - 1s 3ms/step - loss: 40.9978 - I_var: 0.2445 - val_loss: 40.6967 - val_I_var: 0.2533\n",
      "Epoch 21/1000\n",
      "365/365 [==============================] - 1s 3ms/step - loss: 40.9724 - I_var: 0.2456 - val_loss: 40.6115 - val_I_var: 0.2563\n",
      "Epoch 22/1000\n",
      "365/365 [==============================] - 1s 3ms/step - loss: 40.9432 - I_var: 0.2483 - val_loss: 40.7040 - val_I_var: 0.2542\n",
      "Epoch 23/1000\n",
      "365/365 [==============================] - 1s 3ms/step - loss: 40.9351 - I_var: 0.2482 - val_loss: 40.6423 - val_I_var: 0.2567\n",
      "Epoch 24/1000\n",
      "365/365 [==============================] - 1s 3ms/step - loss: 40.8819 - I_var: 0.2501 - val_loss: 40.8521 - val_I_var: 0.2515\n",
      "Epoch 25/1000\n",
      "365/365 [==============================] - 1s 3ms/step - loss: 40.9292 - I_var: 0.2518 - val_loss: 40.4881 - val_I_var: 0.2622\n",
      "Epoch 26/1000\n",
      "365/365 [==============================] - 1s 3ms/step - loss: 40.8170 - I_var: 0.2522 - val_loss: 40.4953 - val_I_var: 0.2626\n",
      "Epoch 27/1000\n",
      "365/365 [==============================] - 1s 2ms/step - loss: 40.8249 - I_var: 0.2547 - val_loss: 40.5347 - val_I_var: 0.2618\n",
      "Epoch 28/1000\n",
      "365/365 [==============================] - 1s 2ms/step - loss: 40.8008 - I_var: 0.2545 - val_loss: 40.4956 - val_I_var: 0.2637\n",
      "Epoch 29/1000\n",
      "365/365 [==============================] - 1s 2ms/step - loss: 40.7699 - I_var: 0.2574 - val_loss: 40.5347 - val_I_var: 0.2632\n",
      "Epoch 30/1000\n",
      "365/365 [==============================] - 1s 3ms/step - loss: 40.7393 - I_var: 0.2593 - val_loss: 40.4025 - val_I_var: 0.2674\n",
      "Epoch 31/1000\n",
      "365/365 [==============================] - 1s 2ms/step - loss: 40.7429 - I_var: 0.2580 - val_loss: 40.3595 - val_I_var: 0.2691\n",
      "Epoch 32/1000\n",
      "365/365 [==============================] - 1s 3ms/step - loss: 40.6622 - I_var: 0.2616 - val_loss: 40.4982 - val_I_var: 0.2659\n",
      "Epoch 33/1000\n",
      "365/365 [==============================] - 1s 3ms/step - loss: 40.6518 - I_var: 0.2624 - val_loss: 40.2549 - val_I_var: 0.2730\n",
      "Epoch 34/1000\n",
      "365/365 [==============================] - 1s 3ms/step - loss: 40.6149 - I_var: 0.2655 - val_loss: 40.1955 - val_I_var: 0.2752\n",
      "Epoch 35/1000\n",
      "365/365 [==============================] - 1s 3ms/step - loss: 40.5777 - I_var: 0.2663 - val_loss: 40.2654 - val_I_var: 0.2740\n",
      "Epoch 36/1000\n",
      "365/365 [==============================] - 1s 3ms/step - loss: 40.6133 - I_var: 0.2652 - val_loss: 40.2542 - val_I_var: 0.2746\n",
      "Epoch 37/1000\n",
      "365/365 [==============================] - 1s 4ms/step - loss: 40.5609 - I_var: 0.2670 - val_loss: 40.1309 - val_I_var: 0.2786\n",
      "Epoch 38/1000\n",
      "365/365 [==============================] - 2s 4ms/step - loss: 40.5115 - I_var: 0.2701 - val_loss: 40.2330 - val_I_var: 0.2759\n",
      "Epoch 39/1000\n",
      "365/365 [==============================] - 2s 5ms/step - loss: 40.4815 - I_var: 0.2696 - val_loss: 40.2129 - val_I_var: 0.2770\n",
      "Epoch 40/1000\n",
      "365/365 [==============================] - 2s 4ms/step - loss: 40.4547 - I_var: 0.2706 - val_loss: 40.1005 - val_I_var: 0.2809\n",
      "Epoch 41/1000\n",
      "365/365 [==============================] - 1s 3ms/step - loss: 40.4433 - I_var: 0.2728 - val_loss: 40.0921 - val_I_var: 0.2812\n",
      "Epoch 42/1000\n",
      "365/365 [==============================] - 1s 3ms/step - loss: 40.4248 - I_var: 0.2749 - val_loss: 40.1447 - val_I_var: 0.2805\n",
      "Epoch 43/1000\n",
      "365/365 [==============================] - 1s 3ms/step - loss: 40.3995 - I_var: 0.2754 - val_loss: 39.9251 - val_I_var: 0.2875\n",
      "Epoch 44/1000\n",
      "365/365 [==============================] - 1s 3ms/step - loss: 40.3522 - I_var: 0.2766 - val_loss: 39.9750 - val_I_var: 0.2865\n",
      "Epoch 45/1000\n",
      "365/365 [==============================] - 1s 3ms/step - loss: 40.3042 - I_var: 0.2756 - val_loss: 39.9338 - val_I_var: 0.2879\n",
      "Epoch 46/1000\n",
      "365/365 [==============================] - 1s 3ms/step - loss: 40.2627 - I_var: 0.2804 - val_loss: 39.8882 - val_I_var: 0.2898\n",
      "Epoch 47/1000\n",
      "365/365 [==============================] - 1s 3ms/step - loss: 40.2545 - I_var: 0.2809 - val_loss: 39.6917 - val_I_var: 0.2959\n",
      "Epoch 48/1000\n",
      "365/365 [==============================] - 1s 3ms/step - loss: 40.2443 - I_var: 0.2800 - val_loss: 40.0360 - val_I_var: 0.2864\n",
      "Epoch 49/1000\n",
      "365/365 [==============================] - 1s 3ms/step - loss: 40.1959 - I_var: 0.2825 - val_loss: 39.7119 - val_I_var: 0.2960\n",
      "Epoch 50/1000\n"
     ]
    },
    {
     "name": "stdout",
     "output_type": "stream",
     "text": [
      "365/365 [==============================] - 1s 3ms/step - loss: 40.1082 - I_var: 0.2858 - val_loss: 39.6483 - val_I_var: 0.2984\n",
      "Epoch 51/1000\n",
      "365/365 [==============================] - 1s 3ms/step - loss: 40.0291 - I_var: 0.2882 - val_loss: 39.8168 - val_I_var: 0.2942\n",
      "Epoch 52/1000\n",
      "365/365 [==============================] - 1s 3ms/step - loss: 40.0390 - I_var: 0.2889 - val_loss: 39.6339 - val_I_var: 0.3000\n",
      "Epoch 53/1000\n",
      "365/365 [==============================] - 1s 2ms/step - loss: 40.0343 - I_var: 0.2906 - val_loss: 40.2467 - val_I_var: 0.2832\n",
      "Epoch 54/1000\n",
      "365/365 [==============================] - 1s 3ms/step - loss: 39.9765 - I_var: 0.2924 - val_loss: 39.8341 - val_I_var: 0.2955\n",
      "Epoch 55/1000\n",
      "365/365 [==============================] - 1s 3ms/step - loss: 39.8484 - I_var: 0.2988 - val_loss: 39.2416 - val_I_var: 0.3136\n",
      "Epoch 56/1000\n",
      "365/365 [==============================] - 1s 2ms/step - loss: 39.8342 - I_var: 0.2986 - val_loss: 39.9471 - val_I_var: 0.2938\n",
      "Epoch 57/1000\n",
      "365/365 [==============================] - 1s 2ms/step - loss: 39.7182 - I_var: 0.3033 - val_loss: 39.3210 - val_I_var: 0.3130\n",
      "Epoch 58/1000\n",
      "365/365 [==============================] - 1s 3ms/step - loss: 39.6126 - I_var: 0.3076 - val_loss: 39.3146 - val_I_var: 0.3148\n",
      "Epoch 59/1000\n",
      "365/365 [==============================] - 1s 3ms/step - loss: 39.5337 - I_var: 0.3110 - val_loss: 39.0855 - val_I_var: 0.3227\n",
      "Epoch 60/1000\n",
      "365/365 [==============================] - 1s 3ms/step - loss: 39.2226 - I_var: 0.3212 - val_loss: 38.4272 - val_I_var: 0.3442\n",
      "Epoch 61/1000\n",
      "365/365 [==============================] - 1s 3ms/step - loss: 38.8585 - I_var: 0.3355 - val_loss: 38.9169 - val_I_var: 0.3321\n",
      "Epoch 62/1000\n",
      "365/365 [==============================] - 1s 3ms/step - loss: 38.8561 - I_var: 0.3368 - val_loss: 37.7395 - val_I_var: 0.3657\n",
      "Epoch 63/1000\n",
      "365/365 [==============================] - 1s 3ms/step - loss: 38.4623 - I_var: 0.3459 - val_loss: 37.9537 - val_I_var: 0.3597\n",
      "Epoch 64/1000\n",
      "365/365 [==============================] - 1s 3ms/step - loss: 38.3644 - I_var: 0.3503 - val_loss: 37.6134 - val_I_var: 0.3696\n",
      "Epoch 65/1000\n",
      "365/365 [==============================] - 1s 3ms/step - loss: 38.1900 - I_var: 0.3571 - val_loss: 37.4933 - val_I_var: 0.3736\n",
      "Epoch 66/1000\n",
      "365/365 [==============================] - 1s 3ms/step - loss: 38.1949 - I_var: 0.3564 - val_loss: 37.6686 - val_I_var: 0.3685\n",
      "Epoch 67/1000\n",
      "365/365 [==============================] - 1s 3ms/step - loss: 38.1144 - I_var: 0.3589 - val_loss: 37.7800 - val_I_var: 0.3664\n",
      "Epoch 68/1000\n",
      "365/365 [==============================] - 1s 3ms/step - loss: 37.9989 - I_var: 0.3611 - val_loss: 37.5848 - val_I_var: 0.3722\n",
      "Epoch 69/1000\n",
      "365/365 [==============================] - 1s 3ms/step - loss: 38.0942 - I_var: 0.3599 - val_loss: 37.5512 - val_I_var: 0.3738\n",
      "Epoch 70/1000\n",
      "365/365 [==============================] - 1s 3ms/step - loss: 38.0680 - I_var: 0.3598 - val_loss: 37.7744 - val_I_var: 0.3667\n",
      "Epoch 71/1000\n",
      "365/365 [==============================] - 1s 3ms/step - loss: 38.0322 - I_var: 0.3611 - val_loss: 37.6058 - val_I_var: 0.3712\n",
      "Epoch 72/1000\n",
      "365/365 [==============================] - 1s 3ms/step - loss: 38.0249 - I_var: 0.3599 - val_loss: 37.8245 - val_I_var: 0.3647\n",
      "Epoch 73/1000\n",
      "365/365 [==============================] - 1s 3ms/step - loss: 38.1688 - I_var: 0.3563 - val_loss: 37.4850 - val_I_var: 0.3749\n",
      "Epoch 74/1000\n",
      "365/365 [==============================] - 1s 3ms/step - loss: 37.9869 - I_var: 0.3624 - val_loss: 37.4975 - val_I_var: 0.3749\n",
      "Epoch 75/1000\n",
      "365/365 [==============================] - 1s 3ms/step - loss: 37.9993 - I_var: 0.3620 - val_loss: 37.6488 - val_I_var: 0.3703\n",
      "Epoch 76/1000\n",
      "365/365 [==============================] - 1s 3ms/step - loss: 38.1068 - I_var: 0.3589 - val_loss: 37.3194 - val_I_var: 0.3803\n",
      "Epoch 77/1000\n",
      "365/365 [==============================] - 1s 3ms/step - loss: 38.1255 - I_var: 0.3571 - val_loss: 37.5675 - val_I_var: 0.3720\n",
      "Epoch 78/1000\n",
      "365/365 [==============================] - 1s 3ms/step - loss: 37.9531 - I_var: 0.3648 - val_loss: 37.5430 - val_I_var: 0.3742\n",
      "Epoch 79/1000\n",
      "365/365 [==============================] - 1s 3ms/step - loss: 38.0281 - I_var: 0.3600 - val_loss: 37.4638 - val_I_var: 0.3760\n",
      "Epoch 80/1000\n",
      "365/365 [==============================] - 1s 3ms/step - loss: 37.9793 - I_var: 0.3623 - val_loss: 37.5273 - val_I_var: 0.3739\n",
      "Epoch 81/1000\n",
      "365/365 [==============================] - 1s 3ms/step - loss: 37.9827 - I_var: 0.3637 - val_loss: 37.7195 - val_I_var: 0.3687\n",
      "Epoch 82/1000\n",
      "365/365 [==============================] - 1s 3ms/step - loss: 38.0310 - I_var: 0.3622 - val_loss: 37.5829 - val_I_var: 0.3725\n",
      "Epoch 83/1000\n",
      "365/365 [==============================] - 1s 3ms/step - loss: 37.9924 - I_var: 0.3630 - val_loss: 37.4429 - val_I_var: 0.3768\n",
      "Epoch 84/1000\n",
      "365/365 [==============================] - 2s 4ms/step - loss: 37.9678 - I_var: 0.3630 - val_loss: 37.5527 - val_I_var: 0.3733\n",
      "Epoch 85/1000\n",
      "365/365 [==============================] - 1s 3ms/step - loss: 38.0394 - I_var: 0.3620 - val_loss: 37.3262 - val_I_var: 0.3798\n",
      "Epoch 86/1000\n",
      "365/365 [==============================] - 1s 3ms/step - loss: 37.8680 - I_var: 0.3665 - val_loss: 37.6294 - val_I_var: 0.3716\n",
      "Epoch 87/1000\n",
      "365/365 [==============================] - 1s 3ms/step - loss: 38.0187 - I_var: 0.3616 - val_loss: 37.3767 - val_I_var: 0.3784\n",
      "Epoch 88/1000\n",
      "365/365 [==============================] - 1s 3ms/step - loss: 37.9307 - I_var: 0.3629 - val_loss: 37.4715 - val_I_var: 0.3761\n",
      "Epoch 89/1000\n",
      "365/365 [==============================] - 1s 3ms/step - loss: 37.9346 - I_var: 0.3647 - val_loss: 37.2687 - val_I_var: 0.3819\n",
      "Epoch 90/1000\n",
      "365/365 [==============================] - 1s 3ms/step - loss: 37.9123 - I_var: 0.3640 - val_loss: 37.5512 - val_I_var: 0.3735\n",
      "Epoch 91/1000\n",
      "365/365 [==============================] - 1s 3ms/step - loss: 37.8985 - I_var: 0.3665 - val_loss: 37.5356 - val_I_var: 0.3739\n",
      "Epoch 92/1000\n",
      "365/365 [==============================] - 1s 3ms/step - loss: 37.8975 - I_var: 0.3653 - val_loss: 38.1222 - val_I_var: 0.3575\n",
      "Epoch 93/1000\n",
      "365/365 [==============================] - 1s 3ms/step - loss: 37.9189 - I_var: 0.3657 - val_loss: 37.5723 - val_I_var: 0.3730\n",
      "Epoch 94/1000\n",
      "365/365 [==============================] - 1s 3ms/step - loss: 37.9854 - I_var: 0.3624 - val_loss: 37.6367 - val_I_var: 0.3705\n",
      "Epoch 95/1000\n",
      "365/365 [==============================] - 1s 3ms/step - loss: 37.9319 - I_var: 0.3649 - val_loss: 37.6013 - val_I_var: 0.3721\n",
      "Epoch 96/1000\n",
      "365/365 [==============================] - 1s 3ms/step - loss: 37.9230 - I_var: 0.3636 - val_loss: 37.7610 - val_I_var: 0.3676\n",
      "Epoch 97/1000\n",
      "365/365 [==============================] - 1s 3ms/step - loss: 37.8955 - I_var: 0.3645 - val_loss: 37.4615 - val_I_var: 0.3761\n",
      "Epoch 98/1000\n",
      "365/365 [==============================] - 1s 3ms/step - loss: 37.8712 - I_var: 0.3647 - val_loss: 37.7604 - val_I_var: 0.3674\n",
      "Epoch 99/1000\n",
      "365/365 [==============================] - 1s 3ms/step - loss: 37.8048 - I_var: 0.3680 - val_loss: 38.0444 - val_I_var: 0.3591\n",
      "Epoch 100/1000\n",
      "365/365 [==============================] - 1s 3ms/step - loss: 37.9526 - I_var: 0.3629 - val_loss: 38.0868 - val_I_var: 0.3580\n",
      "Epoch 101/1000\n",
      "365/365 [==============================] - 1s 3ms/step - loss: 37.8914 - I_var: 0.3661 - val_loss: 37.4056 - val_I_var: 0.3772\n",
      "Epoch 102/1000\n",
      "365/365 [==============================] - 1s 3ms/step - loss: 37.7888 - I_var: 0.3680 - val_loss: 37.6951 - val_I_var: 0.3694\n",
      "Epoch 103/1000\n",
      "365/365 [==============================] - 1s 3ms/step - loss: 38.0329 - I_var: 0.3616 - val_loss: 37.5366 - val_I_var: 0.3736\n",
      "Epoch 104/1000\n",
      "365/365 [==============================] - 1s 3ms/step - loss: 37.9077 - I_var: 0.3659 - val_loss: 37.2921 - val_I_var: 0.3807\n",
      "Epoch 105/1000\n",
      "365/365 [==============================] - 1s 3ms/step - loss: 37.8463 - I_var: 0.3662 - val_loss: 37.7358 - val_I_var: 0.3683\n",
      "Epoch 106/1000\n",
      "365/365 [==============================] - 1s 3ms/step - loss: 37.8631 - I_var: 0.3667 - val_loss: 37.3957 - val_I_var: 0.3776\n",
      "Epoch 107/1000\n"
     ]
    },
    {
     "name": "stdout",
     "output_type": "stream",
     "text": [
      "365/365 [==============================] - 1s 3ms/step - loss: 37.8475 - I_var: 0.3669 - val_loss: 37.6850 - val_I_var: 0.3695\n",
      "Epoch 108/1000\n",
      "365/365 [==============================] - 1s 2ms/step - loss: 37.8336 - I_var: 0.3667 - val_loss: 37.4870 - val_I_var: 0.3750\n",
      "Epoch 109/1000\n",
      "365/365 [==============================] - 1s 2ms/step - loss: 37.8573 - I_var: 0.3664 - val_loss: 37.3074 - val_I_var: 0.3800\n",
      "Epoch 110/1000\n",
      "365/365 [==============================] - 1s 2ms/step - loss: 37.8399 - I_var: 0.3674 - val_loss: 37.6106 - val_I_var: 0.3716\n",
      "Epoch 111/1000\n",
      "365/365 [==============================] - 1s 3ms/step - loss: 37.8608 - I_var: 0.3656 - val_loss: 37.3260 - val_I_var: 0.3797\n",
      "Epoch 112/1000\n",
      "365/365 [==============================] - 1s 3ms/step - loss: 37.7788 - I_var: 0.3684 - val_loss: 37.8703 - val_I_var: 0.3644\n",
      "Epoch 113/1000\n",
      "365/365 [==============================] - 1s 3ms/step - loss: 37.8875 - I_var: 0.3656 - val_loss: 37.6630 - val_I_var: 0.3698\n",
      "Epoch 114/1000\n",
      "365/365 [==============================] - 1s 2ms/step - loss: 37.8686 - I_var: 0.3669 - val_loss: 37.3436 - val_I_var: 0.3788\n",
      "Epoch 115/1000\n",
      "365/365 [==============================] - 1s 2ms/step - loss: 37.7996 - I_var: 0.3672 - val_loss: 37.4300 - val_I_var: 0.3765\n",
      "Epoch 116/1000\n",
      "365/365 [==============================] - 1s 3ms/step - loss: 37.8362 - I_var: 0.3668 - val_loss: 37.5623 - val_I_var: 0.3725\n",
      "Epoch 117/1000\n",
      "365/365 [==============================] - 1s 3ms/step - loss: 37.7970 - I_var: 0.3662 - val_loss: 37.4535 - val_I_var: 0.3754\n",
      "Epoch 118/1000\n",
      "365/365 [==============================] - 1s 3ms/step - loss: 37.7857 - I_var: 0.3691 - val_loss: 37.4969 - val_I_var: 0.3746\n",
      "Epoch 119/1000\n",
      "365/365 [==============================] - 1s 2ms/step - loss: 37.7579 - I_var: 0.3689 - val_loss: 37.8055 - val_I_var: 0.3658\n",
      "Training time: 125.7 seconds\n"
     ]
    },
    {
     "data": {
      "text/plain": [
       "<tensorflow.python.keras.callbacks.History at 0x13fad13d0>"
      ]
     },
     "execution_count": 5,
     "metadata": {},
     "output_type": "execute_result"
    }
   ],
   "source": [
    "# Fit model to data\n",
    "model.fit(learning_rate=.001,\n",
    "          epochs=1000,\n",
    "          batch_size=50,\n",
    "          early_stopping=True,\n",
    "          early_stopping_patience=30,\n",
    "          linear_initialization=True)"
   ]
  },
  {
   "cell_type": "code",
   "execution_count": 6,
   "metadata": {},
   "outputs": [
    {
     "name": "stdout",
     "output_type": "stream",
     "text": [
      "Model saved to these files:\n",
      "\tmpsa_ge_pairwise.pickle\n",
      "\tmpsa_ge_pairwise.h5\n"
     ]
    }
   ],
   "source": [
    "# Save model\n",
    "model.save('mpsa_ge_pairwise')"
   ]
  },
  {
   "cell_type": "code",
   "execution_count": 7,
   "metadata": {
    "scrolled": true
   },
   "outputs": [
    {
     "name": "stdout",
     "output_type": "stream",
     "text": [
      "Model loaded from these files:\n",
      "\tmpsa_ge_pairwise.pickle\n",
      "\tmpsa_ge_pairwise.h5\n"
     ]
    }
   ],
   "source": [
    "# Load model\n",
    "model = mavenn.load('mpsa_ge_pairwise')"
   ]
  },
  {
   "cell_type": "code",
   "execution_count": 8,
   "metadata": {},
   "outputs": [],
   "source": [
    "# Get x and y\n",
    "x_test = test_df['x'].values\n",
    "y_test = test_df['y'].values"
   ]
  },
  {
   "cell_type": "code",
   "execution_count": 9,
   "metadata": {},
   "outputs": [
    {
     "name": "stdout",
     "output_type": "stream",
     "text": [
      "On test data:\n",
      "I_var_test: 0.340 +- 0.024 bits\n",
      "I_pred_test: 0.372 +- 0.015 bits\n"
     ]
    },
    {
     "data": {
      "image/png": "[encoded data removed]",
      "text/plain": [
       "<Figure size 288x288 with 1 Axes>"
      ]
     },
     "metadata": {
      "needs_background": "light"
     },
     "output_type": "display_data"
    }
   ],
   "source": [
    "# Show training history\n",
    "print('On test data:')\n",
    "\n",
    "# Compute likelihood information\n",
    "I_var, dI_var =  model.I_varlihood(x=x_test, y=y_test)\n",
    "print(f'I_var_test: {I_var:.3f} +- {dI_var:.3f} bits') \n",
    "\n",
    "# Compute predictive information\n",
    "I_pred, dI_pred = model.I_predictive(x=x_test, y=y_test)\n",
    "print(f'I_pred_test: {I_pred:.3f} +- {dI_pred:.3f} bits')\n",
    "\n",
    "I_var_hist = model.history['I_var']\n",
    "val_I_var_hist = model.history['val_I_var']\n",
    "\n",
    "fig, ax = plt.subplots(1,1,figsize=[4,4])\n",
    "ax.plot(I_var_hist, label='I_var_train')\n",
    "ax.plot(val_I_var_hist, label='I_var_val')\n",
    "ax.axhline(I_var, color='C2', linestyle=':', label='I_var_test')\n",
    "ax.axhline(I_pred, color='C3', linestyle=':', label='I_pred_test')\n",
    "ax.legend()\n",
    "ax.set_xlabel('epochs')\n",
    "ax.set_ylabel('bits')\n",
    "ax.set_title('training hisotry')\n",
    "ax.set_ylim([0, I_pred*1.2]);"
   ]
  },
  {
   "cell_type": "code",
   "execution_count": 10,
   "metadata": {},
   "outputs": [
    {
     "data": {
      "image/png": "[encoded data removed]",
      "text/plain": [
       "<Figure size 288x288 with 1 Axes>"
      ]
     },
     "metadata": {
      "needs_background": "light"
     },
     "output_type": "display_data"
    }
   ],
   "source": [
    "# Predict latent phentoype values (phi) on test data\n",
    "phi_test = model.x_to_phi(x_test)\n",
    "\n",
    "# Predict measurement values (yhat) on test data\n",
    "yhat_test = model.x_to_yhat(x_test)\n",
    "\n",
    "# Set phi lims and create grid in phi space\n",
    "phi_lim = [min(phi_test)-.5, max(phi_test)+.5]\n",
    "phi_grid = np.linspace(phi_lim[0], phi_lim[1], 1000)\n",
    "\n",
    "# Compute yhat each phi gridpoint\n",
    "yhat_grid = model.phi_to_yhat(phi_grid)\n",
    "\n",
    "# Compute 90% CI for each yhat\n",
    "q = [0.05, 0.95] #[0.16, 0.84]\n",
    "yqs_grid = model.yhat_to_yq(yhat_grid, q=q)\n",
    "\n",
    "# Create figure\n",
    "fig, ax = plt.subplots(1, 1, figsize=[4, 4])\n",
    "\n",
    "# Illustrate measurement process with GE curve\n",
    "ax.scatter(phi_test, y_test, color='C0', s=5, alpha=.2, label='test data')\n",
    "ax.plot(phi_grid, yhat_grid, linewidth=2, color='C1',\n",
    "        label='$\\hat{y} = g(\\phi)$')\n",
    "ax.plot(phi_grid, yqs_grid[:, 0], linestyle='--', color='C1', label='68% CI')\n",
    "ax.plot(phi_grid, yqs_grid[:, 1], linestyle='--', color='C1')\n",
    "ax.set_xlim(phi_lim)\n",
    "ax.set_xlabel('latent phenotype ($\\phi$)')\n",
    "ax.set_ylabel('measurement ($y$)')\n",
    "ax.set_title('measurement process')\n",
    "ax.legend()\n",
    "\n",
    "# Fix up plot\n",
    "fig.tight_layout()\n",
    "plt.show()"
   ]
  },
  {
   "cell_type": "code",
   "execution_count": 11,
   "metadata": {},
   "outputs": [
    {
     "data": {
      "image/png": "[encoded data removed]",
      "text/plain": [
       "<Figure size 576x288 with 2 Axes>"
      ]
     },
     "metadata": {
      "needs_background": "light"
     },
     "output_type": "display_data"
    }
   ],
   "source": [
    "# Plot pairwise parameters\n",
    "theta = model.get_theta()\n",
    "fig, ax = plt.subplots(1, 1, figsize=[8, 4])\n",
    "mavenn.heatmap_pairwise(values=theta['theta_lclc'],\n",
    "                        alphabet=theta['alphabet'],\n",
    "                        ax=ax);"
   ]
  },
  {
   "cell_type": "code",
   "execution_count": 12,
   "metadata": {},
   "outputs": [
    {
     "data": {
      "text/html": [
       "<div>\n",
       "<style scoped>\n",
       "    .dataframe tbody tr th:only-of-type {\n",
       "        vertical-align: middle;\n",
       "    }\n",
       "\n",
       "    .dataframe tbody tr th {\n",
       "        vertical-align: top;\n",
       "    }\n",
       "\n",
       "    .dataframe thead th {\n",
       "        text-align: right;\n",
       "    }\n",
       "</style>\n",
       "<table border=\"1\" class=\"dataframe\">\n",
       "  <thead>\n",
       "    <tr style=\"text-align: right;\">\n",
       "      <th></th>\n",
       "      <th>training_set</th>\n",
       "      <th>yhat</th>\n",
       "      <th>phi</th>\n",
       "      <th>y</th>\n",
       "      <th>x</th>\n",
       "    </tr>\n",
       "  </thead>\n",
       "  <tbody>\n",
       "    <tr>\n",
       "      <th>0</th>\n",
       "      <td>True</td>\n",
       "      <td>-4.396646</td>\n",
       "      <td>-0.351826</td>\n",
       "      <td>-4.181143</td>\n",
       "      <td>UUUGCAACU</td>\n",
       "    </tr>\n",
       "    <tr>\n",
       "      <th>1</th>\n",
       "      <td>True</td>\n",
       "      <td>-4.411826</td>\n",
       "      <td>-0.469283</td>\n",
       "      <td>-4.990731</td>\n",
       "      <td>AUCGCGGGG</td>\n",
       "    </tr>\n",
       "    <tr>\n",
       "      <th>2</th>\n",
       "      <td>True</td>\n",
       "      <td>-4.318553</td>\n",
       "      <td>0.204632</td>\n",
       "      <td>-4.297486</td>\n",
       "      <td>ACAGUCUGU</td>\n",
       "    </tr>\n",
       "    <tr>\n",
       "      <th>3</th>\n",
       "      <td>True</td>\n",
       "      <td>-1.276571</td>\n",
       "      <td>1.741946</td>\n",
       "      <td>-0.566860</td>\n",
       "      <td>AACGUGCGU</td>\n",
       "    </tr>\n",
       "    <tr>\n",
       "      <th>4</th>\n",
       "      <td>False</td>\n",
       "      <td>-4.389267</td>\n",
       "      <td>-0.295235</td>\n",
       "      <td>-4.636885</td>\n",
       "      <td>UCCGCAAAC</td>\n",
       "    </tr>\n",
       "  </tbody>\n",
       "</table>\n",
       "</div>"
      ],
      "text/plain": [
       "   training_set      yhat       phi         y          x\n",
       "0          True -4.396646 -0.351826 -4.181143  UUUGCAACU\n",
       "1          True -4.411826 -0.469283 -4.990731  AUCGCGGGG\n",
       "2          True -4.318553  0.204632 -4.297486  ACAGUCUGU\n",
       "3          True -1.276571  1.741946 -0.566860  AACGUGCGU\n",
       "4         False -4.389267 -0.295235 -4.636885  UCCGCAAAC"
      ]
     },
     "execution_count": 12,
     "metadata": {},
     "output_type": "execute_result"
    }
   ],
   "source": [
    "# Test simulate_data\n",
    "sim_df = model.simulate_dataset(N=1000)\n",
    "sim_df.head()"
   ]
  },
  {
   "cell_type": "code",
   "execution_count": 13,
   "metadata": {},
   "outputs": [
    {
     "data": {
      "text/plain": [
       "[<matplotlib.lines.Line2D at 0x14025ef90>]"
      ]
     },
     "execution_count": 13,
     "metadata": {},
     "output_type": "execute_result"
    },
    {
     "data": {
      "image/png": "[encoded data removed]",
      "text/plain": [
       "<Figure size 1080x360 with 3 Axes>"
      ]
     },
     "metadata": {
      "needs_background": "light"
     },
     "output_type": "display_data"
    }
   ],
   "source": [
    "# Is clip by value causing a problem?\n",
    "yhat_fixed = (yhat_grid - model.y_mean)/model.y_std\n",
    "a, b, s = model.layer_noise_model.compute_params(yhat_fixed)\n",
    "\n",
    "fig, axs = plt.subplots(1,3,figsize=[15,5])\n",
    "\n",
    "axs[0].semilogy(yhat_fixed, a)\n",
    "axs[1].semilogy(yhat_fixed, b)\n",
    "axs[2].semilogy(yhat_fixed, s)"
   ]
  },
  {
   "cell_type": "code",
   "execution_count": null,
   "metadata": {},
   "outputs": [],
   "source": []
  }
 ],
 "metadata": {
  "kernelspec": {
   "display_name": "Python 3",
   "language": "python",
   "name": "python3"
  },
  "language_info": {
   "codemirror_mode": {
    "name": "ipython",
    "version": 3
   },
   "file_extension": ".py",
   "mimetype": "text/x-python",
   "name": "python",
   "nbconvert_exporter": "python",
   "pygments_lexer": "ipython3",
   "version": "3.7.4"
  }
 },
 "nbformat": 4,
 "nbformat_minor": 2
}
