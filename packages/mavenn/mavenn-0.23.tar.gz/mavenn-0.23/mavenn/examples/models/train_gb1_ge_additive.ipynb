{
 "cells": [
  {
   "cell_type": "code",
   "execution_count": 1,
   "metadata": {},
   "outputs": [
    {
     "name": "stdout",
     "output_type": "stream",
     "text": [
      "['/Users/jkinney/github/mavenn/mavenn']\n"
     ]
    }
   ],
   "source": [
    "# Standard imports\n",
    "import pandas as pd\n",
    "import matplotlib.pyplot as plt\n",
    "import numpy as np\n",
    "\n",
    "# Insert path to mavenn beginning of path\n",
    "import os\n",
    "import sys\n",
    "abs_path_to_mavenn = os.path.abspath('../../../')\n",
    "sys.path.insert(0, abs_path_to_mavenn)\n",
    "\n",
    "# Load mavenn\n",
    "import mavenn\n",
    "print(mavenn.__path__)"
   ]
  },
  {
   "cell_type": "code",
   "execution_count": 2,
   "metadata": {},
   "outputs": [
    {
     "name": "stdout",
     "output_type": "stream",
     "text": [
      "test N: 106,336\n",
      "training + validation N: 424,401\n"
     ]
    },
    {
     "data": {
      "text/html": [
       "<div>\n",
       "<style scoped>\n",
       "    .dataframe tbody tr th:only-of-type {\n",
       "        vertical-align: middle;\n",
       "    }\n",
       "\n",
       "    .dataframe tbody tr th {\n",
       "        vertical-align: top;\n",
       "    }\n",
       "\n",
       "    .dataframe thead th {\n",
       "        text-align: right;\n",
       "    }\n",
       "</style>\n",
       "<table border=\"1\" class=\"dataframe\">\n",
       "  <thead>\n",
       "    <tr style=\"text-align: right;\">\n",
       "      <th></th>\n",
       "      <th>set</th>\n",
       "      <th>input_ct</th>\n",
       "      <th>selected_ct</th>\n",
       "      <th>y</th>\n",
       "      <th>x</th>\n",
       "    </tr>\n",
       "  </thead>\n",
       "  <tbody>\n",
       "    <tr>\n",
       "      <th>0</th>\n",
       "      <td>training</td>\n",
       "      <td>73.0</td>\n",
       "      <td>62.0</td>\n",
       "      <td>-1.021847</td>\n",
       "      <td>QYKLILNGKTLKGETTTEAHDAATAEKVFKQYANDNGVDGEWTYDD...</td>\n",
       "    </tr>\n",
       "    <tr>\n",
       "      <th>1</th>\n",
       "      <td>training</td>\n",
       "      <td>122.0</td>\n",
       "      <td>0.0</td>\n",
       "      <td>-7.732188</td>\n",
       "      <td>QYKLILNGKTLKGETTTEAVDAATAEKVFPQYANDNGVDGEWTYDD...</td>\n",
       "    </tr>\n",
       "    <tr>\n",
       "      <th>2</th>\n",
       "      <td>training</td>\n",
       "      <td>794.0</td>\n",
       "      <td>598.0</td>\n",
       "      <td>-1.198072</td>\n",
       "      <td>QYKLILNGKTLKGETTTEAVDAATAEKVFKQYANKNGVDGEWTLDD...</td>\n",
       "    </tr>\n",
       "    <tr>\n",
       "      <th>3</th>\n",
       "      <td>training</td>\n",
       "      <td>1115.0</td>\n",
       "      <td>595.0</td>\n",
       "      <td>-1.694626</td>\n",
       "      <td>QYKLILNIKTLKGETTTEAVDAATAEKVFKQYANDNGVDGEWTYDS...</td>\n",
       "    </tr>\n",
       "    <tr>\n",
       "      <th>4</th>\n",
       "      <td>validation</td>\n",
       "      <td>97.0</td>\n",
       "      <td>2.0</td>\n",
       "      <td>-5.819421</td>\n",
       "      <td>QYKLINNGKTLKGETTTEAVDAATAEKVFKIYANDNGVDGEWTYDD...</td>\n",
       "    </tr>\n",
       "    <tr>\n",
       "      <th>5</th>\n",
       "      <td>training</td>\n",
       "      <td>40.0</td>\n",
       "      <td>169.0</td>\n",
       "      <td>1.262166</td>\n",
       "      <td>QYKLILNGKTLWGETTTEAVDAATAEKVFKQYANDNGVDGEWTYDD...</td>\n",
       "    </tr>\n",
       "    <tr>\n",
       "      <th>6</th>\n",
       "      <td>training</td>\n",
       "      <td>244.0</td>\n",
       "      <td>819.0</td>\n",
       "      <td>0.953169</td>\n",
       "      <td>QYKLILNGKTLKGETTTEAVDAATAEKVFKQYANDNGVDGEWTYVV...</td>\n",
       "    </tr>\n",
       "    <tr>\n",
       "      <th>7</th>\n",
       "      <td>training</td>\n",
       "      <td>381.0</td>\n",
       "      <td>232.0</td>\n",
       "      <td>-1.502916</td>\n",
       "      <td>QYKLILNGKTLKGAFTTEAVDAATAEKVFKQYANDNGVDGEWTYDD...</td>\n",
       "    </tr>\n",
       "    <tr>\n",
       "      <th>8</th>\n",
       "      <td>training</td>\n",
       "      <td>366.0</td>\n",
       "      <td>5.0</td>\n",
       "      <td>-6.724347</td>\n",
       "      <td>QYKLILNGKTLKGETTTEAVDAVTHEKVFKQYANDNGVDGEWTYDD...</td>\n",
       "    </tr>\n",
       "    <tr>\n",
       "      <th>9</th>\n",
       "      <td>training</td>\n",
       "      <td>119.0</td>\n",
       "      <td>145.0</td>\n",
       "      <td>-0.506739</td>\n",
       "      <td>QYKLILNGKTLKGETTTEAVDAATAEKVFKQYANENGVDGEWTYDD...</td>\n",
       "    </tr>\n",
       "  </tbody>\n",
       "</table>\n",
       "</div>"
      ],
      "text/plain": [
       "          set  input_ct  selected_ct         y  \\\n",
       "0    training      73.0         62.0 -1.021847   \n",
       "1    training     122.0          0.0 -7.732188   \n",
       "2    training     794.0        598.0 -1.198072   \n",
       "3    training    1115.0        595.0 -1.694626   \n",
       "4  validation      97.0          2.0 -5.819421   \n",
       "5    training      40.0        169.0  1.262166   \n",
       "6    training     244.0        819.0  0.953169   \n",
       "7    training     381.0        232.0 -1.502916   \n",
       "8    training     366.0          5.0 -6.724347   \n",
       "9    training     119.0        145.0 -0.506739   \n",
       "\n",
       "                                                   x  \n",
       "0  QYKLILNGKTLKGETTTEAHDAATAEKVFKQYANDNGVDGEWTYDD...  \n",
       "1  QYKLILNGKTLKGETTTEAVDAATAEKVFPQYANDNGVDGEWTYDD...  \n",
       "2  QYKLILNGKTLKGETTTEAVDAATAEKVFKQYANKNGVDGEWTLDD...  \n",
       "3  QYKLILNIKTLKGETTTEAVDAATAEKVFKQYANDNGVDGEWTYDS...  \n",
       "4  QYKLINNGKTLKGETTTEAVDAATAEKVFKIYANDNGVDGEWTYDD...  \n",
       "5  QYKLILNGKTLWGETTTEAVDAATAEKVFKQYANDNGVDGEWTYDD...  \n",
       "6  QYKLILNGKTLKGETTTEAVDAATAEKVFKQYANDNGVDGEWTYVV...  \n",
       "7  QYKLILNGKTLKGAFTTEAVDAATAEKVFKQYANDNGVDGEWTYDD...  \n",
       "8  QYKLILNGKTLKGETTTEAVDAVTHEKVFKQYANDNGVDGEWTYDD...  \n",
       "9  QYKLILNGKTLKGETTTEAVDAATAEKVFKQYANENGVDGEWTYDD...  "
      ]
     },
     "execution_count": 2,
     "metadata": {},
     "output_type": "execute_result"
    }
   ],
   "source": [
    "# Load example data\n",
    "data_df = mavenn.load_example_dataset('gb1')\n",
    "\n",
    "# Separate test from data_df\n",
    "ix_test = data_df['set']=='test'\n",
    "test_df = data_df[ix_test].reset_index(drop=True)\n",
    "print(f'test N: {len(test_df):,}')\n",
    "\n",
    "# Remove test data from data_df\n",
    "data_df = data_df[~ix_test].reset_index(drop=True)\n",
    "print(f'training + validation N: {len(data_df):,}')\n",
    "data_df.head(10)"
   ]
  },
  {
   "cell_type": "code",
   "execution_count": 3,
   "metadata": {},
   "outputs": [],
   "source": [
    "# Get sequence length\n",
    "L = len(data_df['x'][0])\n",
    "\n",
    "# Define model\n",
    "model = mavenn.Model(regression_type='GE',\n",
    "                     L=L,\n",
    "                     alphabet='protein',\n",
    "                     gpmap_type='additive',                     \n",
    "                     ge_noise_model_type='SkewedT',\n",
    "                     ge_heteroskedasticity_order=2)"
   ]
  },
  {
   "cell_type": "code",
   "execution_count": 4,
   "metadata": {},
   "outputs": [
    {
     "name": "stdout",
     "output_type": "stream",
     "text": [
      "N = 424,401 observations set as training data.\n",
      "Using 24.9% for validation.\n",
      "Data shuffled.\n",
      "Time to set data: 18.4 sec.\n"
     ]
    }
   ],
   "source": [
    "# Set training data\n",
    "model.set_data(x=data_df['x'],\n",
    "               y=data_df['y'],\n",
    "               validation_flags=(data_df['set']=='validation'),\n",
    "               shuffle=True)"
   ]
  },
  {
   "cell_type": "code",
   "execution_count": 5,
   "metadata": {},
   "outputs": [
    {
     "name": "stdout",
     "output_type": "stream",
     "text": [
      "Epoch 1/1000\n",
      "319/319 [==============================] - 5s 15ms/step - loss: 1440.5637 - I_var: -0.2993 - val_loss: 1105.6620 - val_I_var: 0.1828\n",
      "Epoch 2/1000\n",
      "319/319 [==============================] - 3s 11ms/step - loss: 725.7424 - I_var: 0.7363 - val_loss: 408.0665 - val_I_var: 1.1951\n",
      "Epoch 3/1000\n",
      "319/319 [==============================] - 3s 11ms/step - loss: 229.2236 - I_var: 1.4560 - val_loss: 106.9451 - val_I_var: 1.6331\n",
      "Epoch 4/1000\n",
      "319/319 [==============================] - 3s 10ms/step - loss: 40.9101 - I_var: 1.7297 - val_loss: -3.8693 - val_I_var: 1.7951\n",
      "Epoch 5/1000\n",
      "319/319 [==============================] - 3s 9ms/step - loss: -41.0668 - I_var: 1.8496 - val_loss: -64.3635 - val_I_var: 1.8841\n",
      "Epoch 6/1000\n",
      "319/319 [==============================] - 3s 10ms/step - loss: -89.7398 - I_var: 1.9212 - val_loss: -108.5011 - val_I_var: 1.9492\n",
      "Epoch 7/1000\n",
      "319/319 [==============================] - 3s 10ms/step - loss: -124.1789 - I_var: 1.9721 - val_loss: -133.9080 - val_I_var: 1.9870\n",
      "Epoch 8/1000\n",
      "319/319 [==============================] - 3s 10ms/step - loss: -152.7369 - I_var: 2.0145 - val_loss: -164.9998 - val_I_var: 2.0329\n",
      "Epoch 9/1000\n",
      "319/319 [==============================] - 3s 11ms/step - loss: -177.1456 - I_var: 2.0505 - val_loss: -185.8703 - val_I_var: 2.0641\n",
      "Epoch 10/1000\n",
      "319/319 [==============================] - 3s 11ms/step - loss: -196.7848 - I_var: 2.0799 - val_loss: -202.5283 - val_I_var: 2.0891\n",
      "Epoch 11/1000\n",
      "319/319 [==============================] - 3s 11ms/step - loss: -213.8775 - I_var: 2.1055 - val_loss: -218.5330 - val_I_var: 2.1132\n",
      "Epoch 12/1000\n",
      "319/319 [==============================] - 3s 10ms/step - loss: -227.9838 - I_var: 2.1267 - val_loss: -230.2957 - val_I_var: 2.1310\n",
      "Epoch 13/1000\n",
      "319/319 [==============================] - 3s 11ms/step - loss: -238.6727 - I_var: 2.1430 - val_loss: -238.1429 - val_I_var: 2.1432\n",
      "Epoch 14/1000\n",
      "319/319 [==============================] - 3s 10ms/step - loss: -246.7906 - I_var: 2.1555 - val_loss: -246.7679 - val_I_var: 2.1564\n",
      "Epoch 15/1000\n",
      "319/319 [==============================] - 3s 10ms/step - loss: -252.1342 - I_var: 2.1641 - val_loss: -249.0690 - val_I_var: 2.1604\n",
      "Epoch 16/1000\n",
      "319/319 [==============================] - 3s 10ms/step - loss: -255.5705 - I_var: 2.1696 - val_loss: -252.6946 - val_I_var: 2.1663\n",
      "Epoch 17/1000\n",
      "319/319 [==============================] - 3s 10ms/step - loss: -257.4622 - I_var: 2.1730 - val_loss: -256.0774 - val_I_var: 2.1719\n",
      "Epoch 18/1000\n",
      "319/319 [==============================] - 3s 10ms/step - loss: -259.6888 - I_var: 2.1769 - val_loss: -251.8862 - val_I_var: 2.1664\n",
      "Epoch 19/1000\n",
      "319/319 [==============================] - 3s 10ms/step - loss: -261.7006 - I_var: 2.1804 - val_loss: -256.8518 - val_I_var: 2.1741\n",
      "Epoch 20/1000\n",
      "319/319 [==============================] - 3s 10ms/step - loss: -261.7997 - I_var: 2.1809 - val_loss: -258.1026 - val_I_var: 2.1763\n",
      "Epoch 21/1000\n",
      "319/319 [==============================] - 3s 10ms/step - loss: -261.8991 - I_var: 2.1815 - val_loss: -252.5313 - val_I_var: 2.1686\n",
      "Epoch 22/1000\n",
      "319/319 [==============================] - 4s 12ms/step - loss: -262.7629 - I_var: 2.1831 - val_loss: -259.7039 - val_I_var: 2.1794\n",
      "Epoch 23/1000\n",
      "319/319 [==============================] - 3s 10ms/step - loss: -261.9772 - I_var: 2.1823 - val_loss: -251.6349 - val_I_var: 2.1679\n",
      "Epoch 24/1000\n",
      "319/319 [==============================] - 3s 10ms/step - loss: -263.8954 - I_var: 2.1854 - val_loss: -260.1031 - val_I_var: 2.1804\n",
      "Epoch 25/1000\n",
      "319/319 [==============================] - 3s 10ms/step - loss: -264.3850 - I_var: 2.1863 - val_loss: -260.6563 - val_I_var: 2.1814\n",
      "Epoch 26/1000\n",
      "319/319 [==============================] - 3s 10ms/step - loss: -262.6733 - I_var: 2.1839 - val_loss: -260.3954 - val_I_var: 2.1812\n",
      "Epoch 27/1000\n",
      "319/319 [==============================] - 3s 10ms/step - loss: -262.8640 - I_var: 2.1843 - val_loss: -261.2667 - val_I_var: 2.1826\n",
      "Epoch 28/1000\n",
      "319/319 [==============================] - 3s 11ms/step - loss: -263.1753 - I_var: 2.1849 - val_loss: -260.8181 - val_I_var: 2.1821\n",
      "Epoch 29/1000\n",
      "319/319 [==============================] - 3s 10ms/step - loss: -264.1972 - I_var: 2.1864 - val_loss: -253.7869 - val_I_var: 2.1719\n",
      "Epoch 30/1000\n",
      "319/319 [==============================] - 4s 11ms/step - loss: -264.3917 - I_var: 2.1865 - val_loss: -260.2088 - val_I_var: 2.1813\n",
      "Epoch 31/1000\n",
      "319/319 [==============================] - 3s 10ms/step - loss: -264.6194 - I_var: 2.1872 - val_loss: -261.1610 - val_I_var: 2.1827\n",
      "Epoch 32/1000\n",
      "319/319 [==============================] - 3s 11ms/step - loss: -263.9269 - I_var: 2.1862 - val_loss: -261.4932 - val_I_var: 2.1832\n",
      "Epoch 33/1000\n",
      "319/319 [==============================] - 4s 11ms/step - loss: -263.8673 - I_var: 2.1862 - val_loss: -260.5562 - val_I_var: 2.1818\n",
      "Epoch 34/1000\n",
      "319/319 [==============================] - 4s 11ms/step - loss: -263.9514 - I_var: 2.1863 - val_loss: -262.0103 - val_I_var: 2.1839\n",
      "Epoch 35/1000\n",
      "319/319 [==============================] - 4s 12ms/step - loss: -264.8741 - I_var: 2.1874 - val_loss: -261.0319 - val_I_var: 2.1824\n",
      "Epoch 36/1000\n",
      "319/319 [==============================] - 3s 10ms/step - loss: -264.2397 - I_var: 2.1866 - val_loss: -261.9943 - val_I_var: 2.1837\n",
      "Epoch 37/1000\n",
      "319/319 [==============================] - 3s 11ms/step - loss: -264.0303 - I_var: 2.1861 - val_loss: -258.4617 - val_I_var: 2.1786\n",
      "Epoch 38/1000\n",
      "319/319 [==============================] - 3s 11ms/step - loss: -264.2422 - I_var: 2.1863 - val_loss: -261.7294 - val_I_var: 2.1832\n",
      "Epoch 39/1000\n",
      "319/319 [==============================] - 3s 10ms/step - loss: -262.9759 - I_var: 2.1845 - val_loss: -258.2290 - val_I_var: 2.1782\n",
      "Training time: 150.2 seconds\n"
     ]
    }
   ],
   "source": [
    "# Fit model to data\n",
    "history = model.fit(learning_rate=.0005,\n",
    "                    epochs=1000,\n",
    "                    batch_size=1000,\n",
    "                    early_stopping=True,\n",
    "                    early_stopping_patience=5,\n",
    "                    linear_initialization=False)"
   ]
  },
  {
   "cell_type": "code",
   "execution_count": 6,
   "metadata": {},
   "outputs": [
    {
     "name": "stdout",
     "output_type": "stream",
     "text": [
      "Model saved to these files:\n",
      "\tgb1_ge_additive.pickle\n",
      "\tgb1_ge_additive.h5\n"
     ]
    }
   ],
   "source": [
    "# Save model\n",
    "model.save('gb1_ge_additive')"
   ]
  },
  {
   "cell_type": "code",
   "execution_count": 7,
   "metadata": {},
   "outputs": [
    {
     "name": "stdout",
     "output_type": "stream",
     "text": [
      "Model loaded from these files:\n",
      "\tgb1_ge_additive.pickle\n",
      "\tgb1_ge_additive.h5\n"
     ]
    }
   ],
   "source": [
    "# Load model\n",
    "model = mavenn.load('gb1_ge_additive')"
   ]
  },
  {
   "cell_type": "code",
   "execution_count": 8,
   "metadata": {},
   "outputs": [],
   "source": [
    "# Subsample indices for easy plotting and information estimation\n",
    "N_test = len(test_df)\n",
    "ix = np.random.rand(N_test) < .1\n",
    "\n",
    "# Get x and y\n",
    "x = test_df['x'].values[ix]\n",
    "y = test_df['y'].values[ix]"
   ]
  },
  {
   "cell_type": "code",
   "execution_count": 9,
   "metadata": {},
   "outputs": [
    {
     "name": "stdout",
     "output_type": "stream",
     "text": [
      "On test data:\n",
      "I_var_test: 2.180 +- 0.019 bits\n",
      "I_pred_test: 2.215 +- 0.012 bits\n"
     ]
    },
    {
     "data": {
      "image/png": "[encoded data removed]",
      "text/plain": [
       "<Figure size 288x288 with 1 Axes>"
      ]
     },
     "metadata": {
      "needs_background": "light"
     },
     "output_type": "display_data"
    }
   ],
   "source": [
    "# Show training history\n",
    "print('On test data:')\n",
    "\n",
    "# Compute likelihood information\n",
    "I_var, dI_var =  model.I_varlihood(x=x, y=y)\n",
    "print(f'I_var_test: {I_var:.3f} +- {dI_var:.3f} bits') \n",
    "\n",
    "# Compute predictive information\n",
    "I_pred, dI_pred = model.I_predictive(x=x, y=y)\n",
    "print(f'I_pred_test: {I_pred:.3f} +- {dI_pred:.3f} bits')\n",
    "\n",
    "I_var_hist = model.history['I_var']\n",
    "val_I_var_hist = model.history['val_I_var']\n",
    "\n",
    "fig, ax = plt.subplots(1,1,figsize=[4,4])\n",
    "ax.plot(I_var_hist, label='I_var_train')\n",
    "ax.plot(val_I_var_hist, label='I_var_val')\n",
    "ax.axhline(I_var, color='C2', linestyle=':', label='I_var_test')\n",
    "ax.axhline(I_pred, color='C3', linestyle=':', label='I_pred_test')\n",
    "ax.legend()\n",
    "ax.set_xlabel('epochs')\n",
    "ax.set_ylabel('bits')\n",
    "ax.set_title('training hisotry')\n",
    "ax.set_ylim([0, I_pred*1.2]);"
   ]
  },
  {
   "cell_type": "code",
   "execution_count": 10,
   "metadata": {},
   "outputs": [
    {
     "data": {
      "image/png": "[encoded data removed]",
      "text/plain": [
       "<Figure size 288x288 with 1 Axes>"
      ]
     },
     "metadata": {
      "needs_background": "light"
     },
     "output_type": "display_data"
    }
   ],
   "source": [
    "# Compute phi and yhat values\n",
    "phi = model.x_to_phi(x)\n",
    "yhat = model.phi_to_yhat(phi)\n",
    "\n",
    "# Create grid for plotting yhat and yqs\n",
    "phi_lim = [-5, 2.5]\n",
    "phi_grid = np.linspace(phi_lim[0], phi_lim[1], 1000)\n",
    "yhat_grid = model.phi_to_yhat(phi_grid)\n",
    "yqs_grid = model.yhat_to_yq(yhat_grid, q=[.16,.84])\n",
    "\n",
    "# Create two panels\n",
    "fig, ax = plt.subplots(1, 1, figsize=[4, 4])\n",
    "\n",
    "# Illustrate measurement process with GE curve\n",
    "ax.scatter(phi, y, color='C0', s=5, alpha=.2, label='test data')\n",
    "ax.plot(phi_grid, yhat_grid, linewidth=2, color='C1',\n",
    "        label='$\\hat{y} = g(\\phi)$')\n",
    "ax.plot(phi_grid, yqs_grid[:, 0], linestyle='--', color='C1',\n",
    "        label='68% CI')\n",
    "ax.plot(phi_grid, yqs_grid[:, 1], linestyle='--', color='C1')\n",
    "ax.set_xlim(phi_lim)\n",
    "ax.set_xlabel('latent phenotype ($\\phi$)')\n",
    "ax.set_ylabel('measurement ($y$)')\n",
    "ax.set_title('measurement process')\n",
    "ax.legend()\n",
    "\n",
    "# Fix up plot\n",
    "fig.tight_layout()\n",
    "plt.show()"
   ]
  },
  {
   "cell_type": "code",
   "execution_count": 11,
   "metadata": {},
   "outputs": [
    {
     "data": {
      "image/png": "[encoded data removed]",
      "text/plain": [
       "<Figure size 720x360 with 2 Axes>"
      ]
     },
     "metadata": {
      "needs_background": "light"
     },
     "output_type": "display_data"
    }
   ],
   "source": [
    "# Set wild-type sequence\n",
    "gb1_seq = model.x_stats['consensus_seq']\n",
    "\n",
    "# Get effects of all single-point mutations on phi\n",
    "theta_dict = model.get_theta(gauge='user',\n",
    "                             x_wt=gb1_seq)\n",
    "\n",
    "# Create two panels\n",
    "fig, ax = plt.subplots(1, 1, figsize=[10, 5])\n",
    "\n",
    "# Left panel: draw heatmap illustrating 1pt mutation effects\n",
    "ax, cb = mavenn.heatmap(theta_dict['theta_lc'],\n",
    "                        alphabet=theta_dict['alphabet'],\n",
    "                        seq=gb1_seq,\n",
    "                        cmap='PiYG',\n",
    "                        ccenter=0,\n",
    "                        ax=ax)\n",
    "ax.set_xlabel('position ($l$)')\n",
    "ax.set_ylabel('amino acid ($c$)')\n",
    "cb.set_label('effect ($\\Delta\\phi$)', rotation=-90, va=\"bottom\")\n",
    "ax.set_title('mutation effects')\n",
    "\n",
    "# Fix up plot\n",
    "fig.tight_layout()\n",
    "plt.show()\n"
   ]
  },
  {
   "cell_type": "code",
   "execution_count": 12,
   "metadata": {},
   "outputs": [
    {
     "data": {
      "text/html": [
       "<div>\n",
       "<style scoped>\n",
       "    .dataframe tbody tr th:only-of-type {\n",
       "        vertical-align: middle;\n",
       "    }\n",
       "\n",
       "    .dataframe tbody tr th {\n",
       "        vertical-align: top;\n",
       "    }\n",
       "\n",
       "    .dataframe thead th {\n",
       "        text-align: right;\n",
       "    }\n",
       "</style>\n",
       "<table border=\"1\" class=\"dataframe\">\n",
       "  <thead>\n",
       "    <tr style=\"text-align: right;\">\n",
       "      <th></th>\n",
       "      <th>training_set</th>\n",
       "      <th>yhat</th>\n",
       "      <th>phi</th>\n",
       "      <th>y</th>\n",
       "      <th>x</th>\n",
       "    </tr>\n",
       "  </thead>\n",
       "  <tbody>\n",
       "    <tr>\n",
       "      <th>0</th>\n",
       "      <td>True</td>\n",
       "      <td>-2.386920</td>\n",
       "      <td>0.392259</td>\n",
       "      <td>-2.565409</td>\n",
       "      <td>QYKLILNGKTLKGEQTTEAVDAATAEKVFKQYANDNGVDGEWTYDD...</td>\n",
       "    </tr>\n",
       "    <tr>\n",
       "      <th>1</th>\n",
       "      <td>True</td>\n",
       "      <td>-7.906562</td>\n",
       "      <td>-1.915547</td>\n",
       "      <td>-7.057069</td>\n",
       "      <td>QYKLILNGKTLKGETTTEAVDAATAEKVFKQYADANGDDGEWTYDD...</td>\n",
       "    </tr>\n",
       "    <tr>\n",
       "      <th>2</th>\n",
       "      <td>True</td>\n",
       "      <td>0.437219</td>\n",
       "      <td>1.035517</td>\n",
       "      <td>0.501375</td>\n",
       "      <td>QYKNILNGKTLKGETTTEAVDAATAEKVFKQYANDNGVDGEWTYDW...</td>\n",
       "    </tr>\n",
       "    <tr>\n",
       "      <th>3</th>\n",
       "      <td>True</td>\n",
       "      <td>-5.783232</td>\n",
       "      <td>-0.370524</td>\n",
       "      <td>-7.188912</td>\n",
       "      <td>QYKLILEGKTLWGETTTEAVDAATAEKVPKQYANDNGVDGEWTYDD...</td>\n",
       "    </tr>\n",
       "    <tr>\n",
       "      <th>4</th>\n",
       "      <td>False</td>\n",
       "      <td>-4.847965</td>\n",
       "      <td>-0.123267</td>\n",
       "      <td>-3.574024</td>\n",
       "      <td>QYKLILNGKTLKGETTTEVVDQATAEKVFKQYANDNGVDGEWTCDD...</td>\n",
       "    </tr>\n",
       "  </tbody>\n",
       "</table>\n",
       "</div>"
      ],
      "text/plain": [
       "   training_set      yhat       phi         y  \\\n",
       "0          True -2.386920  0.392259 -2.565409   \n",
       "1          True -7.906562 -1.915547 -7.057069   \n",
       "2          True  0.437219  1.035517  0.501375   \n",
       "3          True -5.783232 -0.370524 -7.188912   \n",
       "4         False -4.847965 -0.123267 -3.574024   \n",
       "\n",
       "                                                   x  \n",
       "0  QYKLILNGKTLKGEQTTEAVDAATAEKVFKQYANDNGVDGEWTYDD...  \n",
       "1  QYKLILNGKTLKGETTTEAVDAATAEKVFKQYADANGDDGEWTYDD...  \n",
       "2  QYKNILNGKTLKGETTTEAVDAATAEKVFKQYANDNGVDGEWTYDW...  \n",
       "3  QYKLILEGKTLWGETTTEAVDAATAEKVPKQYANDNGVDGEWTYDD...  \n",
       "4  QYKLILNGKTLKGETTTEVVDQATAEKVFKQYANDNGVDGEWTCDD...  "
      ]
     },
     "execution_count": 12,
     "metadata": {},
     "output_type": "execute_result"
    }
   ],
   "source": [
    "# Test simulate_data\n",
    "sim_df = model.simulate_dataset(N=1000)\n",
    "sim_df.head()"
   ]
  },
  {
   "cell_type": "code",
   "execution_count": null,
   "metadata": {},
   "outputs": [],
   "source": []
  }
 ],
 "metadata": {
  "kernelspec": {
   "display_name": "Python 3",
   "language": "python",
   "name": "python3"
  },
  "language_info": {
   "codemirror_mode": {
    "name": "ipython",
    "version": 3
   },
   "file_extension": ".py",
   "mimetype": "text/x-python",
   "name": "python",
   "nbconvert_exporter": "python",
   "pygments_lexer": "ipython3",
   "version": "3.7.4"
  }
 },
 "nbformat": 4,
 "nbformat_minor": 2
}
