{
 "cells": [
  {
   "cell_type": "code",
   "execution_count": 1,
   "metadata": {},
   "outputs": [
    {
     "name": "stdout",
     "output_type": "stream",
     "text": [
      "['/Users/jkinney/github/mavenn/mavenn']\n"
     ]
    }
   ],
   "source": [
    "# Standard imports\n",
    "import pandas as pd\n",
    "import matplotlib.pyplot as plt\n",
    "import numpy as np\n",
    "\n",
    "# Insert path to mavenn beginning of path\n",
    "import os\n",
    "import sys\n",
    "abs_path_to_mavenn = os.path.abspath('../../../')\n",
    "sys.path.insert(0, abs_path_to_mavenn)\n",
    "\n",
    "# Load mavenn\n",
    "import mavenn\n",
    "print(mavenn.__path__)"
   ]
  },
  {
   "cell_type": "code",
   "execution_count": 2,
   "metadata": {},
   "outputs": [
    {
     "name": "stdout",
     "output_type": "stream",
     "text": [
      "test N: 106,336\n",
      "training + validation N: 424,401\n"
     ]
    },
    {
     "data": {
      "text/html": [
       "<div>\n",
       "<style scoped>\n",
       "    .dataframe tbody tr th:only-of-type {\n",
       "        vertical-align: middle;\n",
       "    }\n",
       "\n",
       "    .dataframe tbody tr th {\n",
       "        vertical-align: top;\n",
       "    }\n",
       "\n",
       "    .dataframe thead th {\n",
       "        text-align: right;\n",
       "    }\n",
       "</style>\n",
       "<table border=\"1\" class=\"dataframe\">\n",
       "  <thead>\n",
       "    <tr style=\"text-align: right;\">\n",
       "      <th></th>\n",
       "      <th>set</th>\n",
       "      <th>input_ct</th>\n",
       "      <th>selected_ct</th>\n",
       "      <th>y</th>\n",
       "      <th>x</th>\n",
       "    </tr>\n",
       "  </thead>\n",
       "  <tbody>\n",
       "    <tr>\n",
       "      <th>0</th>\n",
       "      <td>training</td>\n",
       "      <td>73.0</td>\n",
       "      <td>62.0</td>\n",
       "      <td>-1.021847</td>\n",
       "      <td>QYKLILNGKTLKGETTTEAHDAATAEKVFKQYANDNGVDGEWTYDD...</td>\n",
       "    </tr>\n",
       "    <tr>\n",
       "      <th>1</th>\n",
       "      <td>training</td>\n",
       "      <td>122.0</td>\n",
       "      <td>0.0</td>\n",
       "      <td>-7.732188</td>\n",
       "      <td>QYKLILNGKTLKGETTTEAVDAATAEKVFPQYANDNGVDGEWTYDD...</td>\n",
       "    </tr>\n",
       "    <tr>\n",
       "      <th>2</th>\n",
       "      <td>training</td>\n",
       "      <td>794.0</td>\n",
       "      <td>598.0</td>\n",
       "      <td>-1.198072</td>\n",
       "      <td>QYKLILNGKTLKGETTTEAVDAATAEKVFKQYANKNGVDGEWTLDD...</td>\n",
       "    </tr>\n",
       "    <tr>\n",
       "      <th>3</th>\n",
       "      <td>training</td>\n",
       "      <td>1115.0</td>\n",
       "      <td>595.0</td>\n",
       "      <td>-1.694626</td>\n",
       "      <td>QYKLILNIKTLKGETTTEAVDAATAEKVFKQYANDNGVDGEWTYDS...</td>\n",
       "    </tr>\n",
       "    <tr>\n",
       "      <th>4</th>\n",
       "      <td>validation</td>\n",
       "      <td>97.0</td>\n",
       "      <td>2.0</td>\n",
       "      <td>-5.819421</td>\n",
       "      <td>QYKLINNGKTLKGETTTEAVDAATAEKVFKIYANDNGVDGEWTYDD...</td>\n",
       "    </tr>\n",
       "    <tr>\n",
       "      <th>5</th>\n",
       "      <td>training</td>\n",
       "      <td>40.0</td>\n",
       "      <td>169.0</td>\n",
       "      <td>1.262166</td>\n",
       "      <td>QYKLILNGKTLWGETTTEAVDAATAEKVFKQYANDNGVDGEWTYDD...</td>\n",
       "    </tr>\n",
       "    <tr>\n",
       "      <th>6</th>\n",
       "      <td>training</td>\n",
       "      <td>244.0</td>\n",
       "      <td>819.0</td>\n",
       "      <td>0.953169</td>\n",
       "      <td>QYKLILNGKTLKGETTTEAVDAATAEKVFKQYANDNGVDGEWTYVV...</td>\n",
       "    </tr>\n",
       "    <tr>\n",
       "      <th>7</th>\n",
       "      <td>training</td>\n",
       "      <td>381.0</td>\n",
       "      <td>232.0</td>\n",
       "      <td>-1.502916</td>\n",
       "      <td>QYKLILNGKTLKGAFTTEAVDAATAEKVFKQYANDNGVDGEWTYDD...</td>\n",
       "    </tr>\n",
       "    <tr>\n",
       "      <th>8</th>\n",
       "      <td>training</td>\n",
       "      <td>366.0</td>\n",
       "      <td>5.0</td>\n",
       "      <td>-6.724347</td>\n",
       "      <td>QYKLILNGKTLKGETTTEAVDAVTHEKVFKQYANDNGVDGEWTYDD...</td>\n",
       "    </tr>\n",
       "    <tr>\n",
       "      <th>9</th>\n",
       "      <td>training</td>\n",
       "      <td>119.0</td>\n",
       "      <td>145.0</td>\n",
       "      <td>-0.506739</td>\n",
       "      <td>QYKLILNGKTLKGETTTEAVDAATAEKVFKQYANENGVDGEWTYDD...</td>\n",
       "    </tr>\n",
       "  </tbody>\n",
       "</table>\n",
       "</div>"
      ],
      "text/plain": [
       "          set  input_ct  selected_ct         y  \\\n",
       "0    training      73.0         62.0 -1.021847   \n",
       "1    training     122.0          0.0 -7.732188   \n",
       "2    training     794.0        598.0 -1.198072   \n",
       "3    training    1115.0        595.0 -1.694626   \n",
       "4  validation      97.0          2.0 -5.819421   \n",
       "5    training      40.0        169.0  1.262166   \n",
       "6    training     244.0        819.0  0.953169   \n",
       "7    training     381.0        232.0 -1.502916   \n",
       "8    training     366.0          5.0 -6.724347   \n",
       "9    training     119.0        145.0 -0.506739   \n",
       "\n",
       "                                                   x  \n",
       "0  QYKLILNGKTLKGETTTEAHDAATAEKVFKQYANDNGVDGEWTYDD...  \n",
       "1  QYKLILNGKTLKGETTTEAVDAATAEKVFPQYANDNGVDGEWTYDD...  \n",
       "2  QYKLILNGKTLKGETTTEAVDAATAEKVFKQYANKNGVDGEWTLDD...  \n",
       "3  QYKLILNIKTLKGETTTEAVDAATAEKVFKQYANDNGVDGEWTYDS...  \n",
       "4  QYKLINNGKTLKGETTTEAVDAATAEKVFKIYANDNGVDGEWTYDD...  \n",
       "5  QYKLILNGKTLWGETTTEAVDAATAEKVFKQYANDNGVDGEWTYDD...  \n",
       "6  QYKLILNGKTLKGETTTEAVDAATAEKVFKQYANDNGVDGEWTYVV...  \n",
       "7  QYKLILNGKTLKGAFTTEAVDAATAEKVFKQYANDNGVDGEWTYDD...  \n",
       "8  QYKLILNGKTLKGETTTEAVDAVTHEKVFKQYANDNGVDGEWTYDD...  \n",
       "9  QYKLILNGKTLKGETTTEAVDAATAEKVFKQYANENGVDGEWTYDD...  "
      ]
     },
     "execution_count": 2,
     "metadata": {},
     "output_type": "execute_result"
    }
   ],
   "source": [
    "# Load example data\n",
    "data_df = mavenn.load_example_dataset('gb1')\n",
    "\n",
    "# Separate test from data_df\n",
    "ix_test = data_df['set']=='test'\n",
    "test_df = data_df[ix_test].reset_index(drop=True)\n",
    "print(f'test N: {len(test_df):,}')\n",
    "\n",
    "# Remove test data from data_df\n",
    "data_df = data_df[~ix_test].reset_index(drop=True)\n",
    "print(f'training + validation N: {len(data_df):,}')\n",
    "data_df.head(10)"
   ]
  },
  {
   "cell_type": "code",
   "execution_count": 3,
   "metadata": {},
   "outputs": [],
   "source": [
    "# Set filename\n",
    "name = 'gb1_ge_blackbox'\n",
    "\n",
    "# Get sequence length\n",
    "L = len(data_df['x'][0])\n",
    "\n",
    "# Define model\n",
    "model = mavenn.Model(regression_type='GE',\n",
    "                     L=L,\n",
    "                     alphabet='protein',\n",
    "                     gpmap_type='blackbox',\n",
    "                     gpmap_kwargs={\n",
    "                         'hidden_layer_sizes':[100]*5\n",
    "                     },\n",
    "                     ge_noise_model_type='SkewedT',\n",
    "                     ge_heteroskedasticity_order=2)"
   ]
  },
  {
   "cell_type": "code",
   "execution_count": 4,
   "metadata": {},
   "outputs": [
    {
     "name": "stdout",
     "output_type": "stream",
     "text": [
      "N = 424,401 observations set as training data.\n",
      "Using 24.9% for validation.\n",
      "Data shuffled.\n",
      "Time to set data: 12.0 sec.\n"
     ]
    }
   ],
   "source": [
    "# Set training data\n",
    "model.set_data(x=data_df['x'],\n",
    "               y=data_df['y'],\n",
    "               validation_flags=(data_df['set']=='validation'),\n",
    "               shuffle=True)"
   ]
  },
  {
   "cell_type": "code",
   "execution_count": 5,
   "metadata": {},
   "outputs": [
    {
     "name": "stdout",
     "output_type": "stream",
     "text": [
      "Epoch 1/1000\n",
      "319/319 [==============================] - 8s 25ms/step - loss: 1122.1924 - I_var: 0.2117 - val_loss: 925.1682 - val_I_var: 0.4813\n",
      "Epoch 2/1000\n",
      "319/319 [==============================] - 6s 18ms/step - loss: 805.9193 - I_var: 0.6510 - val_loss: 700.2842 - val_I_var: 0.7991\n",
      "Epoch 3/1000\n",
      "319/319 [==============================] - 6s 19ms/step - loss: 595.5997 - I_var: 0.9505 - val_loss: 497.3203 - val_I_var: 1.0905\n",
      "Epoch 4/1000\n",
      "319/319 [==============================] - 6s 19ms/step - loss: 410.6799 - I_var: 1.2164 - val_loss: 321.8610 - val_I_var: 1.3436\n",
      "Epoch 5/1000\n",
      "319/319 [==============================] - 6s 20ms/step - loss: 240.7861 - I_var: 1.4613 - val_loss: 161.1564 - val_I_var: 1.5757\n",
      "Epoch 6/1000\n",
      "319/319 [==============================] - 6s 19ms/step - loss: 91.1097 - I_var: 1.6773 - val_loss: 95.3274 - val_I_var: 1.6712\n",
      "Epoch 7/1000\n",
      "319/319 [==============================] - 6s 19ms/step - loss: -31.5861 - I_var: 1.8549 - val_loss: -92.4990 - val_I_var: 1.9432\n",
      "Epoch 8/1000\n",
      "319/319 [==============================] - 6s 19ms/step - loss: -131.0798 - I_var: 1.9990 - val_loss: -173.1088 - val_I_var: 2.0601\n",
      "Epoch 9/1000\n",
      "319/319 [==============================] - 6s 19ms/step - loss: -201.2848 - I_var: 2.1006 - val_loss: -220.3788 - val_I_var: 2.1288\n",
      "Epoch 10/1000\n",
      "319/319 [==============================] - 7s 22ms/step - loss: -250.2180 - I_var: 2.1719 - val_loss: -262.0139 - val_I_var: 2.1896\n",
      "Epoch 11/1000\n",
      "319/319 [==============================] - 6s 18ms/step - loss: -280.3710 - I_var: 2.2159 - val_loss: -286.1747 - val_I_var: 2.2253\n",
      "Epoch 12/1000\n",
      "319/319 [==============================] - 6s 19ms/step - loss: -319.7594 - I_var: 2.2732 - val_loss: -318.5828 - val_I_var: 2.2726\n",
      "Epoch 13/1000\n",
      "319/319 [==============================] - 6s 19ms/step - loss: -345.1519 - I_var: 2.3106 - val_loss: -312.6451 - val_I_var: 2.2643\n",
      "Epoch 14/1000\n",
      "319/319 [==============================] - 6s 19ms/step - loss: -374.4927 - I_var: 2.3533 - val_loss: -326.3429 - val_I_var: 2.2847\n",
      "Epoch 15/1000\n",
      "319/319 [==============================] - 6s 18ms/step - loss: -398.6694 - I_var: 2.3885 - val_loss: -386.2055 - val_I_var: 2.3719\n",
      "Epoch 16/1000\n",
      "319/319 [==============================] - 6s 18ms/step - loss: -432.0750 - I_var: 2.4372 - val_loss: -386.3127 - val_I_var: 2.3723\n",
      "Epoch 17/1000\n",
      "319/319 [==============================] - 5s 17ms/step - loss: -455.1174 - I_var: 2.4711 - val_loss: -430.2789 - val_I_var: 2.4364\n",
      "Epoch 18/1000\n",
      "319/319 [==============================] - 5s 17ms/step - loss: -480.5076 - I_var: 2.5080 - val_loss: -444.0270 - val_I_var: 2.4566\n",
      "Epoch 19/1000\n",
      "319/319 [==============================] - 5s 17ms/step - loss: -503.8229 - I_var: 2.5423 - val_loss: -464.3712 - val_I_var: 2.4865\n",
      "Epoch 20/1000\n",
      "319/319 [==============================] - 5s 17ms/step - loss: -520.2153 - I_var: 2.5661 - val_loss: -393.8557 - val_I_var: 2.3848\n",
      "Epoch 21/1000\n",
      "319/319 [==============================] - 5s 17ms/step - loss: -536.6516 - I_var: 2.5903 - val_loss: -494.7930 - val_I_var: 2.5314\n",
      "Epoch 22/1000\n",
      "319/319 [==============================] - 6s 17ms/step - loss: -560.6973 - I_var: 2.6255 - val_loss: -483.1694 - val_I_var: 2.5151\n",
      "Epoch 23/1000\n",
      "319/319 [==============================] - 6s 19ms/step - loss: -577.0204 - I_var: 2.6494 - val_loss: -476.9840 - val_I_var: 2.5064\n",
      "Epoch 24/1000\n",
      "319/319 [==============================] - 6s 18ms/step - loss: -590.8160 - I_var: 2.6698 - val_loss: -536.3411 - val_I_var: 2.5926\n",
      "Epoch 25/1000\n",
      "319/319 [==============================] - 6s 18ms/step - loss: -600.6218 - I_var: 2.6843 - val_loss: -527.0228 - val_I_var: 2.5795\n",
      "Epoch 26/1000\n",
      "319/319 [==============================] - 6s 17ms/step - loss: -612.4470 - I_var: 2.7020 - val_loss: -544.8611 - val_I_var: 2.6057\n",
      "Epoch 27/1000\n",
      "319/319 [==============================] - 6s 18ms/step - loss: -621.2119 - I_var: 2.7149 - val_loss: -558.5995 - val_I_var: 2.6259\n",
      "Epoch 28/1000\n",
      "319/319 [==============================] - 6s 18ms/step - loss: -623.8277 - I_var: 2.7191 - val_loss: -555.2064 - val_I_var: 2.6214\n",
      "Epoch 29/1000\n",
      "319/319 [==============================] - 6s 18ms/step - loss: -639.3131 - I_var: 2.7417 - val_loss: -566.3712 - val_I_var: 2.6380\n",
      "Epoch 30/1000\n",
      "319/319 [==============================] - 6s 18ms/step - loss: -647.3882 - I_var: 2.7539 - val_loss: -501.8781 - val_I_var: 2.5450\n",
      "Epoch 31/1000\n",
      "319/319 [==============================] - 6s 19ms/step - loss: -647.4739 - I_var: 2.7545 - val_loss: -539.4645 - val_I_var: 2.5998\n",
      "Epoch 32/1000\n",
      "319/319 [==============================] - 6s 18ms/step - loss: -654.3421 - I_var: 2.7646 - val_loss: -573.9577 - val_I_var: 2.6500\n",
      "Epoch 33/1000\n",
      "319/319 [==============================] - 6s 18ms/step - loss: -660.4808 - I_var: 2.7738 - val_loss: -541.7896 - val_I_var: 2.6039\n",
      "Epoch 34/1000\n",
      "319/319 [==============================] - 6s 18ms/step - loss: -657.8458 - I_var: 2.7703 - val_loss: -554.3622 - val_I_var: 2.6224\n",
      "Epoch 35/1000\n",
      "319/319 [==============================] - 6s 18ms/step - loss: -670.9774 - I_var: 2.7898 - val_loss: -536.0361 - val_I_var: 2.5962\n",
      "Epoch 36/1000\n",
      "319/319 [==============================] - 6s 19ms/step - loss: -666.8785 - I_var: 2.7841 - val_loss: -540.6801 - val_I_var: 2.6033\n",
      "Epoch 37/1000\n",
      "319/319 [==============================] - 6s 18ms/step - loss: -674.8193 - I_var: 2.7957 - val_loss: -549.4975 - val_I_var: 2.6164\n",
      "Epoch 38/1000\n",
      "319/319 [==============================] - 6s 18ms/step - loss: -684.1089 - I_var: 2.8098 - val_loss: -511.6162 - val_I_var: 2.5620\n",
      "Epoch 39/1000\n",
      "319/319 [==============================] - 6s 18ms/step - loss: -676.3325 - I_var: 2.7986 - val_loss: -576.9828 - val_I_var: 2.6566\n",
      "Epoch 40/1000\n",
      "319/319 [==============================] - 6s 18ms/step - loss: -689.1420 - I_var: 2.8175 - val_loss: -568.6230 - val_I_var: 2.6448\n",
      "Epoch 41/1000\n",
      "319/319 [==============================] - 6s 18ms/step - loss: -693.0160 - I_var: 2.8232 - val_loss: -550.4763 - val_I_var: 2.6190\n",
      "Epoch 42/1000\n",
      "319/319 [==============================] - 6s 18ms/step - loss: -688.3447 - I_var: 2.8170 - val_loss: -552.8265 - val_I_var: 2.6227\n",
      "Epoch 43/1000\n",
      "319/319 [==============================] - 6s 19ms/step - loss: -696.8750 - I_var: 2.8296 - val_loss: -554.2847 - val_I_var: 2.6250\n",
      "Epoch 44/1000\n",
      "319/319 [==============================] - 6s 18ms/step - loss: -699.2845 - I_var: 2.8332 - val_loss: -571.8852 - val_I_var: 2.6507\n",
      "Epoch 45/1000\n",
      "319/319 [==============================] - 6s 18ms/step - loss: -694.8515 - I_var: 2.8273 - val_loss: -568.4330 - val_I_var: 2.6462\n",
      "Epoch 46/1000\n",
      "319/319 [==============================] - 6s 18ms/step - loss: -706.4689 - I_var: 2.8444 - val_loss: -529.7030 - val_I_var: 2.5905\n",
      "Epoch 47/1000\n",
      "319/319 [==============================] - 6s 19ms/step - loss: -709.7616 - I_var: 2.8495 - val_loss: -540.1082 - val_I_var: 2.6058\n",
      "Epoch 48/1000\n",
      "319/319 [==============================] - 6s 18ms/step - loss: -707.8087 - I_var: 2.8469 - val_loss: -537.8191 - val_I_var: 2.6028\n",
      "Epoch 49/1000\n",
      "319/319 [==============================] - 6s 18ms/step - loss: -711.6666 - I_var: 2.8526 - val_loss: -493.1640 - val_I_var: 2.5384\n",
      "Epoch 50/1000\n",
      "319/319 [==============================] - 6s 18ms/step - loss: -712.2667 - I_var: 2.8538 - val_loss: -568.7296 - val_I_var: 2.6480\n",
      "Epoch 51/1000\n",
      "319/319 [==============================] - 7s 22ms/step - loss: -718.3599 - I_var: 2.8629 - val_loss: -567.1610 - val_I_var: 2.6459\n",
      "Epoch 52/1000\n",
      "319/319 [==============================] - 7s 21ms/step - loss: -720.6039 - I_var: 2.8665 - val_loss: -549.5606 - val_I_var: 2.6208\n",
      "Epoch 53/1000\n",
      "319/319 [==============================] - 7s 21ms/step - loss: -712.2266 - I_var: 2.8543 - val_loss: -561.1136 - val_I_var: 2.6377\n",
      "Epoch 54/1000\n",
      "319/319 [==============================] - 7s 20ms/step - loss: -724.8632 - I_var: 2.8731 - val_loss: -555.9337 - val_I_var: 2.6305\n",
      "Epoch 55/1000\n",
      "319/319 [==============================] - 6s 20ms/step - loss: -722.3021 - I_var: 2.8696 - val_loss: -537.9397 - val_I_var: 2.6048\n",
      "Epoch 56/1000\n"
     ]
    },
    {
     "name": "stdout",
     "output_type": "stream",
     "text": [
      "319/319 [==============================] - 6s 19ms/step - loss: -727.6527 - I_var: 2.8776 - val_loss: -562.9051 - val_I_var: 2.6411\n",
      "Epoch 57/1000\n",
      "319/319 [==============================] - 6s 19ms/step - loss: -733.7187 - I_var: 2.8866 - val_loss: -560.0010 - val_I_var: 2.6373\n",
      "Epoch 58/1000\n",
      "319/319 [==============================] - 6s 19ms/step - loss: -729.8021 - I_var: 2.8810 - val_loss: -553.6037 - val_I_var: 2.6281\n",
      "Epoch 59/1000\n",
      "319/319 [==============================] - 6s 19ms/step - loss: -733.0282 - I_var: 2.8860 - val_loss: -560.1406 - val_I_var: 2.6379\n",
      "Training time: 365.0 seconds\n"
     ]
    }
   ],
   "source": [
    "# Fit model to data\n",
    "history = model.fit(learning_rate=.0003,\n",
    "                    epochs=1000,\n",
    "                    batch_size=1000,\n",
    "                    early_stopping=True,\n",
    "                    early_stopping_patience=20,\n",
    "                    linear_initialization=False)"
   ]
  },
  {
   "cell_type": "code",
   "execution_count": 6,
   "metadata": {},
   "outputs": [
    {
     "name": "stdout",
     "output_type": "stream",
     "text": [
      "Model saved to these files:\n",
      "\tgb1_ge_blackbox.pickle\n",
      "\tgb1_ge_blackbox.h5\n"
     ]
    }
   ],
   "source": [
    "# Save model\n",
    "model.save(name)"
   ]
  },
  {
   "cell_type": "code",
   "execution_count": 7,
   "metadata": {},
   "outputs": [
    {
     "name": "stdout",
     "output_type": "stream",
     "text": [
      "Model loaded from these files:\n",
      "\tgb1_ge_blackbox.pickle\n",
      "\tgb1_ge_blackbox.h5\n"
     ]
    }
   ],
   "source": [
    "# Load model\n",
    "model = mavenn.load(name)"
   ]
  },
  {
   "cell_type": "code",
   "execution_count": 8,
   "metadata": {},
   "outputs": [
    {
     "name": "stdout",
     "output_type": "stream",
     "text": [
      "640\tgb1_ge_blackbox.h5\r\n",
      "16\tgb1_ge_blackbox.pickle\r\n"
     ]
    }
   ],
   "source": [
    "!du -k gb1_ge_blackbox.*"
   ]
  },
  {
   "cell_type": "code",
   "execution_count": 9,
   "metadata": {},
   "outputs": [],
   "source": [
    "# Subsample indices for easy plotting and information estimation\n",
    "N_test = len(test_df)\n",
    "ix = np.random.rand(N_test) < .1\n",
    "\n",
    "# Get x and y\n",
    "x = test_df['x'].values[ix]\n",
    "y = test_df['y'].values[ix]"
   ]
  },
  {
   "cell_type": "code",
   "execution_count": 10,
   "metadata": {},
   "outputs": [
    {
     "name": "stdout",
     "output_type": "stream",
     "text": [
      "On test data:\n",
      "I_var_test: 2.630 +- 0.019 bits\n",
      "I_pred_test: 2.719 +- 0.010 bits\n"
     ]
    },
    {
     "data": {
      "image/png": "[encoded data removed]",
      "text/plain": [
       "<Figure size 288x288 with 1 Axes>"
      ]
     },
     "metadata": {
      "needs_background": "light"
     },
     "output_type": "display_data"
    }
   ],
   "source": [
    "# Show training history\n",
    "print('On test data:')\n",
    "\n",
    "# Compute likelihood information\n",
    "I_var, dI_var =  model.I_varlihood(x=x, y=y)\n",
    "print(f'I_var_test: {I_var:.3f} +- {dI_var:.3f} bits') \n",
    "\n",
    "# Compute predictive information\n",
    "I_pred, dI_pred = model.I_predictive(x=x, y=y)\n",
    "print(f'I_pred_test: {I_pred:.3f} +- {dI_pred:.3f} bits')\n",
    "\n",
    "I_var_hist = model.history['I_var']\n",
    "val_I_var_hist = model.history['val_I_var']\n",
    "\n",
    "fig, ax = plt.subplots(1,1,figsize=[4,4])\n",
    "ax.plot(I_var_hist, label='I_var_train')\n",
    "ax.plot(val_I_var_hist, label='I_var_val')\n",
    "ax.axhline(I_var, color='C2', linestyle=':', label='I_var_test')\n",
    "ax.axhline(I_pred, color='C3', linestyle=':', label='I_pred_test')\n",
    "ax.legend()\n",
    "ax.set_xlabel('epochs')\n",
    "ax.set_ylabel('bits')\n",
    "ax.set_title('training hisotry')\n",
    "ax.set_ylim([0, I_pred*1.2]);"
   ]
  },
  {
   "cell_type": "code",
   "execution_count": 11,
   "metadata": {},
   "outputs": [
    {
     "data": {
      "image/png": "[encoded data removed]",
      "text/plain": [
       "<Figure size 288x288 with 1 Axes>"
      ]
     },
     "metadata": {
      "needs_background": "light"
     },
     "output_type": "display_data"
    }
   ],
   "source": [
    "# Compute phi and yhat values\n",
    "phi = model.x_to_phi(x)\n",
    "yhat = model.phi_to_yhat(phi)\n",
    "\n",
    "# Create grid for plotting yhat and yqs\n",
    "phi_lim = [-5, 2.5]\n",
    "phi_grid = np.linspace(phi_lim[0], phi_lim[1], 1000)\n",
    "yhat_grid = model.phi_to_yhat(phi_grid)\n",
    "yqs_grid = model.yhat_to_yq(yhat_grid, q=[.16,.84])\n",
    "\n",
    "# Create two panels\n",
    "fig, ax = plt.subplots(1, 1, figsize=[4, 4])\n",
    "\n",
    "# Illustrate measurement process with GE curve\n",
    "ax.scatter(phi, y, color='C0', s=5, alpha=.2, label='test data')\n",
    "ax.plot(phi_grid, yhat_grid, linewidth=2, color='C1',\n",
    "        label='$\\hat{y} = g(\\phi)$')\n",
    "ax.plot(phi_grid, yqs_grid[:, 0], linestyle='--', color='C1',\n",
    "        label='68% CI')\n",
    "ax.plot(phi_grid, yqs_grid[:, 1], linestyle='--', color='C1')\n",
    "ax.set_xlim(phi_lim)\n",
    "ax.set_xlabel('latent phenotype ($\\phi$)')\n",
    "ax.set_ylabel('measurement ($y$)')\n",
    "ax.set_title('measurement process')\n",
    "ax.legend()\n",
    "\n",
    "# Fix up plot\n",
    "fig.tight_layout()\n",
    "plt.show()"
   ]
  },
  {
   "cell_type": "code",
   "execution_count": 12,
   "metadata": {},
   "outputs": [
    {
     "data": {
      "text/html": [
       "<div>\n",
       "<style scoped>\n",
       "    .dataframe tbody tr th:only-of-type {\n",
       "        vertical-align: middle;\n",
       "    }\n",
       "\n",
       "    .dataframe tbody tr th {\n",
       "        vertical-align: top;\n",
       "    }\n",
       "\n",
       "    .dataframe thead th {\n",
       "        text-align: right;\n",
       "    }\n",
       "</style>\n",
       "<table border=\"1\" class=\"dataframe\">\n",
       "  <thead>\n",
       "    <tr style=\"text-align: right;\">\n",
       "      <th></th>\n",
       "      <th>training_set</th>\n",
       "      <th>yhat</th>\n",
       "      <th>phi</th>\n",
       "      <th>y</th>\n",
       "      <th>x</th>\n",
       "    </tr>\n",
       "  </thead>\n",
       "  <tbody>\n",
       "    <tr>\n",
       "      <th>0</th>\n",
       "      <td>True</td>\n",
       "      <td>-2.899758</td>\n",
       "      <td>0.145931</td>\n",
       "      <td>-2.122707</td>\n",
       "      <td>QYKLILNGKTLKGETTTEAVDAATAEKVFKQYANDNGVDGEWTYDD...</td>\n",
       "    </tr>\n",
       "    <tr>\n",
       "      <th>1</th>\n",
       "      <td>True</td>\n",
       "      <td>-3.200578</td>\n",
       "      <td>0.058505</td>\n",
       "      <td>-3.426010</td>\n",
       "      <td>QYKLILNGKTLKGETTTEAVDAATAEKVFKQYANDQGVDGEWTYDD...</td>\n",
       "    </tr>\n",
       "    <tr>\n",
       "      <th>2</th>\n",
       "      <td>False</td>\n",
       "      <td>-2.899758</td>\n",
       "      <td>0.145931</td>\n",
       "      <td>-2.912034</td>\n",
       "      <td>QYKLILNGKTLKGETTTEAVDAATAEKVFKQYANDNGVDGEWTYDD...</td>\n",
       "    </tr>\n",
       "    <tr>\n",
       "      <th>3</th>\n",
       "      <td>False</td>\n",
       "      <td>-8.453310</td>\n",
       "      <td>-1.777972</td>\n",
       "      <td>-9.120564</td>\n",
       "      <td>QYKLILNGKTLKGETTTEAVDAATAEKVFKQYANDNGVDGEWTYDD...</td>\n",
       "    </tr>\n",
       "    <tr>\n",
       "      <th>4</th>\n",
       "      <td>False</td>\n",
       "      <td>1.833500</td>\n",
       "      <td>1.861887</td>\n",
       "      <td>1.616187</td>\n",
       "      <td>QYKLILNGKTLKGETTTEAVDAETAEKVFKRYANDNGVDGEWTMDD...</td>\n",
       "    </tr>\n",
       "  </tbody>\n",
       "</table>\n",
       "</div>"
      ],
      "text/plain": [
       "   training_set      yhat       phi         y  \\\n",
       "0          True -2.899758  0.145931 -2.122707   \n",
       "1          True -3.200578  0.058505 -3.426010   \n",
       "2         False -2.899758  0.145931 -2.912034   \n",
       "3         False -8.453310 -1.777972 -9.120564   \n",
       "4         False  1.833500  1.861887  1.616187   \n",
       "\n",
       "                                                   x  \n",
       "0  QYKLILNGKTLKGETTTEAVDAATAEKVFKQYANDNGVDGEWTYDD...  \n",
       "1  QYKLILNGKTLKGETTTEAVDAATAEKVFKQYANDQGVDGEWTYDD...  \n",
       "2  QYKLILNGKTLKGETTTEAVDAATAEKVFKQYANDNGVDGEWTYDD...  \n",
       "3  QYKLILNGKTLKGETTTEAVDAATAEKVFKQYANDNGVDGEWTYDD...  \n",
       "4  QYKLILNGKTLKGETTTEAVDAETAEKVFKRYANDNGVDGEWTMDD...  "
      ]
     },
     "execution_count": 12,
     "metadata": {},
     "output_type": "execute_result"
    }
   ],
   "source": [
    "# Test simulate_data\n",
    "sim_df = model.simulate_dataset(N=1000)\n",
    "sim_df.head()"
   ]
  },
  {
   "cell_type": "code",
   "execution_count": null,
   "metadata": {},
   "outputs": [],
   "source": []
  }
 ],
 "metadata": {
  "kernelspec": {
   "display_name": "Python 3",
   "language": "python",
   "name": "python3"
  },
  "language_info": {
   "codemirror_mode": {
    "name": "ipython",
    "version": 3
   },
   "file_extension": ".py",
   "mimetype": "text/x-python",
   "name": "python",
   "nbconvert_exporter": "python",
   "pygments_lexer": "ipython3",
   "version": "3.7.4"
  }
 },
 "nbformat": 4,
 "nbformat_minor": 2
}
