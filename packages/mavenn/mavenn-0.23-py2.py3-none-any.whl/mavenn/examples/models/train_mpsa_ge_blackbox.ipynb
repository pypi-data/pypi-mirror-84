{
 "cells": [
  {
   "cell_type": "code",
   "execution_count": 1,
   "metadata": {},
   "outputs": [
    {
     "name": "stdout",
     "output_type": "stream",
     "text": [
      "['/Users/jkinney/github/mavenn/mavenn']\n"
     ]
    }
   ],
   "source": [
    "# Standard imports\n",
    "import pandas as pd\n",
    "import matplotlib.pyplot as plt\n",
    "import numpy as np\n",
    "\n",
    "# Insert path to mavenn beginning of path\n",
    "import os\n",
    "import sys\n",
    "abs_path_to_mavenn = os.path.abspath('../../../')\n",
    "sys.path.insert(0, abs_path_to_mavenn)\n",
    "\n",
    "# Load mavenn\n",
    "import mavenn\n",
    "print(mavenn.__path__)"
   ]
  },
  {
   "cell_type": "code",
   "execution_count": 2,
   "metadata": {},
   "outputs": [
    {
     "name": "stdout",
     "output_type": "stream",
     "text": [
      "test N: 6,249\n",
      "training + validation N: 24,234\n"
     ]
    },
    {
     "data": {
      "text/html": [
       "<div>\n",
       "<style scoped>\n",
       "    .dataframe tbody tr th:only-of-type {\n",
       "        vertical-align: middle;\n",
       "    }\n",
       "\n",
       "    .dataframe tbody tr th {\n",
       "        vertical-align: top;\n",
       "    }\n",
       "\n",
       "    .dataframe thead th {\n",
       "        text-align: right;\n",
       "    }\n",
       "</style>\n",
       "<table border=\"1\" class=\"dataframe\">\n",
       "  <thead>\n",
       "    <tr style=\"text-align: right;\">\n",
       "      <th></th>\n",
       "      <th>set</th>\n",
       "      <th>tot_ct</th>\n",
       "      <th>ex_ct</th>\n",
       "      <th>y</th>\n",
       "      <th>x</th>\n",
       "    </tr>\n",
       "  </thead>\n",
       "  <tbody>\n",
       "    <tr>\n",
       "      <th>0</th>\n",
       "      <td>training</td>\n",
       "      <td>28</td>\n",
       "      <td>2</td>\n",
       "      <td>-3.273018</td>\n",
       "      <td>GGAGUGAUG</td>\n",
       "    </tr>\n",
       "    <tr>\n",
       "      <th>1</th>\n",
       "      <td>training</td>\n",
       "      <td>315</td>\n",
       "      <td>7</td>\n",
       "      <td>-5.303781</td>\n",
       "      <td>AGUGUGCAA</td>\n",
       "    </tr>\n",
       "    <tr>\n",
       "      <th>2</th>\n",
       "      <td>validation</td>\n",
       "      <td>27</td>\n",
       "      <td>0</td>\n",
       "      <td>-4.807355</td>\n",
       "      <td>UAAGCUUUU</td>\n",
       "    </tr>\n",
       "    <tr>\n",
       "      <th>3</th>\n",
       "      <td>training</td>\n",
       "      <td>130</td>\n",
       "      <td>2</td>\n",
       "      <td>-5.448461</td>\n",
       "      <td>AUGGUCGGG</td>\n",
       "    </tr>\n",
       "    <tr>\n",
       "      <th>4</th>\n",
       "      <td>training</td>\n",
       "      <td>552</td>\n",
       "      <td>19</td>\n",
       "      <td>-4.789208</td>\n",
       "      <td>AGGGCAGGA</td>\n",
       "    </tr>\n",
       "    <tr>\n",
       "      <th>5</th>\n",
       "      <td>training</td>\n",
       "      <td>151</td>\n",
       "      <td>184</td>\n",
       "      <td>0.283454</td>\n",
       "      <td>AAGGUCCGC</td>\n",
       "    </tr>\n",
       "    <tr>\n",
       "      <th>6</th>\n",
       "      <td>training</td>\n",
       "      <td>88</td>\n",
       "      <td>4</td>\n",
       "      <td>-4.153805</td>\n",
       "      <td>CAGGCAAAC</td>\n",
       "    </tr>\n",
       "    <tr>\n",
       "      <th>7</th>\n",
       "      <td>training</td>\n",
       "      <td>105</td>\n",
       "      <td>5</td>\n",
       "      <td>-4.142958</td>\n",
       "      <td>GUGGCAAAU</td>\n",
       "    </tr>\n",
       "    <tr>\n",
       "      <th>8</th>\n",
       "      <td>validation</td>\n",
       "      <td>14</td>\n",
       "      <td>0</td>\n",
       "      <td>-3.906891</td>\n",
       "      <td>CAUGCAGCU</td>\n",
       "    </tr>\n",
       "    <tr>\n",
       "      <th>9</th>\n",
       "      <td>training</td>\n",
       "      <td>170</td>\n",
       "      <td>14</td>\n",
       "      <td>-3.510962</td>\n",
       "      <td>CAAGUCACU</td>\n",
       "    </tr>\n",
       "  </tbody>\n",
       "</table>\n",
       "</div>"
      ],
      "text/plain": [
       "          set  tot_ct  ex_ct         y          x\n",
       "0    training      28      2 -3.273018  GGAGUGAUG\n",
       "1    training     315      7 -5.303781  AGUGUGCAA\n",
       "2  validation      27      0 -4.807355  UAAGCUUUU\n",
       "3    training     130      2 -5.448461  AUGGUCGGG\n",
       "4    training     552     19 -4.789208  AGGGCAGGA\n",
       "5    training     151    184  0.283454  AAGGUCCGC\n",
       "6    training      88      4 -4.153805  CAGGCAAAC\n",
       "7    training     105      5 -4.142958  GUGGCAAAU\n",
       "8  validation      14      0 -3.906891  CAUGCAGCU\n",
       "9    training     170     14 -3.510962  CAAGUCACU"
      ]
     },
     "execution_count": 2,
     "metadata": {},
     "output_type": "execute_result"
    }
   ],
   "source": [
    "# Load example data\n",
    "data_df = mavenn.load_example_dataset('mpsa')\n",
    "\n",
    "# Separate test from data_df\n",
    "ix_test = data_df['set']=='test'\n",
    "test_df = data_df[ix_test].reset_index(drop=True)\n",
    "print(f'test N: {len(test_df):,}')\n",
    "\n",
    "# Remove test data from data_df\n",
    "data_df = data_df[~ix_test].reset_index(drop=True)\n",
    "print(f'training + validation N: {len(data_df):,}')\n",
    "data_df.head(10)"
   ]
  },
  {
   "cell_type": "code",
   "execution_count": 3,
   "metadata": {},
   "outputs": [
    {
     "name": "stdout",
     "output_type": "stream",
     "text": [
      "N = 24,234 observations set as training data.\n",
      "Using 24.8% for validation.\n",
      "Data shuffled.\n",
      "Time to set data: 0.395 sec.\n",
      "Epoch 1/1000\n",
      "365/365 [==============================] - 2s 4ms/step - loss: 73.1544 - I_var: -0.5006 - val_loss: 65.7612 - val_I_var: -0.3440\n",
      "Epoch 2/1000\n",
      "365/365 [==============================] - 1s 3ms/step - loss: 60.2054 - I_var: -0.2111 - val_loss: 55.2099 - val_I_var: -0.0884\n",
      "Epoch 3/1000\n",
      "365/365 [==============================] - 1s 3ms/step - loss: 50.4333 - I_var: 0.0401 - val_loss: 46.2032 - val_I_var: 0.1574\n",
      "Epoch 4/1000\n",
      "365/365 [==============================] - 1s 3ms/step - loss: 44.6191 - I_var: 0.1991 - val_loss: 42.7563 - val_I_var: 0.2495\n",
      "Epoch 5/1000\n",
      "365/365 [==============================] - 1s 3ms/step - loss: 40.9330 - I_var: 0.3021 - val_loss: 39.5359 - val_I_var: 0.3430\n",
      "Epoch 6/1000\n",
      "365/365 [==============================] - 1s 3ms/step - loss: 38.9896 - I_var: 0.3587 - val_loss: 39.2046 - val_I_var: 0.3513\n",
      "Epoch 7/1000\n",
      "365/365 [==============================] - 1s 3ms/step - loss: 37.8662 - I_var: 0.3894 - val_loss: 37.7786 - val_I_var: 0.3926\n",
      "Epoch 8/1000\n",
      "365/365 [==============================] - 1s 3ms/step - loss: 37.2656 - I_var: 0.4070 - val_loss: 37.3302 - val_I_var: 0.4049\n",
      "Epoch 9/1000\n",
      "365/365 [==============================] - 1s 3ms/step - loss: 36.6130 - I_var: 0.4257 - val_loss: 37.0004 - val_I_var: 0.4140\n",
      "Epoch 10/1000\n",
      "365/365 [==============================] - 1s 3ms/step - loss: 36.3933 - I_var: 0.4312 - val_loss: 36.5899 - val_I_var: 0.4253\n",
      "Epoch 11/1000\n",
      "365/365 [==============================] - 1s 3ms/step - loss: 35.9579 - I_var: 0.4426 - val_loss: 37.2634 - val_I_var: 0.4055\n",
      "Epoch 12/1000\n",
      "365/365 [==============================] - 1s 3ms/step - loss: 35.7171 - I_var: 0.4495 - val_loss: 37.3471 - val_I_var: 0.4030\n",
      "Epoch 13/1000\n",
      "365/365 [==============================] - 1s 3ms/step - loss: 35.5459 - I_var: 0.4543 - val_loss: 37.2405 - val_I_var: 0.4051\n",
      "Epoch 14/1000\n",
      "365/365 [==============================] - 1s 3ms/step - loss: 35.4722 - I_var: 0.4560 - val_loss: 36.1615 - val_I_var: 0.4365\n",
      "Epoch 15/1000\n",
      "365/365 [==============================] - 1s 3ms/step - loss: 34.9419 - I_var: 0.4723 - val_loss: 36.2488 - val_I_var: 0.4336\n",
      "Epoch 16/1000\n",
      "365/365 [==============================] - 1s 3ms/step - loss: 34.9093 - I_var: 0.4718 - val_loss: 36.7720 - val_I_var: 0.4185\n",
      "Epoch 17/1000\n",
      "365/365 [==============================] - 1s 3ms/step - loss: 35.0158 - I_var: 0.4682 - val_loss: 35.6717 - val_I_var: 0.4502\n",
      "Epoch 18/1000\n",
      "365/365 [==============================] - 1s 3ms/step - loss: 34.5983 - I_var: 0.4825 - val_loss: 35.8071 - val_I_var: 0.4461\n",
      "Epoch 19/1000\n",
      "365/365 [==============================] - 1s 3ms/step - loss: 34.5371 - I_var: 0.4829 - val_loss: 36.1123 - val_I_var: 0.4374\n",
      "Epoch 20/1000\n",
      "365/365 [==============================] - 1s 3ms/step - loss: 34.6074 - I_var: 0.4807 - val_loss: 35.5960 - val_I_var: 0.4519\n",
      "Epoch 21/1000\n",
      "365/365 [==============================] - 1s 3ms/step - loss: 34.2289 - I_var: 0.4920 - val_loss: 35.8481 - val_I_var: 0.4441\n",
      "Epoch 22/1000\n",
      "365/365 [==============================] - 1s 3ms/step - loss: 34.4880 - I_var: 0.4845 - val_loss: 35.9503 - val_I_var: 0.4412\n",
      "Epoch 23/1000\n",
      "365/365 [==============================] - 1s 3ms/step - loss: 34.1166 - I_var: 0.4955 - val_loss: 35.7736 - val_I_var: 0.4467\n",
      "Epoch 24/1000\n",
      "365/365 [==============================] - 1s 3ms/step - loss: 33.8861 - I_var: 0.5009 - val_loss: 35.2711 - val_I_var: 0.4608\n",
      "Epoch 25/1000\n",
      "365/365 [==============================] - 1s 3ms/step - loss: 33.8190 - I_var: 0.5030 - val_loss: 36.0020 - val_I_var: 0.4394\n",
      "Epoch 26/1000\n",
      "365/365 [==============================] - 1s 3ms/step - loss: 33.8379 - I_var: 0.5025 - val_loss: 35.4974 - val_I_var: 0.4540\n",
      "Epoch 27/1000\n",
      "365/365 [==============================] - 1s 3ms/step - loss: 33.9860 - I_var: 0.4982 - val_loss: 36.1211 - val_I_var: 0.4363\n",
      "Epoch 28/1000\n",
      "365/365 [==============================] - 1s 3ms/step - loss: 33.8302 - I_var: 0.5026 - val_loss: 36.4323 - val_I_var: 0.4267\n",
      "Epoch 29/1000\n",
      "365/365 [==============================] - 2s 4ms/step - loss: 33.6810 - I_var: 0.5051 - val_loss: 35.7791 - val_I_var: 0.4456\n",
      "Epoch 30/1000\n",
      "365/365 [==============================] - 1s 3ms/step - loss: 33.5752 - I_var: 0.5086 - val_loss: 35.9470 - val_I_var: 0.4410\n",
      "Epoch 31/1000\n",
      "365/365 [==============================] - 1s 3ms/step - loss: 33.9084 - I_var: 0.5002 - val_loss: 36.2794 - val_I_var: 0.4311\n",
      "Epoch 32/1000\n",
      "365/365 [==============================] - 1s 3ms/step - loss: 33.4139 - I_var: 0.5138 - val_loss: 36.0384 - val_I_var: 0.4380\n",
      "Epoch 33/1000\n",
      "365/365 [==============================] - 1s 3ms/step - loss: 33.4456 - I_var: 0.5143 - val_loss: 35.5465 - val_I_var: 0.4524\n",
      "Epoch 34/1000\n",
      "365/365 [==============================] - 1s 3ms/step - loss: 33.3299 - I_var: 0.5157 - val_loss: 35.7209 - val_I_var: 0.4472\n",
      "Training time: 42.9 seconds\n",
      "Model saved to these files:\n",
      "\tmpsa_ge_blackbox.pickle\n",
      "\tmpsa_ge_blackbox.h5\n"
     ]
    }
   ],
   "source": [
    "# Get sequence length\n",
    "L = len(data_df['x'][0])\n",
    "\n",
    "# Set filename\n",
    "name = 'mpsa_ge_blackbox'\n",
    "\n",
    "# Define model\n",
    "model = mavenn.Model(regression_type='GE',\n",
    "                     L=L,\n",
    "                     alphabet='rna',\n",
    "                     gpmap_type='blackbox',\n",
    "                     gpmap_kwargs={\n",
    "                         'hidden_layer_sizes':[10]*5,\n",
    "                         'features':'pairwise'\n",
    "                     },\n",
    "                     ge_noise_model_type='SkewedT',\n",
    "                     ge_heteroskedasticity_order=2)\n",
    "\n",
    "# Set training data\n",
    "model.set_data(x=data_df['x'],\n",
    "               y=data_df['y'],\n",
    "               validation_flags=(data_df['set']=='validation'),\n",
    "               shuffle=True)\n",
    "\n",
    "# Fit model to data\n",
    "model.fit(learning_rate=.0005,\n",
    "          epochs=1000,\n",
    "          batch_size=50,\n",
    "          early_stopping=True,\n",
    "          early_stopping_patience=10,\n",
    "          linear_initialization=False)\n",
    "\n",
    "# Save models\n",
    "model.save(name)"
   ]
  },
  {
   "cell_type": "code",
   "execution_count": 4,
   "metadata": {},
   "outputs": [
    {
     "name": "stdout",
     "output_type": "stream",
     "text": [
      "Model loaded from these files:\n",
      "\tmpsa_ge_blackbox.pickle\n",
      "\tmpsa_ge_blackbox.h5\n"
     ]
    }
   ],
   "source": [
    "# Load model\n",
    "model = mavenn.load(name)"
   ]
  },
  {
   "cell_type": "code",
   "execution_count": 5,
   "metadata": {},
   "outputs": [
    {
     "name": "stdout",
     "output_type": "stream",
     "text": [
      "56\tmpsa_ge_blackbox.h5\r\n",
      "4\tmpsa_ge_blackbox.pickle\r\n"
     ]
    }
   ],
   "source": [
    "!du -k $name*"
   ]
  },
  {
   "cell_type": "code",
   "execution_count": 6,
   "metadata": {},
   "outputs": [],
   "source": [
    "# Get x and y\n",
    "x = test_df['x']\n",
    "y = test_df['y']"
   ]
  },
  {
   "cell_type": "code",
   "execution_count": 7,
   "metadata": {},
   "outputs": [
    {
     "name": "stdout",
     "output_type": "stream",
     "text": [
      "On test data:\n",
      "I_var_test: 0.432 +- 0.024 bits\n",
      "I_pred_test: 0.473 +- 0.017 bits\n"
     ]
    },
    {
     "data": {
      "image/png": "[encoded data removed]",
      "text/plain": [
       "<Figure size 288x288 with 1 Axes>"
      ]
     },
     "metadata": {
      "needs_background": "light"
     },
     "output_type": "display_data"
    }
   ],
   "source": [
    "# Show training history\n",
    "print('On test data:')\n",
    "\n",
    "# Compute likelihood information\n",
    "I_var, dI_var =  model.I_varlihood(x=x, y=y)\n",
    "print(f'I_var_test: {I_var:.3f} +- {dI_var:.3f} bits') \n",
    "\n",
    "# Compute predictive information\n",
    "I_pred, dI_pred = model.I_predictive(x=x, y=y)\n",
    "print(f'I_pred_test: {I_pred:.3f} +- {dI_pred:.3f} bits')\n",
    "\n",
    "I_var_hist = model.history['I_var']\n",
    "val_I_var_hist = model.history['val_I_var']\n",
    "\n",
    "fig, ax = plt.subplots(1,1,figsize=[4,4])\n",
    "ax.plot(I_var_hist, label='I_var_train')\n",
    "ax.plot(val_I_var_hist, label='I_var_val')\n",
    "ax.axhline(I_var, color='C2', linestyle=':', label='I_var_test')\n",
    "ax.axhline(I_pred, color='C3', linestyle=':', label='I_pred_test')\n",
    "ax.legend()\n",
    "ax.set_xlabel('epochs')\n",
    "ax.set_ylabel('bits')\n",
    "ax.set_title('training hisotry')\n",
    "ax.set_ylim([0, I_pred*1.2]);"
   ]
  },
  {
   "cell_type": "code",
   "execution_count": 8,
   "metadata": {},
   "outputs": [
    {
     "data": {
      "image/png": "[encoded data removed]",
      "text/plain": [
       "<Figure size 288x288 with 1 Axes>"
      ]
     },
     "metadata": {
      "needs_background": "light"
     },
     "output_type": "display_data"
    }
   ],
   "source": [
    "# Compute phi and yhat values\n",
    "phi = model.x_to_phi(x)\n",
    "yhat = model.phi_to_yhat(phi)\n",
    "\n",
    "# Create grid for plotting yhat and yqs\n",
    "phi_lim = [min(phi), max(phi)]\n",
    "phi_grid = np.linspace(phi_lim[0], phi_lim[1], 1000)\n",
    "yhat_grid = model.phi_to_yhat(phi_grid)\n",
    "yqs_grid = model.yhat_to_yq(yhat_grid, q=[.16,.84])\n",
    "\n",
    "# Create two panels\n",
    "fig, ax = plt.subplots(1, 1, figsize=[4, 4])\n",
    "\n",
    "# Illustrate measurement process with GE curve\n",
    "ax.scatter(phi, y, color='C0', s=5, alpha=.2, label='test data')\n",
    "ax.plot(phi_grid, yhat_grid, linewidth=2, color='C1',\n",
    "        label='$\\hat{y} = g(\\phi)$')\n",
    "ax.plot(phi_grid, yqs_grid[:, 0], linestyle='--', color='C1',\n",
    "        label='68% CI')\n",
    "ax.plot(phi_grid, yqs_grid[:, 1], linestyle='--', color='C1')\n",
    "ax.set_xlim(phi_lim)\n",
    "ax.set_xlabel('latent phenotype ($\\phi$)')\n",
    "ax.set_ylabel('measurement ($y$)')\n",
    "ax.set_title('measurement process')\n",
    "ax.legend()\n",
    "\n",
    "# Fix up plot\n",
    "fig.tight_layout()\n",
    "plt.show()"
   ]
  },
  {
   "cell_type": "code",
   "execution_count": 9,
   "metadata": {},
   "outputs": [
    {
     "data": {
      "text/html": [
       "<div>\n",
       "<style scoped>\n",
       "    .dataframe tbody tr th:only-of-type {\n",
       "        vertical-align: middle;\n",
       "    }\n",
       "\n",
       "    .dataframe tbody tr th {\n",
       "        vertical-align: top;\n",
       "    }\n",
       "\n",
       "    .dataframe thead th {\n",
       "        text-align: right;\n",
       "    }\n",
       "</style>\n",
       "<table border=\"1\" class=\"dataframe\">\n",
       "  <thead>\n",
       "    <tr style=\"text-align: right;\">\n",
       "      <th></th>\n",
       "      <th>training_set</th>\n",
       "      <th>yhat</th>\n",
       "      <th>phi</th>\n",
       "      <th>y</th>\n",
       "      <th>x</th>\n",
       "    </tr>\n",
       "  </thead>\n",
       "  <tbody>\n",
       "    <tr>\n",
       "      <th>0</th>\n",
       "      <td>True</td>\n",
       "      <td>-4.356199</td>\n",
       "      <td>-0.290727</td>\n",
       "      <td>-3.870915</td>\n",
       "      <td>CUAGUGCUG</td>\n",
       "    </tr>\n",
       "    <tr>\n",
       "      <th>1</th>\n",
       "      <td>True</td>\n",
       "      <td>-4.016304</td>\n",
       "      <td>-0.086630</td>\n",
       "      <td>-4.472805</td>\n",
       "      <td>GUAGCCGCC</td>\n",
       "    </tr>\n",
       "    <tr>\n",
       "      <th>2</th>\n",
       "      <td>False</td>\n",
       "      <td>-4.408174</td>\n",
       "      <td>-0.321987</td>\n",
       "      <td>-4.466979</td>\n",
       "      <td>AACGUAAUA</td>\n",
       "    </tr>\n",
       "    <tr>\n",
       "      <th>3</th>\n",
       "      <td>True</td>\n",
       "      <td>-4.044713</td>\n",
       "      <td>-0.103672</td>\n",
       "      <td>-3.751093</td>\n",
       "      <td>CAUGUACCU</td>\n",
       "    </tr>\n",
       "    <tr>\n",
       "      <th>4</th>\n",
       "      <td>True</td>\n",
       "      <td>-4.262994</td>\n",
       "      <td>-0.234709</td>\n",
       "      <td>-2.761490</td>\n",
       "      <td>AGUGCAUCC</td>\n",
       "    </tr>\n",
       "  </tbody>\n",
       "</table>\n",
       "</div>"
      ],
      "text/plain": [
       "   training_set      yhat       phi         y          x\n",
       "0          True -4.356199 -0.290727 -3.870915  CUAGUGCUG\n",
       "1          True -4.016304 -0.086630 -4.472805  GUAGCCGCC\n",
       "2         False -4.408174 -0.321987 -4.466979  AACGUAAUA\n",
       "3          True -4.044713 -0.103672 -3.751093  CAUGUACCU\n",
       "4          True -4.262994 -0.234709 -2.761490  AGUGCAUCC"
      ]
     },
     "execution_count": 9,
     "metadata": {},
     "output_type": "execute_result"
    }
   ],
   "source": [
    "# Test simulate_data\n",
    "sim_df = model.simulate_dataset(N=1000)\n",
    "sim_df.head()"
   ]
  },
  {
   "cell_type": "code",
   "execution_count": 10,
   "metadata": {},
   "outputs": [
    {
     "data": {
      "text/plain": [
       "[<matplotlib.lines.Line2D at 0x14aadeed0>]"
      ]
     },
     "execution_count": 10,
     "metadata": {},
     "output_type": "execute_result"
    },
    {
     "data": {
      "image/png": "[encoded data removed]",
      "text/plain": [
       "<Figure size 1080x360 with 3 Axes>"
      ]
     },
     "metadata": {
      "needs_background": "light"
     },
     "output_type": "display_data"
    }
   ],
   "source": [
    "# Is clip by value causing a problem?\n",
    "yhat_fixed = (yhat_grid - model.y_mean)/model.y_std\n",
    "a, b, s = model.layer_noise_model.compute_params(yhat_fixed)\n",
    "\n",
    "fig, axs = plt.subplots(1,3,figsize=[15,5])\n",
    "\n",
    "axs[0].plot(yhat_fixed, a)\n",
    "axs[1].plot(yhat_fixed, b)\n",
    "axs[2].plot(yhat_fixed, s)"
   ]
  },
  {
   "cell_type": "code",
   "execution_count": null,
   "metadata": {},
   "outputs": [],
   "source": []
  }
 ],
 "metadata": {
  "kernelspec": {
   "display_name": "Python 3",
   "language": "python",
   "name": "python3"
  },
  "language_info": {
   "codemirror_mode": {
    "name": "ipython",
    "version": 3
   },
   "file_extension": ".py",
   "mimetype": "text/x-python",
   "name": "python",
   "nbconvert_exporter": "python",
   "pygments_lexer": "ipython3",
   "version": "3.7.4"
  }
 },
 "nbformat": 4,
 "nbformat_minor": 2
}
